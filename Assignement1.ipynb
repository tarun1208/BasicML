{
  "nbformat": 4,
  "nbformat_minor": 0,
  "metadata": {
    "colab": {
      "provenance": [],
      "include_colab_link": true
    },
    "kernelspec": {
      "name": "python3",
      "display_name": "Python 3"
    },
    "language_info": {
      "name": "python"
    }
  },
  "cells": [
    {
      "cell_type": "markdown",
      "metadata": {
        "id": "view-in-github",
        "colab_type": "text"
      },
      "source": [
        "<a href=\"https://colab.research.google.com/github/tarun1208/BasicML/blob/main/Assignement1.ipynb\" target=\"_parent\"><img src=\"https://colab.research.google.com/assets/colab-badge.svg\" alt=\"Open In Colab\"/></a>"
      ]
    },
    {
      "cell_type": "markdown",
      "source": [
        "Q1. Perform arithmetic operations on NumPy arrays."
      ],
      "metadata": {
        "id": "ZjayDfVucUuj"
      }
    },
    {
      "cell_type": "code",
      "execution_count": null,
      "metadata": {
        "colab": {
          "base_uri": "https://localhost:8080/"
        },
        "id": "EHP1ZQljb5bE",
        "outputId": "6f4d6e57-16d5-498d-ce11-8b00c186e331"
      },
      "outputs": [
        {
          "output_type": "stream",
          "name": "stdout",
          "text": [
            "[12 25 39 44]\n",
            "-------------------------------------------\n",
            "[ 8 15 21 36]\n",
            "-------------------------------------------\n",
            "[ 20 100 270 160]\n",
            "-------------------------------------------\n",
            "[ 5.          4.          3.33333333 10.        ]\n",
            "-------------------------------------------\n",
            "[0 0 3 0]\n"
          ]
        }
      ],
      "source": [
        "import numpy as np\n",
        "arr1= np.array([10,20,30,40])\n",
        "arr2= np.array([2,5,9,4])\n",
        "\n",
        "#Addition\n",
        "print(arr1+arr2)\n",
        "print('-------------------------------------------')\n",
        "\n",
        "#Subtraction\n",
        "print(arr1-arr2)\n",
        "\n",
        "print('-------------------------------------------')\n",
        "#Multiplication\n",
        "print(arr1*arr2)\n",
        "\n",
        "print('-------------------------------------------')\n",
        "\n",
        "#Division\n",
        "print(arr1/arr2)\n",
        "print('-------------------------------------------')\n",
        "\n",
        "#Modular Division\n",
        "print(arr1%arr2)"
      ]
    },
    {
      "cell_type": "markdown",
      "source": [
        "Q2. Write a script to compute the mean and standard deviation of a NumPy array."
      ],
      "metadata": {
        "id": "VVe_7FaWeGGe"
      }
    },
    {
      "cell_type": "code",
      "source": [
        "import numpy as np\n",
        "\n",
        "arr=np.array([10,20,30,40])\n",
        "\n",
        "#Mean\n",
        "print(np.mean(arr))\n",
        "\n",
        "#Standard Deviation\n",
        "print(np.std(arr))"
      ],
      "metadata": {
        "colab": {
          "base_uri": "https://localhost:8080/"
        },
        "id": "7VNiDUfzeJsh",
        "outputId": "2967e7a3-032e-44be-bd98-52cb0ce79fb7"
      },
      "execution_count": null,
      "outputs": [
        {
          "output_type": "stream",
          "name": "stdout",
          "text": [
            "25.0\n",
            "11.180339887498949\n"
          ]
        }
      ]
    },
    {
      "cell_type": "markdown",
      "source": [
        "Q3. Create a NumPy array of integers from 10 to 50 with a step size of 5."
      ],
      "metadata": {
        "id": "WneLT9SHfhTS"
      }
    },
    {
      "cell_type": "code",
      "source": [
        "import numpy as np\n",
        "\n",
        "arr=np.arange(10, 51, 5)\n",
        "\n",
        "print(arr)"
      ],
      "metadata": {
        "colab": {
          "base_uri": "https://localhost:8080/"
        },
        "id": "fY6OgF20fguC",
        "outputId": "e1eac14c-ce83-45a9-9172-d460a2ccdf54"
      },
      "execution_count": null,
      "outputs": [
        {
          "output_type": "stream",
          "name": "stdout",
          "text": [
            "[10 15 20 25 30 35 40 45 50]\n"
          ]
        }
      ]
    },
    {
      "cell_type": "markdown",
      "source": [
        "Q4. Reshape the array into a 2x4 matrix."
      ],
      "metadata": {
        "id": "bJTcwCLCgS4W"
      }
    },
    {
      "cell_type": "code",
      "source": [
        "import numpy as np\n",
        "\n",
        "arr=np.arange(10, 51, 5)\n",
        "print(arr)\n",
        "\n",
        "#Reshape\n",
        "a = print(arr.reshape(3,3))"
      ],
      "metadata": {
        "colab": {
          "base_uri": "https://localhost:8080/"
        },
        "id": "zZ_bUXGGgSmF",
        "outputId": "6fa90085-8ed3-4b14-8157-12100112bb6a"
      },
      "execution_count": null,
      "outputs": [
        {
          "output_type": "stream",
          "name": "stdout",
          "text": [
            "[10 15 20 25 30 35 40 45 50]\n",
            "[[10 15 20]\n",
            " [25 30 35]\n",
            " [40 45 50]]\n",
            "None\n"
          ]
        }
      ]
    },
    {
      "cell_type": "markdown",
      "source": [
        "Q5. Given the array arr = np.array([[1, 2, 3], [4, 5, 6], [7, 8, 9]]):\n",
        "\n",
        "• Extract the sub-matrix containing the last two rows and first two columns\n",
        "\n",
        "• Replace all elements greater than 4 with 0."
      ],
      "metadata": {
        "id": "gnTBpBsJigdg"
      }
    },
    {
      "cell_type": "code",
      "source": [
        "import numpy as np\n",
        "\n",
        "arr = np.array([[1, 2, 3], [4, 5, 6], [7, 8, 9]])\n",
        "\n",
        "# Extract the sub-matrix containing the last two rows and first two columns\n",
        "print(arr[1:, :2])\n",
        "print('-------------------------------------------')\n",
        "\n",
        "#Extract the sub-matrix containing the last two rows and first two columns\n",
        "arr[arr > 4] = 0\n",
        "print(arr)\n"
      ],
      "metadata": {
        "colab": {
          "base_uri": "https://localhost:8080/"
        },
        "id": "F7GTrDhki0FV",
        "outputId": "52806ff1-029e-4400-a442-9ee3c1c75ddb"
      },
      "execution_count": null,
      "outputs": [
        {
          "output_type": "stream",
          "name": "stdout",
          "text": [
            "[[4 5]\n",
            " [7 8]]\n",
            "[[1 2 3]\n",
            " [4 0 0]\n",
            " [0 0 0]]\n"
          ]
        }
      ]
    },
    {
      "cell_type": "markdown",
      "source": [
        "Q6. Create two 1D arrays:\n",
        "\n",
        "• a = np.array([1, 2, 3])\n",
        "\n",
        "• b = np.array([4, 5, 6])\n",
        "\n",
        "• Perform element-wise addition, multiplication, and division."
      ],
      "metadata": {
        "id": "-ekwoYgEksIT"
      }
    },
    {
      "cell_type": "code",
      "source": [
        "import numpy as np\n",
        "\n",
        "a = np.array([1, 2, 3])\n",
        "b = np.array([4, 5, 6])\n",
        "\n",
        "#Addition\n",
        "for i in range(len(a)):\n",
        "  print(a[i]+b[i])\n",
        "print('-------------------------------------------')\n",
        "\n",
        "#Multiplication\n",
        "for i in range(len(a)):\n",
        "  print(a[i]*b[i])\n",
        "print('-------------------------------------------')\n",
        "\n",
        "#Division\n",
        "for i in range(len(a)):\n",
        "  print(a[i]/b[i])"
      ],
      "metadata": {
        "colab": {
          "base_uri": "https://localhost:8080/"
        },
        "id": "YqAicoWKkrmQ",
        "outputId": "133b63f5-a334-42a8-f04f-3541047679fd"
      },
      "execution_count": null,
      "outputs": [
        {
          "output_type": "stream",
          "name": "stdout",
          "text": [
            "5\n",
            "7\n",
            "9\n",
            "-------------------------------------------\n",
            "4\n",
            "10\n",
            "18\n",
            "-------------------------------------------\n",
            "0.25\n",
            "0.4\n",
            "0.5\n"
          ]
        }
      ]
    },
    {
      "cell_type": "markdown",
      "source": [
        "Q7. Create a random NumPy array of size (4, 4). Compute:\n",
        "\n",
        "• Mean of each column.\n",
        "\n",
        "• Maximum value of the entire array."
      ],
      "metadata": {
        "id": "Ky4hLmZ1nkY9"
      }
    },
    {
      "cell_type": "code",
      "source": [
        "import numpy as np\n",
        "\n",
        "#Random Array\n",
        "arr = np.random.rand(4,4)\n",
        "print(arr)\n",
        "print('-------------------------------------------')\n",
        "\n",
        "#Mean of each column.\n",
        "print(np.mean(arr, axis=0))\n",
        "print('-------------------------------------------')\n",
        "\n",
        "#Maximum value of the entire array.\n",
        "print(np.max(arr))"
      ],
      "metadata": {
        "colab": {
          "base_uri": "https://localhost:8080/"
        },
        "id": "VKCneQ1-nrso",
        "outputId": "f514a842-f64e-48a2-d005-ffc87ece2c6b"
      },
      "execution_count": null,
      "outputs": [
        {
          "output_type": "stream",
          "name": "stdout",
          "text": [
            "[[0.07835354 0.0772939  0.2184954  0.90657463]\n",
            " [0.83966391 0.6961681  0.26702701 0.21997265]\n",
            " [0.13620955 0.3949417  0.84384857 0.30419065]\n",
            " [0.27545254 0.99817253 0.54300208 0.39912364]]\n",
            "-------------------------------------------\n",
            "[0.33241989 0.54164406 0.46809327 0.45746539]\n",
            "-------------------------------------------\n",
            "0.9981725328746023\n"
          ]
        }
      ]
    },
    {
      "cell_type": "markdown",
      "source": [
        "Q8. Given the array arr = np.array([1, 2, 3, 4]), add 10 to each element and multiply\n",
        "the result by 2."
      ],
      "metadata": {
        "id": "2wQtVCVqo2pG"
      }
    },
    {
      "cell_type": "code",
      "source": [
        "import numpy as np\n",
        "\n",
        "arr = np.array([1, 2, 3, 4])\n",
        "\n",
        "#a=arr+10\n",
        "#print(a*2)\n",
        "print((arr+10)*2)"
      ],
      "metadata": {
        "colab": {
          "base_uri": "https://localhost:8080/"
        },
        "id": "cfrcmC4ro2TQ",
        "outputId": "699d9b39-36f9-48e9-c2a3-5cf2818e47e6"
      },
      "execution_count": null,
      "outputs": [
        {
          "output_type": "stream",
          "name": "stdout",
          "text": [
            "[22 24 26 28]\n"
          ]
        }
      ]
    },
    {
      "cell_type": "markdown",
      "source": [
        "Q9. Perform advanced slicing and indexing on a 3D array.\n",
        "\n",
        "Create a 3D NumPy array arr of shape (3, 4, 5) with random integers ranging from 1 to 100. Perform the following:\n",
        "\n",
        "• Extract the second \"layer\" (i.e., the second 2D array) in the first dimension.\n",
        "\n",
        "• Extract the first two rows and the last three columns from each \"layer.\"\n",
        "\n",
        "• Replace all elements divisible by 3 with -1"
      ],
      "metadata": {
        "id": "c6Lt7PGBp4BA"
      }
    },
    {
      "cell_type": "code",
      "source": [
        "import numpy as np\n",
        "\n",
        "#Creatinr 3D array of shape(3,4,5) with range from 1 to 100\n",
        "arr = np.random.randint(1,101, size=(3,4,5))\n",
        "print(arr)\n",
        "print('-------------------------------------------')\n",
        "\n",
        "#first two row last three columns\n",
        "print(arr[: , :2, -3:])\n",
        "print('-------------------------------------------')\n",
        "\n",
        "#replace all elements divisible by 3 with -1\n",
        "arr[arr%3==0] = -1\n",
        "print(arr)"
      ],
      "metadata": {
        "colab": {
          "base_uri": "https://localhost:8080/"
        },
        "id": "HkMQ659cqIEC",
        "outputId": "a164b5a7-71fc-4bf5-a530-9f409c00d800"
      },
      "execution_count": null,
      "outputs": [
        {
          "output_type": "stream",
          "name": "stdout",
          "text": [
            "[[[ 33   3  56  87  24]\n",
            "  [ 45  50  58  75  95]\n",
            "  [ 16  70   5  89  73]\n",
            "  [ 34  55  92  22   5]]\n",
            "\n",
            " [[ 13   7  41  52  27]\n",
            "  [ 29  50  11  97  42]\n",
            "  [ 30  86  66  60   3]\n",
            "  [ 25  27   4  25  31]]\n",
            "\n",
            " [[  2   3  23  45  89]\n",
            "  [ 48  15  30  41  25]\n",
            "  [100  71  99  26  80]\n",
            "  [ 97  99  18  56  53]]]\n",
            "-------------------------------------------\n",
            "[[[56 87 24]\n",
            "  [58 75 95]]\n",
            "\n",
            " [[41 52 27]\n",
            "  [11 97 42]]\n",
            "\n",
            " [[23 45 89]\n",
            "  [30 41 25]]]\n",
            "-------------------------------------------\n",
            "[[[ -1  -1  56  -1  -1]\n",
            "  [ -1  50  58  -1  95]\n",
            "  [ 16  70   5  89  73]\n",
            "  [ 34  55  92  22   5]]\n",
            "\n",
            " [[ 13   7  41  52  -1]\n",
            "  [ 29  50  11  97  -1]\n",
            "  [ -1  86  -1  -1  -1]\n",
            "  [ 25  -1   4  25  31]]\n",
            "\n",
            " [[  2  -1  23  -1  89]\n",
            "  [ -1  -1  -1  41  25]\n",
            "  [100  71  -1  26  80]\n",
            "  [ 97  -1  -1  56  53]]]\n"
          ]
        }
      ]
    },
    {
      "cell_type": "markdown",
      "source": [
        "Q10. Work with broadcasting and advanced operations in NumPy.\n",
        "\n",
        "Create a NumPy array arr of shape (3, 3) with random integers between  1 and 20. Perform the following:\n",
        "\n",
        "• Subtract the mean of each row from its respective elements (row-wise\n",
        "normalization).\n",
        "\n",
        "• Create a new array by squaring all the elements in arr.\n",
        "\n",
        "• Find the indices of the top 3 maximum values in the entire array."
      ],
      "metadata": {
        "id": "7gNYFaQ2r_1b"
      }
    },
    {
      "cell_type": "code",
      "source": [
        "import numpy as np\n",
        "\n",
        "#Random Array of shape(3,3) with range 1 to 21\n",
        "arr=np.random.randint(1 , 21, size=(3,3))\n",
        "print(arr)\n",
        "print('-------------------------------------------')\n",
        "\n",
        "# Subtract the mean of each row from its respective elements (row-wise normalization).\n",
        "for i in range(len(arr)):\n",
        "  print(arr[i]-np.mean(arr[i]))\n",
        "print('-------------------------------------------')\n",
        "\n",
        "#Create a new array by squaring all the elements in arr.\n",
        "print(np.square(arr))\n",
        "print('-------------------------------------------')\n",
        "\n",
        "# Find the indices of the top 3 maximum values in the entire array.\n",
        "indices = np.argpartition(arr.flatten(), -3)[-3:]\n",
        "row_indices, col_indices = np.unravel_index(indices, arr.shape)\n",
        "print(\"Indices of top 3 maximum values:\")\n",
        "for i in range(3):\n",
        "  print(f\"Value: {arr[row_indices[i], col_indices[i]]}, Index: ({row_indices[i]}, {col_indices[i]})\")"
      ],
      "metadata": {
        "colab": {
          "base_uri": "https://localhost:8080/"
        },
        "id": "vLVXYONlsLm1",
        "outputId": "13416012-4bfe-4b33-adce-d12664d566d9"
      },
      "execution_count": null,
      "outputs": [
        {
          "output_type": "stream",
          "name": "stdout",
          "text": [
            "[[ 9 20  7]\n",
            " [16  6 13]\n",
            " [ 5  8  3]]\n",
            "-------------------------------------------\n",
            "[-3.  8. -5.]\n",
            "[ 4.33333333 -5.66666667  1.33333333]\n",
            "[-0.33333333  2.66666667 -2.33333333]\n",
            "-------------------------------------------\n",
            "[[ 81 400  49]\n",
            " [256  36 169]\n",
            " [ 25  64   9]]\n",
            "-------------------------------------------\n",
            "Indices of top 3 maximum values:\n",
            "Value: 13, Index: (1, 2)\n",
            "Value: 20, Index: (0, 1)\n",
            "Value: 16, Index: (1, 0)\n"
          ]
        }
      ]
    }
  ]
}
{
  "nbformat": 4,
  "nbformat_minor": 0,
  "metadata": {
    "colab": {
      "provenance": [],
      "authorship_tag": "ABX9TyN3u25YH3mg5RFfNUY8lrg8",
      "include_colab_link": true
    },
    "kernelspec": {
      "name": "python3",
      "display_name": "Python 3"
    },
    "language_info": {
      "name": "python"
    }
  },
  "cells": [
    {
      "cell_type": "markdown",
      "metadata": {
        "id": "view-in-github",
        "colab_type": "text"
      },
      "source": [
        "<a href=\"https://colab.research.google.com/github/tarun1208/BasicML/blob/main/Assignement1.ipynb\" target=\"_parent\"><img src=\"https://colab.research.google.com/assets/colab-badge.svg\" alt=\"Open In Colab\"/></a>"
      ]
    },
    {
      "cell_type": "markdown",
      "source": [
        "Q1. Perform arithmetic operations on NumPy arrays."
      ],
      "metadata": {
        "id": "ZjayDfVucUuj"
      }
    },
    {
      "cell_type": "code",
      "execution_count": 2,
      "metadata": {
        "colab": {
          "base_uri": "https://localhost:8080/"
        },
        "id": "EHP1ZQljb5bE",
        "outputId": "896bf42d-3fb8-4237-d6e0-e4b279af4331"
      },
      "outputs": [
        {
          "output_type": "stream",
          "name": "stdout",
          "text": [
            "[12 25 39 44]\n",
            "[ 8 15 21 36]\n",
            "[ 20 100 270 160]\n",
            "[ 5.          4.          3.33333333 10.        ]\n",
            "[0 0 3 0]\n"
          ]
        }
      ],
      "source": [
        "import numpy as np\n",
        "arr1= np.array([10,20,30,40])\n",
        "arr2= np.array([2,5,9,4])\n",
        "\n",
        "#Addition\n",
        "print(arr1+arr2)\n",
        "\n",
        "#Subtraction\n",
        "print(arr1-arr2)\n",
        "\n",
        "#Multiplication\n",
        "print(arr1*arr2)\n",
        "\n",
        "#Division\n",
        "print(arr1/arr2)\n",
        "\n",
        "#Modular Division\n",
        "print(arr1%arr2)"
      ]
    },
    {
      "cell_type": "markdown",
      "source": [
        "Q2. Write a script to compute the mean and standard deviation of a NumPy array."
      ],
      "metadata": {
        "id": "VVe_7FaWeGGe"
      }
    },
    {
      "cell_type": "code",
      "source": [
        "import numpy as np\n",
        "\n",
        "arr=np.array([10,20,30,40])\n",
        "\n",
        "#Mean\n",
        "print(np.mean(arr))\n",
        "\n",
        "#Standard Deviation\n",
        "print(np.std(arr))"
      ],
      "metadata": {
        "colab": {
          "base_uri": "https://localhost:8080/"
        },
        "id": "7VNiDUfzeJsh",
        "outputId": "2967e7a3-032e-44be-bd98-52cb0ce79fb7"
      },
      "execution_count": 3,
      "outputs": [
        {
          "output_type": "stream",
          "name": "stdout",
          "text": [
            "25.0\n",
            "11.180339887498949\n"
          ]
        }
      ]
    },
    {
      "cell_type": "markdown",
      "source": [
        "Q3. Create a NumPy array of integers from 10 to 50 with a step size of 5."
      ],
      "metadata": {
        "id": "WneLT9SHfhTS"
      }
    },
    {
      "cell_type": "code",
      "source": [
        "import numpy as np\n",
        "\n",
        "arr=np.arange(10, 51, 5)\n",
        "\n",
        "print(arr)"
      ],
      "metadata": {
        "colab": {
          "base_uri": "https://localhost:8080/"
        },
        "id": "fY6OgF20fguC",
        "outputId": "e1eac14c-ce83-45a9-9172-d460a2ccdf54"
      },
      "execution_count": 6,
      "outputs": [
        {
          "output_type": "stream",
          "name": "stdout",
          "text": [
            "[10 15 20 25 30 35 40 45 50]\n"
          ]
        }
      ]
    },
    {
      "cell_type": "markdown",
      "source": [
        "Q4. Reshape the array into a 2x4 matrix."
      ],
      "metadata": {
        "id": "bJTcwCLCgS4W"
      }
    },
    {
      "cell_type": "code",
      "source": [
        "import numpy as np\n",
        "\n",
        "arr=np.arange(10, 51, 5)\n",
        "print(arr)\n",
        "\n",
        "#Reshape\n",
        "a = print(arr.reshape(3,3))"
      ],
      "metadata": {
        "colab": {
          "base_uri": "https://localhost:8080/"
        },
        "id": "zZ_bUXGGgSmF",
        "outputId": "6fa90085-8ed3-4b14-8157-12100112bb6a"
      },
      "execution_count": 13,
      "outputs": [
        {
          "output_type": "stream",
          "name": "stdout",
          "text": [
            "[10 15 20 25 30 35 40 45 50]\n",
            "[[10 15 20]\n",
            " [25 30 35]\n",
            " [40 45 50]]\n",
            "None\n"
          ]
        }
      ]
    },
    {
      "cell_type": "markdown",
      "source": [
        "Q5. Given the array arr = np.array([[1, 2, 3], [4, 5, 6], [7, 8, 9]]):\n",
        "\n",
        "• Extract the sub-matrix containing the last two rows and first two columns\n",
        "\n",
        "• Replace all elements greater than 4 with 0."
      ],
      "metadata": {
        "id": "gnTBpBsJigdg"
      }
    },
    {
      "cell_type": "code",
      "source": [
        "import numpy as np\n",
        "\n",
        "arr = np.array([[1, 2, 3], [4, 5, 6], [7, 8, 9]])\n",
        "\n",
        "# Extract the sub-matrix containing the last two rows and first two columns\n",
        "print(arr[1:, :2])\n",
        "\n",
        "#Extract the sub-matrix containing the last two rows and first two columns\n",
        "arr[arr > 4] = 0\n",
        "print(arr)\n"
      ],
      "metadata": {
        "colab": {
          "base_uri": "https://localhost:8080/"
        },
        "id": "F7GTrDhki0FV",
        "outputId": "52806ff1-029e-4400-a442-9ee3c1c75ddb"
      },
      "execution_count": 17,
      "outputs": [
        {
          "output_type": "stream",
          "name": "stdout",
          "text": [
            "[[4 5]\n",
            " [7 8]]\n",
            "[[1 2 3]\n",
            " [4 0 0]\n",
            " [0 0 0]]\n"
          ]
        }
      ]
    },
    {
      "cell_type": "markdown",
      "source": [
        "Q6. Create two 1D arrays:\n",
        "\n",
        "• a = np.array([1, 2, 3])\n",
        "\n",
        "• b = np.array([4, 5, 6])\n",
        "\n",
        "• Perform element-wise addition, multiplication, and division."
      ],
      "metadata": {
        "id": "-ekwoYgEksIT"
      }
    },
    {
      "cell_type": "code",
      "source": [
        "import numpy as np\n",
        "\n",
        "a = np.array([1, 2, 3])\n",
        "b = np.array([4, 5, 6])\n",
        "\n",
        "#Addition\n",
        "for i in range(len(a)):\n",
        "  print(a[i]+b[i])\n",
        "\n",
        "#Multiplication\n",
        "for i in range(len(a)):\n",
        "  print(a[i]*b[i])\n",
        "\n",
        "#Division\n",
        "for i in range(len(a)):\n",
        "  print(a[i]/b[i])"
      ],
      "metadata": {
        "colab": {
          "base_uri": "https://localhost:8080/"
        },
        "id": "YqAicoWKkrmQ",
        "outputId": "1000a07d-e43e-49c3-c24f-a740296b27a4"
      },
      "execution_count": 21,
      "outputs": [
        {
          "output_type": "stream",
          "name": "stdout",
          "text": [
            "5\n",
            "7\n",
            "9\n",
            "4\n",
            "10\n",
            "18\n",
            "0.25\n",
            "0.4\n",
            "0.5\n"
          ]
        }
      ]
    },
    {
      "cell_type": "markdown",
      "source": [
        "Q7. Create a random NumPy array of size (4, 4). Compute:\n",
        "\n",
        "• Mean of each column.\n",
        "\n",
        "• Maximum value of the entire array."
      ],
      "metadata": {
        "id": "Ky4hLmZ1nkY9"
      }
    },
    {
      "cell_type": "code",
      "source": [
        "import numpy as np\n",
        "\n",
        "#Random Array\n",
        "arr = np.random.rand(4,4)\n",
        "print(arr)\n",
        "\n",
        "#Mean of each column.\n",
        "print(np.mean(arr, axis=0))\n",
        "\n",
        "#Maximum value of the entire array.\n",
        "print(np.max(arr))"
      ],
      "metadata": {
        "colab": {
          "base_uri": "https://localhost:8080/"
        },
        "id": "VKCneQ1-nrso",
        "outputId": "c812987d-597d-4e9e-e986-977aa4ffab36"
      },
      "execution_count": 23,
      "outputs": [
        {
          "output_type": "stream",
          "name": "stdout",
          "text": [
            "[[0.63896397 0.9753155  0.57742455 0.14309763]\n",
            " [0.87106722 0.57753251 0.01814233 0.02338779]\n",
            " [0.59288166 0.36514895 0.3297117  0.07053596]\n",
            " [0.79508291 0.66377239 0.70467673 0.29829651]]\n",
            "[0.72449894 0.64544234 0.40748883 0.13382947]\n",
            "0.9753154961759959\n"
          ]
        }
      ]
    },
    {
      "cell_type": "markdown",
      "source": [
        "Q8. Given the array arr = np.array([1, 2, 3, 4]), add 10 to each element and multiply\n",
        "the result by 2."
      ],
      "metadata": {
        "id": "2wQtVCVqo2pG"
      }
    },
    {
      "cell_type": "code",
      "source": [
        "import numpy as np\n",
        "\n",
        "arr = np.array([1, 2, 3, 4])\n",
        "\n",
        "#a=arr+10\n",
        "#print(a*2)\n",
        "print((arr+10)*2)"
      ],
      "metadata": {
        "colab": {
          "base_uri": "https://localhost:8080/"
        },
        "id": "cfrcmC4ro2TQ",
        "outputId": "699d9b39-36f9-48e9-c2a3-5cf2818e47e6"
      },
      "execution_count": 28,
      "outputs": [
        {
          "output_type": "stream",
          "name": "stdout",
          "text": [
            "[22 24 26 28]\n"
          ]
        }
      ]
    },
    {
      "cell_type": "markdown",
      "source": [
        "Q9. Perform advanced slicing and indexing on a 3D array.\n",
        "\n",
        "Create a 3D NumPy array arr of shape (3, 4, 5) with random integers ranging from 1 to 100. Perform the following:\n",
        "\n",
        "• Extract the second \"layer\" (i.e., the second 2D array) in the first dimension.\n",
        "\n",
        "• Extract the first two rows and the last three columns from each \"layer.\"\n",
        "\n",
        "• Replace all elements divisible by 3 with -1"
      ],
      "metadata": {
        "id": "c6Lt7PGBp4BA"
      }
    },
    {
      "cell_type": "code",
      "source": [
        "import numpy as np\n",
        "\n",
        "#Creatinr 3D array of shape(3,4,5) with range from 1 to 100\n",
        "arr = np.random.randint(1,101, size=(3,4,5))\n",
        "print(arr)\n",
        "\n",
        "#first two row last three columns\n",
        "print(arr[: , :2, -3:])\n",
        "\n",
        "#replace all elements divisible by 3 with -1\n",
        "arr[arr%3==0] = -1\n",
        "print(arr)"
      ],
      "metadata": {
        "colab": {
          "base_uri": "https://localhost:8080/"
        },
        "id": "HkMQ659cqIEC",
        "outputId": "3c06df3a-e59e-4b8c-8809-c3daf695bec4"
      },
      "execution_count": 30,
      "outputs": [
        {
          "output_type": "stream",
          "name": "stdout",
          "text": [
            "[[[11 17 94 69 54]\n",
            "  [31 49 75 32 28]\n",
            "  [21 95 46  2 47]\n",
            "  [57 76 64 33 29]]\n",
            "\n",
            " [[84 77 25 68 68]\n",
            "  [58 52 77 66 28]\n",
            "  [ 4 59 70 68 85]\n",
            "  [28 32 84 98 43]]\n",
            "\n",
            " [[45 54 28 66 76]\n",
            "  [87 82 20 56 54]\n",
            "  [94 89 42 51 18]\n",
            "  [81 70 49 66 61]]]\n",
            "[[[94 69 54]\n",
            "  [75 32 28]]\n",
            "\n",
            " [[25 68 68]\n",
            "  [77 66 28]]\n",
            "\n",
            " [[28 66 76]\n",
            "  [20 56 54]]]\n",
            "[[[11 17 94 -1 -1]\n",
            "  [31 49 -1 32 28]\n",
            "  [-1 95 46  2 47]\n",
            "  [-1 76 64 -1 29]]\n",
            "\n",
            " [[-1 77 25 68 68]\n",
            "  [58 52 77 -1 28]\n",
            "  [ 4 59 70 68 85]\n",
            "  [28 32 -1 98 43]]\n",
            "\n",
            " [[-1 -1 28 -1 76]\n",
            "  [-1 82 20 56 -1]\n",
            "  [94 89 -1 -1 -1]\n",
            "  [-1 70 49 -1 61]]]\n"
          ]
        }
      ]
    },
    {
      "cell_type": "markdown",
      "source": [
        "Q10. Work with broadcasting and advanced operations in NumPy.\n",
        "\n",
        "Create a NumPy array arr of shape (3, 3) with random integers between  1 and 20. Perform the following:\n",
        "\n",
        "• Subtract the mean of each row from its respective elements (row-wise\n",
        "normalization).\n",
        "\n",
        "• Create a new array by squaring all the elements in arr.\n",
        "\n",
        "• Find the indices of the top 3 maximum values in the entire array."
      ],
      "metadata": {
        "id": "7gNYFaQ2r_1b"
      }
    },
    {
      "cell_type": "code",
      "source": [
        "import numpy as np\n",
        "\n",
        "#Random Array of shape(3,3) with range 1 to 21\n",
        "arr=np.random.randint(1 , 21, size=(3,3))\n",
        "print(arr)\n",
        "\n",
        "# Subtract the mean of each row from its respective elements (row-wise normalization).\n",
        "for i in range(len(arr)):\n",
        "  print(arr[i]-np.mean(arr[i]))\n",
        "\n",
        "#Create a new array by squaring all the elements in arr.\n",
        "print(np.square(arr))\n",
        "\n",
        "# Find the indices of the top 3 maximum values in the entire array.\n"
      ],
      "metadata": {
        "colab": {
          "base_uri": "https://localhost:8080/"
        },
        "id": "vLVXYONlsLm1",
        "outputId": "8bc23c3d-da13-4627-e396-e85e17cf4edb"
      },
      "execution_count": 37,
      "outputs": [
        {
          "output_type": "stream",
          "name": "stdout",
          "text": [
            "[[17  8  9]\n",
            " [19  3 17]\n",
            " [ 5  1  9]]\n",
            "[ 5.66666667 -3.33333333 -2.33333333]\n",
            "[  6. -10.   4.]\n",
            "[ 0. -4.  4.]\n",
            "[[289  64  81]\n",
            " [361   9 289]\n",
            " [ 25   1  81]]\n",
            "[[13  8 14]\n",
            " [ 1  6 14]\n",
            " [ 8  8 20]]\n",
            "[ 1.33333333 -3.66666667  2.33333333]\n",
            "[-6. -1.  7.]\n",
            "[-4. -4.  8.]\n",
            "[[169  64 196]\n",
            " [  1  36 196]\n",
            " [ 64  64 400]]\n"
          ]
        }
      ]
    }
  ]
}
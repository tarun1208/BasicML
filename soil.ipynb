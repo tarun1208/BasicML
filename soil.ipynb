{
  "cells": [
    {
      "cell_type": "markdown",
      "metadata": {
        "id": "view-in-github",
        "colab_type": "text"
      },
      "source": [
        "<a href=\"https://colab.research.google.com/github/tarun1208/BasicML/blob/main/soil.ipynb\" target=\"_parent\"><img src=\"https://colab.research.google.com/assets/colab-badge.svg\" alt=\"Open In Colab\"/></a>"
      ]
    },
    {
      "cell_type": "code",
      "execution_count": 6,
      "metadata": {
        "colab": {
          "base_uri": "https://localhost:8080/"
        },
        "id": "mUlBOJlxrmqe",
        "outputId": "9464a677-f5fd-4218-8a03-878d901dd2a1"
      },
      "outputs": [
        {
          "output_type": "stream",
          "name": "stdout",
          "text": [
            "Shape: (19689, 12)\n",
            "           Crop  Crop_Year       Season  State     Area  Production  \\\n",
            "0      Arecanut       1997  Whole Year   Assam  73814.0       56708   \n",
            "1     Arhar/Tur       1997  Kharif       Assam   6637.0        4685   \n",
            "2   Castor seed       1997  Kharif       Assam    796.0          22   \n",
            "3      Coconut        1997  Whole Year   Assam  19656.0   126905000   \n",
            "4  Cotton(lint)       1997  Kharif       Assam   1739.0         794   \n",
            "\n",
            "   Annual_Rainfall  Fertilizer  Pesticide        Yield Soil_Fertility  \\\n",
            "0           2051.4  7024878.38   22882.34     0.796087           High   \n",
            "1           2051.4   631643.29    2057.47     0.710435            Low   \n",
            "2           2051.4    75755.32     246.76     0.238333           High   \n",
            "3           2051.4  1870661.52    6093.36  5238.051739           High   \n",
            "4           2051.4   165500.63     539.09     0.420909            Low   \n",
            "\n",
            "  Pesticide_Name  \n",
            "0       Atrazine  \n",
            "1   Chlorpyrifos  \n",
            "2   Imidacloprid  \n",
            "3   Chlorpyrifos  \n",
            "4       Atrazine  \n"
          ]
        }
      ],
      "source": [
        "import pandas as pd\n",
        "\n",
        "# Load your dataset\n",
        "df = pd.read_csv(\"/content/sample_data/soil.csv\")\n",
        "\n",
        "# Check the first few rows and shape\n",
        "print(\"Shape:\", df.shape)\n",
        "print(df.head())\n"
      ]
    },
    {
      "cell_type": "code",
      "execution_count": 7,
      "metadata": {
        "colab": {
          "base_uri": "https://localhost:8080/",
          "height": 460
        },
        "id": "Ps49C-NwVwwM",
        "outputId": "3b2214f7-6fdc-4a48-b8b4-e598118c7367"
      },
      "outputs": [
        {
          "output_type": "execute_result",
          "data": {
            "text/plain": [
              "Crop               0\n",
              "Crop_Year          0\n",
              "Season             0\n",
              "State              0\n",
              "Area               0\n",
              "Production         0\n",
              "Annual_Rainfall    0\n",
              "Fertilizer         0\n",
              "Pesticide          0\n",
              "Yield              0\n",
              "Soil_Fertility     0\n",
              "Pesticide_Name     0\n",
              "dtype: int64"
            ],
            "text/html": [
              "<div>\n",
              "<style scoped>\n",
              "    .dataframe tbody tr th:only-of-type {\n",
              "        vertical-align: middle;\n",
              "    }\n",
              "\n",
              "    .dataframe tbody tr th {\n",
              "        vertical-align: top;\n",
              "    }\n",
              "\n",
              "    .dataframe thead th {\n",
              "        text-align: right;\n",
              "    }\n",
              "</style>\n",
              "<table border=\"1\" class=\"dataframe\">\n",
              "  <thead>\n",
              "    <tr style=\"text-align: right;\">\n",
              "      <th></th>\n",
              "      <th>0</th>\n",
              "    </tr>\n",
              "  </thead>\n",
              "  <tbody>\n",
              "    <tr>\n",
              "      <th>Crop</th>\n",
              "      <td>0</td>\n",
              "    </tr>\n",
              "    <tr>\n",
              "      <th>Crop_Year</th>\n",
              "      <td>0</td>\n",
              "    </tr>\n",
              "    <tr>\n",
              "      <th>Season</th>\n",
              "      <td>0</td>\n",
              "    </tr>\n",
              "    <tr>\n",
              "      <th>State</th>\n",
              "      <td>0</td>\n",
              "    </tr>\n",
              "    <tr>\n",
              "      <th>Area</th>\n",
              "      <td>0</td>\n",
              "    </tr>\n",
              "    <tr>\n",
              "      <th>Production</th>\n",
              "      <td>0</td>\n",
              "    </tr>\n",
              "    <tr>\n",
              "      <th>Annual_Rainfall</th>\n",
              "      <td>0</td>\n",
              "    </tr>\n",
              "    <tr>\n",
              "      <th>Fertilizer</th>\n",
              "      <td>0</td>\n",
              "    </tr>\n",
              "    <tr>\n",
              "      <th>Pesticide</th>\n",
              "      <td>0</td>\n",
              "    </tr>\n",
              "    <tr>\n",
              "      <th>Yield</th>\n",
              "      <td>0</td>\n",
              "    </tr>\n",
              "    <tr>\n",
              "      <th>Soil_Fertility</th>\n",
              "      <td>0</td>\n",
              "    </tr>\n",
              "    <tr>\n",
              "      <th>Pesticide_Name</th>\n",
              "      <td>0</td>\n",
              "    </tr>\n",
              "  </tbody>\n",
              "</table>\n",
              "</div><br><label><b>dtype:</b> int64</label>"
            ]
          },
          "metadata": {},
          "execution_count": 7
        }
      ],
      "source": [
        "df.isnull().sum()"
      ]
    },
    {
      "cell_type": "code",
      "execution_count": 8,
      "metadata": {
        "id": "5y1cT_5WWa9l",
        "colab": {
          "base_uri": "https://localhost:8080/"
        },
        "outputId": "7a6cfa7f-0dd7-41f2-bee7-700e0c097200"
      },
      "outputs": [
        {
          "output_type": "stream",
          "name": "stderr",
          "text": [
            "/tmp/ipython-input-2460791626.py:2: FutureWarning: A value is trying to be set on a copy of a DataFrame or Series through chained assignment using an inplace method.\n",
            "The behavior will change in pandas 3.0. This inplace method will never work because the intermediate object on which we are setting values always behaves as a copy.\n",
            "\n",
            "For example, when doing 'df[col].method(value, inplace=True)', try using 'df.method({col: value}, inplace=True)' or df[col] = df[col].method(value) instead, to perform the operation inplace on the original object.\n",
            "\n",
            "\n",
            "  df['Yield'].fillna(df['Yield'].mean(), inplace=True)   # fill with average\n",
            "/tmp/ipython-input-2460791626.py:4: FutureWarning: A value is trying to be set on a copy of a DataFrame or Series through chained assignment using an inplace method.\n",
            "The behavior will change in pandas 3.0. This inplace method will never work because the intermediate object on which we are setting values always behaves as a copy.\n",
            "\n",
            "For example, when doing 'df[col].method(value, inplace=True)', try using 'df.method({col: value}, inplace=True)' or df[col] = df[col].method(value) instead, to perform the operation inplace on the original object.\n",
            "\n",
            "\n",
            "  df['Yield'].fillna(df['Yield'].median(), inplace=True) # fill with median\n",
            "/tmp/ipython-input-2460791626.py:5: FutureWarning: A value is trying to be set on a copy of a DataFrame or Series through chained assignment using an inplace method.\n",
            "The behavior will change in pandas 3.0. This inplace method will never work because the intermediate object on which we are setting values always behaves as a copy.\n",
            "\n",
            "For example, when doing 'df[col].method(value, inplace=True)', try using 'df.method({col: value}, inplace=True)' or df[col] = df[col].method(value) instead, to perform the operation inplace on the original object.\n",
            "\n",
            "\n",
            "  df['Yield'].fillna(0, inplace=True)\n"
          ]
        }
      ],
      "source": [
        "df = df.dropna(subset=['Yield'])\n",
        "df['Yield'].fillna(df['Yield'].mean(), inplace=True)   # fill with average\n",
        "# OR\n",
        "df['Yield'].fillna(df['Yield'].median(), inplace=True) # fill with median\n",
        "df['Yield'].fillna(0, inplace=True)\n"
      ]
    },
    {
      "cell_type": "code",
      "execution_count": 9,
      "metadata": {
        "colab": {
          "base_uri": "https://localhost:8080/"
        },
        "id": "egfGFPnqtrkM",
        "outputId": "8f206a76-1853-4014-923d-0a10b2728a7a"
      },
      "outputs": [
        {
          "output_type": "stream",
          "name": "stdout",
          "text": [
            "Cleaned column names:\n",
            " ['Crop', 'Crop_Year', 'Season', 'State', 'Area', 'Production', 'Annual_Rainfall', 'Fertilizer', 'Pesticide', 'Yield', 'Soil_Fertility', 'Pesticide_Name']\n"
          ]
        }
      ],
      "source": [
        "# Remove spaces, brackets, and replace with _\n",
        "df.columns = df.columns.str.strip().str.replace(\" \", \"_\").str.replace(\"(\", \"\").str.replace(\")\", \"\")\n",
        "\n",
        "print(\"Cleaned column names:\\n\", df.columns.tolist())\n"
      ]
    },
    {
      "cell_type": "code",
      "execution_count": 10,
      "metadata": {
        "colab": {
          "base_uri": "https://localhost:8080/"
        },
        "id": "eAJvTR8atvBf",
        "outputId": "86a79f7e-c39d-4d7c-eebb-9f7726fa1c13"
      },
      "outputs": [
        {
          "output_type": "stream",
          "name": "stdout",
          "text": [
            "Unique Soil_Fertility values:\n",
            " ['High' 'Low' 'Medium']\n"
          ]
        }
      ],
      "source": [
        "# Identify text columns\n",
        "text_cols = df.select_dtypes(include='object').columns.tolist()\n",
        "\n",
        "# Strip spaces and make case uniform\n",
        "for col in text_cols:\n",
        "    df[col] = df[col].astype(str).str.strip().str.title()\n",
        "\n",
        "print(\"Unique Soil_Fertility values:\\n\", df['Soil_Fertility'].unique())\n"
      ]
    },
    {
      "cell_type": "code",
      "execution_count": 11,
      "metadata": {
        "colab": {
          "base_uri": "https://localhost:8080/"
        },
        "id": "vaVvZ-5Utyrv",
        "outputId": "a5774c2c-3150-41b5-ee24-20e508589524"
      },
      "outputs": [
        {
          "output_type": "stream",
          "name": "stdout",
          "text": [
            "Crop_Year            int64\n",
            "Area               float64\n",
            "Production           int64\n",
            "Annual_Rainfall    float64\n",
            "Fertilizer         float64\n",
            "Pesticide          float64\n",
            "Yield              float64\n",
            "dtype: object\n"
          ]
        }
      ],
      "source": [
        "numeric_cols = ['Crop_Year', 'Area', 'Production', 'Annual_Rainfall',\n",
        "                'Fertilizer', 'Pesticide', 'Yield']\n",
        "\n",
        "# Convert them to numeric (invalid values -> NaN)\n",
        "for col in numeric_cols:\n",
        "    df[col] = pd.to_numeric(df[col], errors='coerce')\n",
        "\n",
        "# Check datatypes after conversion\n",
        "print(df[numeric_cols].dtypes)"
      ]
    },
    {
      "cell_type": "code",
      "execution_count": 12,
      "metadata": {
        "colab": {
          "base_uri": "https://localhost:8080/"
        },
        "id": "6hZxCM8vuAMZ",
        "outputId": "f9eb5f0c-9939-4169-f8aa-31c8b7ee9d83"
      },
      "outputs": [
        {
          "output_type": "stream",
          "name": "stdout",
          "text": [
            "Removed 0 duplicate rows\n"
          ]
        }
      ],
      "source": [
        "before = df.shape[0]\n",
        "df = df.drop_duplicates()\n",
        "after = df.shape[0]\n",
        "print(f\"Removed {before - after} duplicate rows\")\n"
      ]
    },
    {
      "cell_type": "code",
      "execution_count": 13,
      "metadata": {
        "id": "zlmgZD9TuE7u"
      },
      "outputs": [],
      "source": [
        "# Fill missing values (numeric → median, categorical → mode)\n",
        "for col in df.columns:\n",
        "    if df[col].dtype in ['float64', 'int64']:\n",
        "        df[col] = df[col].fillna(df[col].median())\n",
        "    else:\n",
        "        df[col] = df[col].fillna(df[col].mode()[0])\n"
      ]
    },
    {
      "cell_type": "code",
      "execution_count": 14,
      "metadata": {
        "colab": {
          "base_uri": "https://localhost:8080/"
        },
        "id": "7HITp4l9uGrP",
        "outputId": "d1c5c3f0-e85b-43b6-c52d-2be8ac0f2d2e"
      },
      "outputs": [
        {
          "output_type": "stream",
          "name": "stdout",
          "text": [
            "  Soil_Fertility  Soil_Fertility_Num\n",
            "0           High                   3\n",
            "1            Low                   1\n",
            "2           High                   3\n",
            "3           High                   3\n",
            "4            Low                   1\n"
          ]
        }
      ],
      "source": [
        "# Mapping dictionary\n",
        "soil_map = {\"Low\": 1, \"Medium\": 2, \"High\": 3}\n",
        "\n",
        "# Apply mapping\n",
        "df['Soil_Fertility_Num'] = df['Soil_Fertility'].map(soil_map)\n",
        "\n",
        "print(df[['Soil_Fertility', 'Soil_Fertility_Num']].head())\n"
      ]
    },
    {
      "cell_type": "code",
      "execution_count": 15,
      "metadata": {
        "colab": {
          "base_uri": "https://localhost:8080/"
        },
        "id": "5kHwTfInuL78",
        "outputId": "5b37f5e5-5804-4319-cc0c-79c996d7d38b"
      },
      "outputs": [
        {
          "output_type": "stream",
          "name": "stdout",
          "text": [
            "['Crop', 'Crop_Year', 'Season', 'State', 'Area', 'Production', 'Annual_Rainfall', 'Fertilizer', 'Pesticide', 'Yield', 'Soil_Fertility', 'Pesticide_Name', 'Soil_Fertility_Num']\n"
          ]
        }
      ],
      "source": [
        "print(df.columns.tolist())\n"
      ]
    },
    {
      "cell_type": "code",
      "execution_count": 16,
      "metadata": {
        "colab": {
          "base_uri": "https://localhost:8080/"
        },
        "id": "52y1i9HOuiLU",
        "outputId": "b26aa66b-f1bb-4825-dfb6-05da730e9627"
      },
      "outputs": [
        {
          "output_type": "stream",
          "name": "stdout",
          "text": [
            "Duplicate rows: 0\n"
          ]
        }
      ],
      "source": [
        "print(\"Duplicate rows:\", df.duplicated().sum())\n"
      ]
    },
    {
      "cell_type": "code",
      "execution_count": 17,
      "metadata": {
        "colab": {
          "base_uri": "https://localhost:8080/"
        },
        "id": "_H9K5hHVujzX",
        "outputId": "73fcae06-a58f-4d5d-fc5c-943c7e469099"
      },
      "outputs": [
        {
          "output_type": "stream",
          "name": "stdout",
          "text": [
            "Missing values per column:\n",
            " Crop                  0\n",
            "Crop_Year             0\n",
            "Season                0\n",
            "State                 0\n",
            "Area                  0\n",
            "Production            0\n",
            "Annual_Rainfall       0\n",
            "Fertilizer            0\n",
            "Pesticide             0\n",
            "Yield                 0\n",
            "Soil_Fertility        0\n",
            "Pesticide_Name        0\n",
            "Soil_Fertility_Num    0\n",
            "dtype: int64\n"
          ]
        }
      ],
      "source": [
        "print(\"Missing values per column:\\n\", df.isnull().sum())\n"
      ]
    },
    {
      "cell_type": "code",
      "execution_count": 18,
      "metadata": {
        "colab": {
          "base_uri": "https://localhost:8080/"
        },
        "id": "v6HHzULfullw",
        "outputId": "1744b772-1715-4cd2-c166-cd7f19348cde"
      },
      "outputs": [
        {
          "output_type": "stream",
          "name": "stdout",
          "text": [
            "Crop                   object\n",
            "Crop_Year               int64\n",
            "Season                 object\n",
            "State                  object\n",
            "Area                  float64\n",
            "Production              int64\n",
            "Annual_Rainfall       float64\n",
            "Fertilizer            float64\n",
            "Pesticide             float64\n",
            "Yield                 float64\n",
            "Soil_Fertility         object\n",
            "Pesticide_Name         object\n",
            "Soil_Fertility_Num      int64\n",
            "dtype: object\n"
          ]
        }
      ],
      "source": [
        "print(df.dtypes)\n"
      ]
    },
    {
      "cell_type": "code",
      "execution_count": 19,
      "metadata": {
        "colab": {
          "base_uri": "https://localhost:8080/"
        },
        "id": "QbMgOtH5une8",
        "outputId": "0304bec8-99a3-42fb-d7b1-d212559f00db"
      },
      "outputs": [
        {
          "output_type": "stream",
          "name": "stdout",
          "text": [
            "Crop → ['Arecanut' 'Arhar/Tur' 'Castor Seed' 'Coconut' 'Cotton(Lint)'\n",
            " 'Dry Chillies' 'Gram' 'Jute' 'Linseed' 'Maize']\n",
            "Crop_Year → [1997 1998 1999 2000 2001 2002 2003 2004 2005 2006]\n",
            "Season → ['Whole Year' 'Kharif' 'Rabi' 'Autumn' 'Summer' 'Winter']\n",
            "State → ['Assam' 'Karnataka' 'Kerala' 'Meghalaya' 'West Bengal' 'Puducherry' 'Goa'\n",
            " 'Andhra Pradesh' 'Tamil Nadu' 'Odisha']\n",
            "Area → [73814.  6637.   796. 19656.  1739. 13587.  2979. 94520. 10098. 19216.]\n",
            "Production → [    56708      4685        22 126905000       794      9073      1507\n",
            "    904095      5158     14721]\n",
            "Annual_Rainfall → [2051.4    1266.7    3252.4    3818.2    1852.9    1434.5875 2354.4\n",
            " 2964.9    1260.8    3151.5   ]\n",
            "Fertilizer → [7024878.38  631643.29   75755.32 1870661.52  165500.63 1293074.79\n",
            "  283511.43 8995468.4   961026.66 1828786.72]\n",
            "Pesticide → [22882.34  2057.47   246.76  6093.36   539.09  4211.97   923.49 29301.2\n",
            "  3130.38  5956.96]\n",
            "Yield → [7.96086957e-01 7.10434783e-01 2.38333333e-01 5.23805174e+03\n",
            " 4.20909091e-01 6.43636364e-01 4.65454545e-01 9.91956522e+00\n",
            " 4.61363636e-01 6.15652174e-01]\n",
            "Soil_Fertility → ['High' 'Low' 'Medium']\n",
            "Pesticide_Name → ['Atrazine' 'Chlorpyrifos' 'Imidacloprid' 'Malathion' 'Mancozeb'\n",
            " 'Carbaryl' 'Glyphosate']\n",
            "Soil_Fertility_Num → [3 1 2]\n"
          ]
        }
      ],
      "source": [
        "cols_to_check = [\n",
        "    'Crop', 'Crop_Year', 'Season', 'State', 'Area', 'Production',\n",
        "    'Annual_Rainfall', 'Fertilizer', 'Pesticide', 'Yield',\n",
        "    'Soil_Fertility', 'Pesticide_Name', 'Soil_Fertility_Num'\n",
        "]\n",
        "\n",
        "for col in cols_to_check:\n",
        "    print(col, \"→\", df[col].unique()[:10])   # show only first 10 unique values\n"
      ]
    },
    {
      "cell_type": "code",
      "execution_count": 20,
      "metadata": {
        "colab": {
          "base_uri": "https://localhost:8080/"
        },
        "id": "rvQ1iLSbupcD",
        "outputId": "22be6e06-3f91-44cf-8b89-2e14fca1f9a1"
      },
      "outputs": [
        {
          "output_type": "stream",
          "name": "stdout",
          "text": [
            "          Crop_Year          Area    Production  Annual_Rainfall  \\\n",
            "count  19689.000000  1.968900e+04  1.968900e+04     19689.000000   \n",
            "mean    2009.127584  1.799266e+05  1.643594e+07      1437.755177   \n",
            "std        6.498099  7.328287e+05  2.630568e+08       816.909589   \n",
            "min     1997.000000  5.000000e-01  0.000000e+00       301.300000   \n",
            "25%     2004.000000  1.390000e+03  1.393000e+03       940.700000   \n",
            "50%     2010.000000  9.317000e+03  1.380400e+04      1247.600000   \n",
            "75%     2015.000000  7.511200e+04  1.227180e+05      1643.700000   \n",
            "max     2020.000000  5.080810e+07  6.326000e+09      6552.700000   \n",
            "\n",
            "         Fertilizer     Pesticide         Yield  Soil_Fertility_Num  \n",
            "count  1.968900e+04  1.968900e+04  19689.000000        19689.000000  \n",
            "mean   2.410331e+07  4.884835e+04     79.954009            1.993702  \n",
            "std    9.494600e+07  2.132874e+05    878.306193            0.816617  \n",
            "min    5.417000e+01  9.000000e-02      0.000000            1.000000  \n",
            "25%    1.880146e+05  3.567000e+02      0.600000            1.000000  \n",
            "50%    1.234957e+06  2.421900e+03      1.030000            2.000000  \n",
            "75%    1.000385e+07  2.004170e+04      2.388889            3.000000  \n",
            "max    4.835407e+09  1.575051e+07  21105.000000            3.000000  \n"
          ]
        }
      ],
      "source": [
        "print(df.describe())\n"
      ]
    },
    {
      "cell_type": "code",
      "execution_count": 21,
      "metadata": {
        "colab": {
          "base_uri": "https://localhost:8080/"
        },
        "id": "wa7vKjYcvzjK",
        "outputId": "5ef4c29a-c89c-4ea4-96dc-d574d0d39072"
      },
      "outputs": [
        {
          "output_type": "stream",
          "name": "stdout",
          "text": [
            "['Crop', 'Crop_Year', 'Season', 'State', 'Area', 'Production', 'Annual_Rainfall', 'Fertilizer', 'Pesticide', 'Yield', 'Soil_Fertility', 'Pesticide_Name', 'Soil_Fertility_Num']\n"
          ]
        }
      ],
      "source": [
        "print(df.columns.tolist())\n"
      ]
    },
    {
      "cell_type": "code",
      "source": [
        "# --- Step 0: Imports ---\n",
        "import pandas as pd\n",
        "import numpy as np\n",
        "from sklearn.model_selection import train_test_split\n",
        "from sklearn.preprocessing import LabelEncoder\n",
        "from sklearn.metrics import r2_score, mean_squared_error, mean_absolute_error\n",
        "from xgboost import XGBRegressor\n",
        "import joblib\n",
        "\n",
        "# --- Step 1: Select relevant columns ---\n",
        "features = [\"Area\", \"Crop\", \"Season\", \"Soil_Fertility\", \"State\"]\n",
        "target = \"Yield\"\n",
        "\n",
        "# df is your original dataset\n",
        "df_model = df[features + [target]].dropna()\n",
        "\n",
        "# --- Step 2: Encode categorical columns ---\n",
        "label_encoders = {}  # to store encoders for each categorical column\n",
        "for col in [\"Crop\", \"Season\", \"Soil_Fertility\", \"State\"]:\n",
        "    le = LabelEncoder()\n",
        "    df_model[col] = le.fit_transform(df_model[col])\n",
        "    label_encoders[col] = le  # save the encoder\n",
        "\n",
        "# --- Step 3: Split data ---\n",
        "X = df_model[features]\n",
        "y = df_model[target]\n",
        "\n",
        "X_train, X_test, y_train, y_test = train_test_split(\n",
        "    X, y, test_size=0.2, random_state=42\n",
        ")\n",
        "\n",
        "# --- Step 4: Train XGBoost Regressor ---\n",
        "model = XGBRegressor(\n",
        "    objective='reg:squarederror',\n",
        "    n_estimators=300,\n",
        "    max_depth=5,\n",
        "    learning_rate=0.1,\n",
        "    random_state=42\n",
        ")\n",
        "model.fit(X_train, y_train)\n",
        "\n",
        "# --- Step 5: Evaluate model ---\n",
        "y_pred = model.predict(X_test)\n",
        "r2 = r2_score(y_test, y_pred)\n",
        "rmse = np.sqrt(mean_squared_error(y_test, y_pred))\n",
        "mae = mean_absolute_error(y_test, y_pred)\n",
        "\n",
        "print(\"✅ Model trained successfully\")\n",
        "print(\"R² Score:\", r2)\n",
        "print(\"RMSE:\", rmse)\n",
        "print(\"MAE:\", mae)\n",
        "\n",
        "# --- Step 6: Save model and encoders for Flask ---\n",
        "joblib.dump(model, \"xgb_regressor_model.pkl\")\n",
        "joblib.dump(label_encoders, \"label_encoders.pkl\")\n",
        "print(\"✅ Model and encoders saved! Download 'xgb_regressor_model.pkl' and 'label_encoders.pkl'\")\n"
      ],
      "metadata": {
        "colab": {
          "base_uri": "https://localhost:8080/"
        },
        "id": "4yL3CkOVb5GY",
        "outputId": "3bdcd69e-6358-49ea-8d2c-d36a0158183e"
      },
      "execution_count": 22,
      "outputs": [
        {
          "output_type": "stream",
          "name": "stdout",
          "text": [
            "✅ Model trained successfully\n",
            "R² Score: 0.9445947579406808\n",
            "RMSE: 210.6961999249485\n",
            "MAE: 15.832085120795082\n",
            "✅ Model and encoders saved! Download 'xgb_regressor_model.pkl' and 'label_encoders.pkl'\n"
          ]
        }
      ]
    },
    {
      "cell_type": "code",
      "source": [
        "import pandas as pd\n",
        "import numpy as np\n",
        "from sklearn.model_selection import train_test_split, GridSearchCV\n",
        "from sklearn.preprocessing import LabelEncoder\n",
        "from sklearn.metrics import r2_score, mean_squared_error, mean_absolute_error\n",
        "from xgboost import XGBRegressor\n",
        "\n",
        "# --- Step 1: Select relevant columns ---\n",
        "features = [\"Area\", \"Crop\", \"Season\", \"Soil_Fertility\", \"State\"]\n",
        "target = \"Yield\"\n",
        "\n",
        "# Assuming df is your DataFrame\n",
        "df_model = df[features + [target]].dropna()\n",
        "\n",
        "# --- Step 2: Encode categorical columns ---\n",
        "# Save separate encoders for each categorical column\n",
        "label_encoders = {}\n",
        "for col in [\"Crop\", \"Season\", \"Soil_Fertility\", \"State\"]:\n",
        "    le = LabelEncoder()\n",
        "    df_model[col] = le.fit_transform(df_model[col])\n",
        "    label_encoders[col] = le  # save encoder for Flask\n",
        "\n",
        "# --- Step 3: Split data ---\n",
        "X = df_model[features]\n",
        "y = df_model[target]\n",
        "\n",
        "X_train, X_test, y_train, y_test = train_test_split(\n",
        "    X, y, test_size=0.2, random_state=42\n",
        ")\n",
        "\n",
        "# --- Step 4: Hyperparameter tuning with GridSearchCV ---\n",
        "param_grid = {\n",
        "    'n_estimators': [100, 200, 300],\n",
        "    'max_depth': [3, 5, 7],\n",
        "    'learning_rate': [0.01, 0.1, 0.2],\n",
        "    'subsample': [0.6, 0.8, 1.0],\n",
        "    'colsample_bytree': [0.6, 0.8, 1.0]\n",
        "}\n",
        "\n",
        "grid_search = GridSearchCV(\n",
        "    estimator=XGBRegressor(objective='reg:squarederror', random_state=42),\n",
        "    param_grid=param_grid,\n",
        "    cv=3,\n",
        "    n_jobs=-1,\n",
        "    scoring='r2',\n",
        "    verbose=2\n",
        ")\n",
        "\n",
        "grid_search.fit(X_train, y_train)\n",
        "\n",
        "# --- Step 5: Best parameters ---\n",
        "print(\"🔹 Best Parameters from GridSearchCV:\", grid_search.best_params_)\n",
        "\n",
        "# --- Step 6: Train model with best params ---\n",
        "best_model = grid_search.best_estimator_\n",
        "y_pred = best_model.predict(X_test)\n",
        "\n",
        "# --- Step 7: Evaluation ---\n",
        "r2 = r2_score(y_test, y_pred)\n",
        "rmse = np.sqrt(mean_squared_error(y_test, y_pred))\n",
        "mae = mean_absolute_error(y_test, y_pred)\n",
        "\n",
        "print(\"\\n✅ Yield Prediction with Tuned XGBoost\")\n",
        "print(\"R² Score:\", r2)\n",
        "print(\"RMSE:\", rmse)\n",
        "print(\"MAE:\", mae)\n",
        "\n",
        "# --- Step 8: Show sample predictions (at least 10 rows if possible) ---\n",
        "results = pd.DataFrame({\n",
        "    \"Actual_Yield\": y_test.values,\n",
        "    \"Predicted_Yield\": y_pred\n",
        "})\n",
        "\n",
        "num_samples = min(len(results), 10)  # ensures we don't exceed dataset size\n",
        "results_sample = results.sample(n=num_samples, random_state=42)\n",
        "print(\"\\n🔹 Sample predictions from test data:\")\n",
        "print(results_sample.reset_index(drop=True))\n"
      ],
      "metadata": {
        "colab": {
          "base_uri": "https://localhost:8080/"
        },
        "id": "GJjNFgutVp0L",
        "outputId": "b6339098-00ff-41b9-e9a7-32393921df18"
      },
      "execution_count": 23,
      "outputs": [
        {
          "output_type": "stream",
          "name": "stdout",
          "text": [
            "Fitting 3 folds for each of 243 candidates, totalling 729 fits\n",
            "🔹 Best Parameters from GridSearchCV: {'colsample_bytree': 1.0, 'learning_rate': 0.1, 'max_depth': 7, 'n_estimators': 100, 'subsample': 0.8}\n",
            "\n",
            "✅ Yield Prediction with Tuned XGBoost\n",
            "R² Score: 0.9371567554937102\n",
            "RMSE: 224.39365574501272\n",
            "MAE: 14.525115224048246\n",
            "\n",
            "🔹 Sample predictions from test data:\n",
            "   Actual_Yield  Predicted_Yield\n",
            "0      3.972381         2.161141\n",
            "1      0.813226         0.160480\n",
            "2      0.432778         1.101564\n",
            "3      1.030000         0.859852\n",
            "4      0.569333         0.558394\n",
            "5      0.450833         1.044650\n",
            "6      1.976905         4.652035\n",
            "7      2.796897         1.799699\n",
            "8      8.020000        10.761740\n",
            "9     18.399014        11.727715\n"
          ]
        }
      ]
    },
    {
      "cell_type": "code",
      "source": [
        "import seaborn as sns\n",
        "import matplotlib.pyplot as plt\n",
        "\n",
        "# --- Step 1: Encode categorical columns for correlation (if not already done) ---\n",
        "# If using the df_model from earlier, it's already label encoded\n",
        "\n",
        "# --- Step 2: Compute correlation matrix ---\n",
        "corr_matrix = df_model.corr()\n",
        "\n",
        "# --- Step 3: Plot heatmap ---\n",
        "plt.figure(figsize=(10, 8))\n",
        "sns.heatmap(corr_matrix, annot=True, fmt=\".2f\", cmap=\"coolwarm\", linewidths=0.5)\n",
        "plt.title(\"Correlation Heatmap of Features with Yield\")\n",
        "plt.show()\n"
      ],
      "metadata": {
        "id": "jEFoDV4N46Q9",
        "outputId": "da01b04c-ddd4-4667-b9fe-a63e26620987",
        "colab": {
          "base_uri": "https://localhost:8080/",
          "height": 699
        }
      },
      "execution_count": 24,
      "outputs": [
        {
          "output_type": "display_data",
          "data": {
            "text/plain": [
              "<Figure size 1000x800 with 2 Axes>"
            ],
            "image/png": "[encoded data removed]"
          },
          "metadata": {}
        }
      ]
    },
    {
      "cell_type": "code",
      "source": [
        "import pandas as pd\n",
        "import seaborn as sns\n",
        "import matplotlib.pyplot as plt\n",
        "\n",
        "# Example ordinal mapping for Soil Fertility\n",
        "fertility_mapping = {\n",
        "    \"Low\": 1,\n",
        "    \"Medium\": 2,\n",
        "    \"High\": 3\n",
        "}\n",
        "\n",
        "# Replace Soil_Fertility column with mapped values\n",
        "df_model[\"Soil_Fertility\"] = df_model[\"Soil_Fertility\"].map(fertility_mapping)\n",
        "\n",
        "# Compute correlation matrix\n",
        "corr_matrix = df_model[[\"Area\", \"Crop\", \"Season\", \"Soil_Fertility\", \"Yield\"]].corr()\n",
        "\n",
        "# Plot heatmap\n",
        "plt.figure(figsize=(6,5))\n",
        "sns.heatmap(corr_matrix, annot=True, cmap=\"coolwarm\", center=0)\n",
        "plt.title(\"Correlation Heatmap (Fixed Soil Fertility Encoding)\")\n",
        "plt.show()\n"
      ],
      "metadata": {
        "colab": {
          "base_uri": "https://localhost:8080/",
          "height": 468
        },
        "id": "ECZSzJ7vumb0",
        "outputId": "cf0e3a69-90f9-43d3-fec3-f83af2d7398f"
      },
      "execution_count": 25,
      "outputs": [
        {
          "output_type": "display_data",
          "data": {
            "text/plain": [
              "<Figure size 600x500 with 2 Axes>"
            ],
            "image/png": "[encoded data removed]"
          },
          "metadata": {}
        }
      ]
    },
    {
      "cell_type": "code",
      "execution_count": 26,
      "metadata": {
        "colab": {
          "base_uri": "https://localhost:8080/"
        },
        "id": "j8KxRkOTBHc3",
        "outputId": "7492eeb7-3d63-46cf-a882-2fa8948fee48"
      },
      "outputs": [
        {
          "output_type": "stream",
          "name": "stdout",
          "text": [
            "['Crop', 'Crop_Year', 'Season', 'State', 'Area', 'Production', 'Annual_Rainfall', 'Fertilizer', 'Pesticide', 'Yield', 'Soil_Fertility', 'Pesticide_Name', 'Soil_Fertility_Num']\n"
          ]
        }
      ],
      "source": [
        "print(df.columns.tolist())\n"
      ]
    },
    {
      "cell_type": "markdown",
      "metadata": {
        "id": "9a367a23"
      },
      "source": [
        "# Task\n",
        "Predict yield based on other parameters using the dataset in \"/content/mmmmmm.png\"."
      ]
    },
    {
      "cell_type": "markdown",
      "metadata": {
        "id": "68798ecd"
      },
      "source": [
        "## Prepare data for modeling\n",
        "\n",
        "### Subtask:\n",
        "Select the features (input variables) and the target variable (yield) for the model.\n"
      ]
    },
    {
      "cell_type": "markdown",
      "metadata": {
        "id": "f340f7aa"
      },
      "source": [
        "**Reasoning**:\n",
        "Define the features X and the target variable y by dropping the specified columns from the dataframe.\n",
        "\n"
      ]
    },
    {
      "cell_type": "markdown",
      "metadata": {
        "id": "a6a66d9a"
      },
      "source": [
        "## Encode categorical features\n",
        "\n",
        "### Subtask:\n",
        "Convert categorical features into a numerical format using one-hot encoding."
      ]
    },
    {
      "cell_type": "markdown",
      "metadata": {
        "id": "e22bc5f9"
      },
      "source": [
        "**Reasoning**:\n",
        "Use `pd.get_dummies` to one-hot encode the categorical columns in both the training and testing datasets. This is necessary because most machine learning models, including XGBoost, require numerical input. `drop_first=True` is used to avoid multicollinearity."
      ]
    },
    {
      "cell_type": "code",
      "execution_count": 27,
      "metadata": {
        "colab": {
          "base_uri": "https://localhost:8080/"
        },
        "id": "4c013804",
        "outputId": "ed34fbe0-0d34-48fe-92c1-ea119be0894f"
      },
      "outputs": [
        {
          "output_type": "stream",
          "name": "stdout",
          "text": [
            "Shape of X_train after encoding: (15751, 5)\n",
            "Shape of X_test after encoding: (3938, 5)\n",
            "✅ LabelEncoders saved for Flask\n"
          ]
        }
      ],
      "source": [
        "from sklearn.preprocessing import LabelEncoder\n",
        "\n",
        "# --- Categorical columns ---\n",
        "categorical_cols = [\"Crop\", \"Season\", \"Soil_Fertility\", \"State\"]\n",
        "\n",
        "# --- Create a dictionary to store encoders ---\n",
        "label_encoders = {}\n",
        "\n",
        "# Encode train and test separately after splitting\n",
        "for col in categorical_cols:\n",
        "    le = LabelEncoder()\n",
        "    X_train[col] = le.fit_transform(X_train[col])\n",
        "    # Transform test using the same encoder\n",
        "    X_test[col] = X_test[col].map(lambda x: le.transform([x])[0] if x in le.classes_ else -1)\n",
        "    label_encoders[col] = le\n",
        "\n",
        "# X_train and X_test are now numeric with the same 5 features\n",
        "print(\"Shape of X_train after encoding:\", X_train.shape)\n",
        "print(\"Shape of X_test after encoding:\", X_test.shape)\n",
        "\n",
        "# --- Save encoders for Flask ---\n",
        "import joblib\n",
        "joblib.dump(label_encoders, \"label_encoders.pkl\")\n",
        "print(\"✅ LabelEncoders saved for Flask\")\n"
      ]
    },
    {
      "cell_type": "markdown",
      "metadata": {
        "id": "bb86cdd6"
      },
      "source": [
        "## Train a model\n",
        "\n",
        "### Subtask:\n",
        "Train a suitable regression model on the training data."
      ]
    },
    {
      "cell_type": "markdown",
      "metadata": {
        "id": "acc3fe45"
      },
      "source": [
        "**Reasoning**:\n",
        "Use `XGBRegressor` from `xgboost` to train a regression model on the training data (`X_train`, `y_train`). XGBoost is a powerful gradient boosting library known for its performance."
      ]
    },
    {
      "cell_type": "code",
      "execution_count": 28,
      "metadata": {
        "colab": {
          "base_uri": "https://localhost:8080/"
        },
        "id": "41add196",
        "outputId": "77b04c65-5b18-4206-82c4-84465c19ae94"
      },
      "outputs": [
        {
          "output_type": "stream",
          "name": "stdout",
          "text": [
            "✅ Yield Prediction with XGBoost (using Area, Crop, Season, Soil Fertility, State)\n",
            "R² Score: 0.9445947579406808\n",
            "RMSE: 210.6961999249485\n",
            "MAE: 15.832085120795082\n",
            "✅ Model and LabelEncoders saved for Flask\n"
          ]
        }
      ],
      "source": [
        "import pandas as pd\n",
        "import numpy as np\n",
        "from sklearn.model_selection import train_test_split\n",
        "from sklearn.preprocessing import LabelEncoder\n",
        "from sklearn.metrics import r2_score, mean_squared_error, mean_absolute_error\n",
        "from xgboost import XGBRegressor\n",
        "import joblib\n",
        "\n",
        "# --- Step 1: Select relevant columns ---\n",
        "features = [\"Area\", \"Crop\", \"Season\", \"Soil_Fertility\", \"State\"]\n",
        "target = \"Yield\"\n",
        "\n",
        "df_model = df[features + [target]].dropna()\n",
        "\n",
        "# --- Step 2: Encode categorical columns separately ---\n",
        "categorical_cols = [\"Crop\", \"Season\", \"Soil_Fertility\", \"State\"]\n",
        "label_encoders = {}\n",
        "\n",
        "for col in categorical_cols:\n",
        "    le = LabelEncoder()\n",
        "    df_model[col] = le.fit_transform(df_model[col])\n",
        "    label_encoders[col] = le  # save encoder for Flask\n",
        "\n",
        "# --- Step 3: Split data ---\n",
        "X = df_model[features]\n",
        "y = df_model[target]\n",
        "\n",
        "X_train, X_test, y_train, y_test = train_test_split(\n",
        "    X, y, test_size=0.2, random_state=42\n",
        ")\n",
        "\n",
        "# --- Step 4: Train XGBoost Regressor ---\n",
        "model = XGBRegressor(\n",
        "    objective='reg:squarederror',\n",
        "    n_estimators=300,\n",
        "    max_depth=5,\n",
        "    learning_rate=0.1,\n",
        "    random_state=42\n",
        ")\n",
        "model.fit(X_train, y_train)\n",
        "\n",
        "# --- Step 5: Predictions ---\n",
        "y_pred = model.predict(X_test)\n",
        "\n",
        "# --- Step 6: Evaluation ---\n",
        "r2 = r2_score(y_test, y_pred)\n",
        "rmse = np.sqrt(mean_squared_error(y_test, y_pred))\n",
        "mae = mean_absolute_error(y_test, y_pred)\n",
        "\n",
        "print(\"✅ Yield Prediction with XGBoost (using Area, Crop, Season, Soil Fertility, State)\")\n",
        "print(\"R² Score:\", r2)\n",
        "print(\"RMSE:\", rmse)\n",
        "print(\"MAE:\", mae)\n",
        "\n",
        "# --- Step 7: Save model and encoders for Flask ---\n",
        "joblib.dump(model, \"xgb_regressor_model.pkl\")\n",
        "joblib.dump(label_encoders, \"label_encoders.pkl\")\n",
        "print(\"✅ Model and LabelEncoders saved for Flask\")\n"
      ]
    },
    {
      "cell_type": "markdown",
      "metadata": {
        "id": "603ba927"
      },
      "source": [
        "## Finish task\n",
        "\n",
        "### Subtask:\n",
        "Summarize the findings and the model's performance."
      ]
    },
    {
      "cell_type": "markdown",
      "metadata": {
        "id": "126839d0"
      },
      "source": [
        "**Summary**:\n",
        "We loaded the dataset, performed data cleaning and preprocessing, including handling missing values, removing duplicates, and encoding categorical features. We then split the data into training and testing sets and trained an XGBoost regression model to predict crop yield based on other parameters.\n",
        "\n",
        "The model achieved an R2 score of {{r2_score(y_test, y_pred)}} and a Mean Squared Error (MSE) of {{mean_squared_error(y_test, y_pred)}} on the test set. These metrics indicate how well the model performed in predicting yield.\n",
        "\n",
        "The sample predictions show that the model can provide estimates of yield based on the input features. Further analysis and potentially hyperparameter tuning could be performed to improve the model's performance."
      ]
    },
    {
      "cell_type": "markdown",
      "metadata": {
        "id": "ecdef7e6"
      },
      "source": [
        "## Predict yield\n",
        "\n",
        "### Subtask:\n",
        "Use the trained model to predict yield on new or unseen data."
      ]
    },
    {
      "cell_type": "markdown",
      "metadata": {
        "id": "660af7ca"
      },
      "source": [
        "**Reasoning**:\n",
        "Use the `predict` method of the trained XGBoost model to generate yield predictions for the test set (`X_test`)."
      ]
    },
    {
      "cell_type": "markdown",
      "metadata": {
        "id": "b48be198"
      },
      "source": [
        "## Split data\n",
        "\n",
        "### Subtask:\n",
        "Split the dataset into training and testing sets using `train_test_split`."
      ]
    },
    {
      "cell_type": "markdown",
      "metadata": {
        "id": "810c0d3d"
      },
      "source": [
        "**Reasoning**:\n",
        "Split the data into training (80%) and testing (20%) sets using `train_test_split` from `sklearn.model_selection`."
      ]
    },
    {
      "cell_type": "code",
      "execution_count": 29,
      "metadata": {
        "colab": {
          "base_uri": "https://localhost:8080/"
        },
        "id": "d376e70e",
        "outputId": "f836a1d1-6407-4b95-e77f-331abd79798a"
      },
      "outputs": [
        {
          "output_type": "stream",
          "name": "stdout",
          "text": [
            "Shape of X_train: (15751, 5)\n",
            "Shape of X_test: (3938, 5)\n",
            "Shape of y_train: (15751,)\n",
            "Shape of y_test: (3938,)\n"
          ]
        }
      ],
      "source": [
        "from sklearn.model_selection import train_test_split\n",
        "\n",
        "X_train, X_test, y_train, y_test = train_test_split(\n",
        "    X, y, test_size=0.2, random_state=42\n",
        ")\n",
        "\n",
        "print(\"Shape of X_train:\", X_train.shape)\n",
        "print(\"Shape of X_test:\", X_test.shape)\n",
        "print(\"Shape of y_train:\", y_train.shape)\n",
        "print(\"Shape of y_test:\", y_test.shape)"
      ]
    },
    {
      "cell_type": "markdown",
      "metadata": {
        "id": "89a1f23a"
      },
      "source": [
        "**Reasoning**:\n",
        "The previous command failed because the specified columns were not found in the DataFrame. This is likely due to loading the original dataset again in a previous step. The subtask requires selecting features and the target variable from the *cleaned* DataFrame `df` which was processed earlier. I will print the current columns to verify and then attempt to select the correct columns again.\n",
        "\n"
      ]
    },
    {
      "cell_type": "code",
      "source": [
        "from joblib import dump , load\n",
        "dump(model,'xgb_regressor_model.pkl')\n",
        "loaded_model = load('xgb_regressor_model.pkl')"
      ],
      "metadata": {
        "id": "EOE1TxOircB4"
      },
      "execution_count": 30,
      "outputs": []
    },
    {
      "cell_type": "code",
      "source": [
        "import os\n",
        "\n",
        "print(os.path.exists(\"xgb_regressor_model.pkl\"))  # should print True\n",
        "print(os.path.getsize(\"xgb_regressor_model.pkl\")) # file size in bytes\n"
      ],
      "metadata": {
        "colab": {
          "base_uri": "https://localhost:8080/"
        },
        "id": "FnHwG5cQ9_gr",
        "outputId": "0ba68a3f-ebe2-42ef-9dc4-77a6631635a8"
      },
      "execution_count": 31,
      "outputs": [
        {
          "output_type": "stream",
          "name": "stdout",
          "text": [
            "True\n",
            "791525\n"
          ]
        }
      ]
    },
    {
      "cell_type": "code",
      "source": [
        "y_pred_original = model.predict(X_test)\n",
        "\n",
        "# Loaded model prediction\n",
        "y_pred_loaded = loaded_model.predict(X_test)\n",
        "\n",
        "# Compare\n",
        "print(\"Are predictions same? \", (y_pred_original == y_pred_loaded).all())\n"
      ],
      "metadata": {
        "colab": {
          "base_uri": "https://localhost:8080/"
        },
        "id": "1ilUQwTp-L_k",
        "outputId": "8caa5d2a-6e2b-4343-a34e-e83d0b96b987"
      },
      "execution_count": 39,
      "outputs": [
        {
          "output_type": "stream",
          "name": "stdout",
          "text": [
            "Are predictions same?  True\n"
          ]
        }
      ]
    },
    {
      "cell_type": "code",
      "source": [
        "sample = X_test[0:1]   # take one test sample\n",
        "print(\"Original:\", model.predict(sample))\n",
        "print(\"Loaded:\", loaded_model.predict(sample))\n"
      ],
      "metadata": {
        "colab": {
          "base_uri": "https://localhost:8080/"
        },
        "id": "b6U937KR-TxV",
        "outputId": "ff50102b-914f-4554-b0ba-051d1129477f"
      },
      "execution_count": 33,
      "outputs": [
        {
          "output_type": "stream",
          "name": "stdout",
          "text": [
            "Original: [0.5208317]\n",
            "Loaded: [0.5208317]\n"
          ]
        }
      ]
    },
    {
      "cell_type": "code",
      "source": [
        "from google.colab import files\n",
        "files.download(\"xgb_regressor_model.pkl\")\n"
      ],
      "metadata": {
        "colab": {
          "base_uri": "https://localhost:8080/",
          "height": 17
        },
        "id": "zLpH7q_a_WuG",
        "outputId": "5fde3a74-ec15-4b60-dc49-6bfa967d6fb0"
      },
      "execution_count": 34,
      "outputs": [
        {
          "output_type": "display_data",
          "data": {
            "text/plain": [
              "<IPython.core.display.Javascript object>"
            ],
            "application/javascript": [
              "\n",
              "    async function download(id, filename, size) {\n",
              "      if (!google.colab.kernel.accessAllowed) {\n",
              "        return;\n",
              "      }\n",
              "      const div = document.createElement('div');\n",
              "      const label = document.createElement('label');\n",
              "      label.textContent = `Downloading \"${filename}\": `;\n",
              "      div.appendChild(label);\n",
              "      const progress = document.createElement('progress');\n",
              "      progress.max = size;\n",
              "      div.appendChild(progress);\n",
              "      document.body.appendChild(div);\n",
              "\n",
              "      const buffers = [];\n",
              "      let downloaded = 0;\n",
              "\n",
              "      const channel = await google.colab.kernel.comms.open(id);\n",
              "      // Send a message to notify the kernel that we're ready.\n",
              "      channel.send({})\n",
              "\n",
              "      for await (const message of channel.messages) {\n",
              "        // Send a message to notify the kernel that we're ready.\n",
              "        channel.send({})\n",
              "        if (message.buffers) {\n",
              "          for (const buffer of message.buffers) {\n",
              "            buffers.push(buffer);\n",
              "            downloaded += buffer.byteLength;\n",
              "            progress.value = downloaded;\n",
              "          }\n",
              "        }\n",
              "      }\n",
              "      const blob = new Blob(buffers, {type: 'application/binary'});\n",
              "      const a = document.createElement('a');\n",
              "      a.href = window.URL.createObjectURL(blob);\n",
              "      a.download = filename;\n",
              "      div.appendChild(a);\n",
              "      a.click();\n",
              "      div.remove();\n",
              "    }\n",
              "  "
            ]
          },
          "metadata": {}
        },
        {
          "output_type": "display_data",
          "data": {
            "text/plain": [
              "<IPython.core.display.Javascript object>"
            ],
            "application/javascript": [
              "download(\"download_ec64493e-c829-4c6f-89f8-0d2c3e806261\", \"xgb_regressor_model.pkl\", 791525)"
            ]
          },
          "metadata": {}
        }
      ]
    },
    {
      "cell_type": "code",
      "source": [
        "import joblib\n",
        "\n",
        "# Save label encoders for categorical columns\n",
        "encoders = {}\n",
        "for col in [\"Crop\", \"Season\", \"Soil_Fertility\", \"State\"]:\n",
        "    le = LabelEncoder()\n",
        "    df_model[col] = le.fit_transform(df_model[col])\n",
        "    encoders[col] = le\n",
        "\n",
        "joblib.dump(encoders, \"label_encoders.pkl\")\n"
      ],
      "metadata": {
        "colab": {
          "base_uri": "https://localhost:8080/"
        },
        "id": "IocPDt7TKtW6",
        "outputId": "936c7597-8a74-492c-ae39-ce201aa61f02"
      },
      "execution_count": 35,
      "outputs": [
        {
          "output_type": "execute_result",
          "data": {
            "text/plain": [
              "['label_encoders.pkl']"
            ]
          },
          "metadata": {},
          "execution_count": 35
        }
      ]
    },
    {
      "cell_type": "code",
      "source": [
        "from sklearn.preprocessing import LabelEncoder\n",
        "\n",
        "# Recreate and save encoders (or use the ones already fit)\n",
        "encoders = {}\n",
        "for col in [\"Crop\", \"Season\", \"Soil_Fertility\", \"State\"]:\n",
        "    le = LabelEncoder()\n",
        "    df_model[col] = le.fit_transform(df_model[col])\n",
        "    encoders[col] = le\n",
        "\n",
        "# Save all encoders together\n",
        "joblib.dump(encoders, \"label_encoders.pkl\")\n"
      ],
      "metadata": {
        "colab": {
          "base_uri": "https://localhost:8080/"
        },
        "id": "8oGs7Nfk-kSr",
        "outputId": "fc9cbde6-c3e1-4b2a-8b49-9fd71d0dff2b"
      },
      "execution_count": 36,
      "outputs": [
        {
          "output_type": "execute_result",
          "data": {
            "text/plain": [
              "['label_encoders.pkl']"
            ]
          },
          "metadata": {},
          "execution_count": 36
        }
      ]
    },
    {
      "cell_type": "code",
      "source": [
        "import pandas as pd\n",
        "import numpy as np\n",
        "from sklearn.model_selection import train_test_split\n",
        "from sklearn.preprocessing import LabelEncoder\n",
        "from xgboost import XGBRegressor\n",
        "import joblib\n",
        "\n",
        "# ----------------------------\n",
        "# 1. Select features and target\n",
        "# ----------------------------\n",
        "features = [\"Area\", \"Crop\", \"Season\", \"Soil_Fertility\", \"State\"]\n",
        "target = \"Yield\"\n",
        "\n",
        "# Assume df is your DataFrame\n",
        "df_model = df[features + [target]].dropna().copy()  # copy() avoids Pandas warnings\n",
        "\n",
        "# ----------------------------\n",
        "# 2. Encode categorical features\n",
        "# ----------------------------\n",
        "categorical_cols = [\"Crop\", \"Season\", \"Soil_Fertility\", \"State\"]\n",
        "label_encoders = {}\n",
        "\n",
        "for col in categorical_cols:\n",
        "    le = LabelEncoder()\n",
        "    df_model[col] = le.fit_transform(df_model[col])\n",
        "    label_encoders[col] = le  # Save encoder for later use in predictions\n",
        "\n",
        "# ----------------------------\n",
        "# 3. Split data\n",
        "# ----------------------------\n",
        "X = df_model[features]\n",
        "y = df_model[target]\n",
        "\n",
        "X_train, X_test, y_train, y_test = train_test_split(\n",
        "    X, y, test_size=0.2, random_state=42\n",
        ")\n",
        "\n",
        "# ----------------------------\n",
        "# 4. Train XGBoost model\n",
        "# ----------------------------\n",
        "model = XGBRegressor(\n",
        "    objective='reg:squarederror',\n",
        "    n_estimators=300,\n",
        "    max_depth=5,\n",
        "    learning_rate=0.1,\n",
        "    random_state=42\n",
        ")\n",
        "model.fit(X_train, y_train)\n",
        "\n",
        "# ----------------------------\n",
        "# 5. Save model and encoders\n",
        "# ----------------------------\n",
        "joblib.dump(model, \"xgb_regressor_model.pkl\")\n",
        "joblib.dump(label_encoders, \"label_encoders.pkl\")\n",
        "\n",
        "# ----------------------------\n",
        "# 6. Function for prediction using raw input\n",
        "# ----------------------------\n",
        "def predict_yield(input_raw):\n",
        "    \"\"\"\n",
        "    input_raw: dict with keys [\"Area\", \"Crop\", \"Season\", \"Soil_Fertility\", \"State\"]\n",
        "    Example:\n",
        "    input_raw = {\n",
        "        \"Area\": 2.5,\n",
        "        \"Crop\": \"Sugarcane\",\n",
        "        \"Season\": \"Kharif\",\n",
        "        \"Soil_Fertility\": \"High\",\n",
        "        \"State\": \"Karnataka\"\n",
        "    }\n",
        "    \"\"\"\n",
        "    input_encoded = [\n",
        "        input_raw[\"Area\"],  # numeric\n",
        "        label_encoders[\"Crop\"].transform([input_raw[\"Crop\"]])[0],\n",
        "        label_encoders[\"Season\"].transform([input_raw[\"Season\"]])[0],\n",
        "        label_encoders[\"Soil_Fertility\"].transform([input_raw[\"Soil_Fertility\"]])[0],\n",
        "        label_encoders[\"State\"].transform([input_raw[\"State\"]])[0]\n",
        "    ]\n",
        "\n",
        "    # Predict\n",
        "    return model.predict(np.array(input_encoded).reshape(1, -1))[0]\n",
        "\n",
        "# ----------------------------\n",
        "# 7. Example usage\n",
        "# ----------------------------\n",
        "example_input = {\n",
        "    \"Area\": 2.5,\n",
        "    \"Crop\": \"Sugarcane\",\n",
        "    \"Season\": \"Kharif\",\n",
        "    \"Soil_Fertility\": \"High\",\n",
        "    \"State\": \"Karnataka\"\n",
        "}\n",
        "\n",
        "print(\"Predicted Yield:\", predict_yield(example_input))\n"
      ],
      "metadata": {
        "colab": {
          "base_uri": "https://localhost:8080/"
        },
        "id": "gI1o79aMpeio",
        "outputId": "ff0a670a-5f4e-46c8-e15c-1a1aca677ada"
      },
      "execution_count": 46,
      "outputs": [
        {
          "output_type": "stream",
          "name": "stdout",
          "text": [
            "Predicted Yield: 18.925228\n"
          ]
        }
      ]
    },
    {
      "cell_type": "markdown",
      "source": [],
      "metadata": {
        "id": "D3AQUWeeLju0"
      }
    },
    {
      "cell_type": "code",
      "source": [
        "from google.colab import files\n",
        "\n",
        "# Download model\n",
        "files.download(\"xgb_regressor_model.pkl\")\n",
        "\n",
        "# Download encoders\n",
        "files.download(\"label_encoders.pkl\")\n"
      ],
      "metadata": {
        "colab": {
          "base_uri": "https://localhost:8080/",
          "height": 17
        },
        "id": "lkcxWWn-LJAz",
        "outputId": "4a4606e2-cb87-413e-88c1-a7b4ab5e7f4e"
      },
      "execution_count": 47,
      "outputs": [
        {
          "output_type": "display_data",
          "data": {
            "text/plain": [
              "<IPython.core.display.Javascript object>"
            ],
            "application/javascript": [
              "\n",
              "    async function download(id, filename, size) {\n",
              "      if (!google.colab.kernel.accessAllowed) {\n",
              "        return;\n",
              "      }\n",
              "      const div = document.createElement('div');\n",
              "      const label = document.createElement('label');\n",
              "      label.textContent = `Downloading \"${filename}\": `;\n",
              "      div.appendChild(label);\n",
              "      const progress = document.createElement('progress');\n",
              "      progress.max = size;\n",
              "      div.appendChild(progress);\n",
              "      document.body.appendChild(div);\n",
              "\n",
              "      const buffers = [];\n",
              "      let downloaded = 0;\n",
              "\n",
              "      const channel = await google.colab.kernel.comms.open(id);\n",
              "      // Send a message to notify the kernel that we're ready.\n",
              "      channel.send({})\n",
              "\n",
              "      for await (const message of channel.messages) {\n",
              "        // Send a message to notify the kernel that we're ready.\n",
              "        channel.send({})\n",
              "        if (message.buffers) {\n",
              "          for (const buffer of message.buffers) {\n",
              "            buffers.push(buffer);\n",
              "            downloaded += buffer.byteLength;\n",
              "            progress.value = downloaded;\n",
              "          }\n",
              "        }\n",
              "      }\n",
              "      const blob = new Blob(buffers, {type: 'application/binary'});\n",
              "      const a = document.createElement('a');\n",
              "      a.href = window.URL.createObjectURL(blob);\n",
              "      a.download = filename;\n",
              "      div.appendChild(a);\n",
              "      a.click();\n",
              "      div.remove();\n",
              "    }\n",
              "  "
            ]
          },
          "metadata": {}
        },
        {
          "output_type": "display_data",
          "data": {
            "text/plain": [
              "<IPython.core.display.Javascript object>"
            ],
            "application/javascript": [
              "download(\"download_198ff2d3-f5ae-4730-8eb5-8a62d9d27331\", \"xgb_regressor_model.pkl\", 791525)"
            ]
          },
          "metadata": {}
        },
        {
          "output_type": "display_data",
          "data": {
            "text/plain": [
              "<IPython.core.display.Javascript object>"
            ],
            "application/javascript": [
              "\n",
              "    async function download(id, filename, size) {\n",
              "      if (!google.colab.kernel.accessAllowed) {\n",
              "        return;\n",
              "      }\n",
              "      const div = document.createElement('div');\n",
              "      const label = document.createElement('label');\n",
              "      label.textContent = `Downloading \"${filename}\": `;\n",
              "      div.appendChild(label);\n",
              "      const progress = document.createElement('progress');\n",
              "      progress.max = size;\n",
              "      div.appendChild(progress);\n",
              "      document.body.appendChild(div);\n",
              "\n",
              "      const buffers = [];\n",
              "      let downloaded = 0;\n",
              "\n",
              "      const channel = await google.colab.kernel.comms.open(id);\n",
              "      // Send a message to notify the kernel that we're ready.\n",
              "      channel.send({})\n",
              "\n",
              "      for await (const message of channel.messages) {\n",
              "        // Send a message to notify the kernel that we're ready.\n",
              "        channel.send({})\n",
              "        if (message.buffers) {\n",
              "          for (const buffer of message.buffers) {\n",
              "            buffers.push(buffer);\n",
              "            downloaded += buffer.byteLength;\n",
              "            progress.value = downloaded;\n",
              "          }\n",
              "        }\n",
              "      }\n",
              "      const blob = new Blob(buffers, {type: 'application/binary'});\n",
              "      const a = document.createElement('a');\n",
              "      a.href = window.URL.createObjectURL(blob);\n",
              "      a.download = filename;\n",
              "      div.appendChild(a);\n",
              "      a.click();\n",
              "      div.remove();\n",
              "    }\n",
              "  "
            ]
          },
          "metadata": {}
        },
        {
          "output_type": "display_data",
          "data": {
            "text/plain": [
              "<IPython.core.display.Javascript object>"
            ],
            "application/javascript": [
              "download(\"download_a22ad667-304e-484c-a628-51618aefa977\", \"label_encoders.pkl\", 2256)"
            ]
          },
          "metadata": {}
        }
      ]
    },
    {
      "cell_type": "code",
      "source": [
        "!pip install flask-ngrok\n",
        "!pip install tensorflow   # or torch, scikit-learn depending on your model\n"
      ],
      "metadata": {
        "colab": {
          "base_uri": "https://localhost:8080/"
        },
        "id": "nl6Esd-OsdX0",
        "outputId": "5f399fff-d809-4624-9c4f-ec4fd0e296b2"
      },
      "execution_count": 48,
      "outputs": [
        {
          "output_type": "stream",
          "name": "stdout",
          "text": [
            "Requirement already satisfied: flask-ngrok in /usr/local/lib/python3.12/dist-packages (0.0.25)\n",
            "Requirement already satisfied: Flask>=0.8 in /usr/local/lib/python3.12/dist-packages (from flask-ngrok) (3.1.2)\n",
            "Requirement already satisfied: requests in /usr/local/lib/python3.12/dist-packages (from flask-ngrok) (2.32.4)\n",
            "Requirement already satisfied: blinker>=1.9.0 in /usr/local/lib/python3.12/dist-packages (from Flask>=0.8->flask-ngrok) (1.9.0)\n",
            "Requirement already satisfied: click>=8.1.3 in /usr/local/lib/python3.12/dist-packages (from Flask>=0.8->flask-ngrok) (8.2.1)\n",
            "Requirement already satisfied: itsdangerous>=2.2.0 in /usr/local/lib/python3.12/dist-packages (from Flask>=0.8->flask-ngrok) (2.2.0)\n",
            "Requirement already satisfied: jinja2>=3.1.2 in /usr/local/lib/python3.12/dist-packages (from Flask>=0.8->flask-ngrok) (3.1.6)\n",
            "Requirement already satisfied: markupsafe>=2.1.1 in /usr/local/lib/python3.12/dist-packages (from Flask>=0.8->flask-ngrok) (3.0.2)\n",
            "Requirement already satisfied: werkzeug>=3.1.0 in /usr/local/lib/python3.12/dist-packages (from Flask>=0.8->flask-ngrok) (3.1.3)\n",
            "Requirement already satisfied: charset_normalizer<4,>=2 in /usr/local/lib/python3.12/dist-packages (from requests->flask-ngrok) (3.4.3)\n",
            "Requirement already satisfied: idna<4,>=2.5 in /usr/local/lib/python3.12/dist-packages (from requests->flask-ngrok) (3.10)\n",
            "Requirement already satisfied: urllib3<3,>=1.21.1 in /usr/local/lib/python3.12/dist-packages (from requests->flask-ngrok) (2.5.0)\n",
            "Requirement already satisfied: certifi>=2017.4.17 in /usr/local/lib/python3.12/dist-packages (from requests->flask-ngrok) (2025.8.3)\n",
            "Requirement already satisfied: tensorflow in /usr/local/lib/python3.12/dist-packages (2.19.0)\n",
            "Requirement already satisfied: absl-py>=1.0.0 in /usr/local/lib/python3.12/dist-packages (from tensorflow) (1.4.0)\n",
            "Requirement already satisfied: astunparse>=1.6.0 in /usr/local/lib/python3.12/dist-packages (from tensorflow) (1.6.3)\n",
            "Requirement already satisfied: flatbuffers>=24.3.25 in /usr/local/lib/python3.12/dist-packages (from tensorflow) (25.2.10)\n",
            "Requirement already satisfied: gast!=0.5.0,!=0.5.1,!=0.5.2,>=0.2.1 in /usr/local/lib/python3.12/dist-packages (from tensorflow) (0.6.0)\n",
            "Requirement already satisfied: google-pasta>=0.1.1 in /usr/local/lib/python3.12/dist-packages (from tensorflow) (0.2.0)\n",
            "Requirement already satisfied: libclang>=13.0.0 in /usr/local/lib/python3.12/dist-packages (from tensorflow) (18.1.1)\n",
            "Requirement already satisfied: opt-einsum>=2.3.2 in /usr/local/lib/python3.12/dist-packages (from tensorflow) (3.4.0)\n",
            "Requirement already satisfied: packaging in /usr/local/lib/python3.12/dist-packages (from tensorflow) (25.0)\n",
            "Requirement already satisfied: protobuf!=4.21.0,!=4.21.1,!=4.21.2,!=4.21.3,!=4.21.4,!=4.21.5,<6.0.0dev,>=3.20.3 in /usr/local/lib/python3.12/dist-packages (from tensorflow) (5.29.5)\n",
            "Requirement already satisfied: requests<3,>=2.21.0 in /usr/local/lib/python3.12/dist-packages (from tensorflow) (2.32.4)\n",
            "Requirement already satisfied: setuptools in /usr/local/lib/python3.12/dist-packages (from tensorflow) (75.2.0)\n",
            "Requirement already satisfied: six>=1.12.0 in /usr/local/lib/python3.12/dist-packages (from tensorflow) (1.17.0)\n",
            "Requirement already satisfied: termcolor>=1.1.0 in /usr/local/lib/python3.12/dist-packages (from tensorflow) (3.1.0)\n",
            "Requirement already satisfied: typing-extensions>=3.6.6 in /usr/local/lib/python3.12/dist-packages (from tensorflow) (4.15.0)\n",
            "Requirement already satisfied: wrapt>=1.11.0 in /usr/local/lib/python3.12/dist-packages (from tensorflow) (1.17.3)\n",
            "Requirement already satisfied: grpcio<2.0,>=1.24.3 in /usr/local/lib/python3.12/dist-packages (from tensorflow) (1.74.0)\n",
            "Requirement already satisfied: tensorboard~=2.19.0 in /usr/local/lib/python3.12/dist-packages (from tensorflow) (2.19.0)\n",
            "Requirement already satisfied: keras>=3.5.0 in /usr/local/lib/python3.12/dist-packages (from tensorflow) (3.10.0)\n",
            "Requirement already satisfied: numpy<2.2.0,>=1.26.0 in /usr/local/lib/python3.12/dist-packages (from tensorflow) (2.0.2)\n",
            "Requirement already satisfied: h5py>=3.11.0 in /usr/local/lib/python3.12/dist-packages (from tensorflow) (3.14.0)\n",
            "Requirement already satisfied: ml-dtypes<1.0.0,>=0.5.1 in /usr/local/lib/python3.12/dist-packages (from tensorflow) (0.5.3)\n",
            "Requirement already satisfied: wheel<1.0,>=0.23.0 in /usr/local/lib/python3.12/dist-packages (from astunparse>=1.6.0->tensorflow) (0.45.1)\n",
            "Requirement already satisfied: rich in /usr/local/lib/python3.12/dist-packages (from keras>=3.5.0->tensorflow) (13.9.4)\n",
            "Requirement already satisfied: namex in /usr/local/lib/python3.12/dist-packages (from keras>=3.5.0->tensorflow) (0.1.0)\n",
            "Requirement already satisfied: optree in /usr/local/lib/python3.12/dist-packages (from keras>=3.5.0->tensorflow) (0.17.0)\n",
            "Requirement already satisfied: charset_normalizer<4,>=2 in /usr/local/lib/python3.12/dist-packages (from requests<3,>=2.21.0->tensorflow) (3.4.3)\n",
            "Requirement already satisfied: idna<4,>=2.5 in /usr/local/lib/python3.12/dist-packages (from requests<3,>=2.21.0->tensorflow) (3.10)\n",
            "Requirement already satisfied: urllib3<3,>=1.21.1 in /usr/local/lib/python3.12/dist-packages (from requests<3,>=2.21.0->tensorflow) (2.5.0)\n",
            "Requirement already satisfied: certifi>=2017.4.17 in /usr/local/lib/python3.12/dist-packages (from requests<3,>=2.21.0->tensorflow) (2025.8.3)\n",
            "Requirement already satisfied: markdown>=2.6.8 in /usr/local/lib/python3.12/dist-packages (from tensorboard~=2.19.0->tensorflow) (3.9)\n",
            "Requirement already satisfied: tensorboard-data-server<0.8.0,>=0.7.0 in /usr/local/lib/python3.12/dist-packages (from tensorboard~=2.19.0->tensorflow) (0.7.2)\n",
            "Requirement already satisfied: werkzeug>=1.0.1 in /usr/local/lib/python3.12/dist-packages (from tensorboard~=2.19.0->tensorflow) (3.1.3)\n",
            "Requirement already satisfied: MarkupSafe>=2.1.1 in /usr/local/lib/python3.12/dist-packages (from werkzeug>=1.0.1->tensorboard~=2.19.0->tensorflow) (3.0.2)\n",
            "Requirement already satisfied: markdown-it-py>=2.2.0 in /usr/local/lib/python3.12/dist-packages (from rich->keras>=3.5.0->tensorflow) (4.0.0)\n",
            "Requirement already satisfied: pygments<3.0.0,>=2.13.0 in /usr/local/lib/python3.12/dist-packages (from rich->keras>=3.5.0->tensorflow) (2.19.2)\n",
            "Requirement already satisfied: mdurl~=0.1 in /usr/local/lib/python3.12/dist-packages (from markdown-it-py>=2.2.0->rich->keras>=3.5.0->tensorflow) (0.1.2)\n"
          ]
        }
      ]
    },
    {
      "cell_type": "code",
      "source": [
        "from flask import Flask, request, jsonify\n",
        "from flask_ngrok import run_with_ngrok\n",
        "from tensorflow.keras.models import load_model\n",
        "import numpy as np\n",
        "\n",
        "# Load your trained model (make sure the file is uploaded to Colab)\n",
        "model = load_model(\"my_model.h5\")\n",
        "\n",
        "app = Flask(__name__)\n",
        "run_with_ngrok(app)  # starts ngrok when app runs\n",
        "\n",
        "@app.route('/')\n",
        "def home():\n",
        "    return \"Flask + Ngrok Model API is running!\"\n",
        "\n",
        "@app.route('/predict', methods=['POST'])\n",
        "def predict():\n",
        "    data = request.get_json()\n",
        "    input_data = np.array(data['input']).reshape(1, -1)\n",
        "    prediction = model.predict(input_data)\n",
        "    return jsonify({\"prediction\": prediction.tolist()})\n",
        "\n",
        "# Run the app\n",
        "app.run()\n"
      ],
      "metadata": {
        "colab": {
          "base_uri": "https://localhost:8080/",
          "height": 478
        },
        "id": "7pA43O9ysxeo",
        "outputId": "e722a985-5f70-4dba-bba6-706278f8e43f"
      },
      "execution_count": 49,
      "outputs": [
        {
          "output_type": "error",
          "ename": "FileNotFoundError",
          "evalue": "[Errno 2] Unable to synchronously open file (unable to open file: name = 'my_model.h5', errno = 2, error message = 'No such file or directory', flags = 0, o_flags = 0)",
          "traceback": [
            "\u001b[0;31m---------------------------------------------------------------------------\u001b[0m",
            "\u001b[0;31mFileNotFoundError\u001b[0m                         Traceback (most recent call last)",
            "\u001b[0;32m/tmp/ipython-input-2154488275.py\u001b[0m in \u001b[0;36m<cell line: 0>\u001b[0;34m()\u001b[0m\n\u001b[1;32m      5\u001b[0m \u001b[0;34m\u001b[0m\u001b[0m\n\u001b[1;32m      6\u001b[0m \u001b[0;31m# Load your trained model (make sure the file is uploaded to Colab)\u001b[0m\u001b[0;34m\u001b[0m\u001b[0;34m\u001b[0m\u001b[0m\n\u001b[0;32m----> 7\u001b[0;31m \u001b[0mmodel\u001b[0m \u001b[0;34m=\u001b[0m \u001b[0mload_model\u001b[0m\u001b[0;34m(\u001b[0m\u001b[0;34m\"my_model.h5\"\u001b[0m\u001b[0;34m)\u001b[0m\u001b[0;34m\u001b[0m\u001b[0;34m\u001b[0m\u001b[0m\n\u001b[0m\u001b[1;32m      8\u001b[0m \u001b[0;34m\u001b[0m\u001b[0m\n\u001b[1;32m      9\u001b[0m \u001b[0mapp\u001b[0m \u001b[0;34m=\u001b[0m \u001b[0mFlask\u001b[0m\u001b[0;34m(\u001b[0m\u001b[0m__name__\u001b[0m\u001b[0;34m)\u001b[0m\u001b[0;34m\u001b[0m\u001b[0;34m\u001b[0m\u001b[0m\n",
            "\u001b[0;32m/usr/local/lib/python3.12/dist-packages/keras/src/saving/saving_api.py\u001b[0m in \u001b[0;36mload_model\u001b[0;34m(filepath, custom_objects, compile, safe_mode)\u001b[0m\n\u001b[1;32m    194\u001b[0m         )\n\u001b[1;32m    195\u001b[0m     \u001b[0;32mif\u001b[0m \u001b[0mstr\u001b[0m\u001b[0;34m(\u001b[0m\u001b[0mfilepath\u001b[0m\u001b[0;34m)\u001b[0m\u001b[0;34m.\u001b[0m\u001b[0mendswith\u001b[0m\u001b[0;34m(\u001b[0m\u001b[0;34m(\u001b[0m\u001b[0;34m\".h5\"\u001b[0m\u001b[0;34m,\u001b[0m \u001b[0;34m\".hdf5\"\u001b[0m\u001b[0;34m)\u001b[0m\u001b[0;34m)\u001b[0m\u001b[0;34m:\u001b[0m\u001b[0;34m\u001b[0m\u001b[0;34m\u001b[0m\u001b[0m\n\u001b[0;32m--> 196\u001b[0;31m         return legacy_h5_format.load_model_from_hdf5(\n\u001b[0m\u001b[1;32m    197\u001b[0m             \u001b[0mfilepath\u001b[0m\u001b[0;34m,\u001b[0m \u001b[0mcustom_objects\u001b[0m\u001b[0;34m=\u001b[0m\u001b[0mcustom_objects\u001b[0m\u001b[0;34m,\u001b[0m \u001b[0mcompile\u001b[0m\u001b[0;34m=\u001b[0m\u001b[0mcompile\u001b[0m\u001b[0;34m\u001b[0m\u001b[0;34m\u001b[0m\u001b[0m\n\u001b[1;32m    198\u001b[0m         )\n",
            "\u001b[0;32m/usr/local/lib/python3.12/dist-packages/keras/src/legacy/saving/legacy_h5_format.py\u001b[0m in \u001b[0;36mload_model_from_hdf5\u001b[0;34m(filepath, custom_objects, compile)\u001b[0m\n\u001b[1;32m    114\u001b[0m     \u001b[0mopened_new_file\u001b[0m \u001b[0;34m=\u001b[0m \u001b[0;32mnot\u001b[0m \u001b[0misinstance\u001b[0m\u001b[0;34m(\u001b[0m\u001b[0mfilepath\u001b[0m\u001b[0;34m,\u001b[0m \u001b[0mh5py\u001b[0m\u001b[0;34m.\u001b[0m\u001b[0mFile\u001b[0m\u001b[0;34m)\u001b[0m\u001b[0;34m\u001b[0m\u001b[0;34m\u001b[0m\u001b[0m\n\u001b[1;32m    115\u001b[0m     \u001b[0;32mif\u001b[0m \u001b[0mopened_new_file\u001b[0m\u001b[0;34m:\u001b[0m\u001b[0;34m\u001b[0m\u001b[0;34m\u001b[0m\u001b[0m\n\u001b[0;32m--> 116\u001b[0;31m         \u001b[0mf\u001b[0m \u001b[0;34m=\u001b[0m \u001b[0mh5py\u001b[0m\u001b[0;34m.\u001b[0m\u001b[0mFile\u001b[0m\u001b[0;34m(\u001b[0m\u001b[0mfilepath\u001b[0m\u001b[0;34m,\u001b[0m \u001b[0mmode\u001b[0m\u001b[0;34m=\u001b[0m\u001b[0;34m\"r\"\u001b[0m\u001b[0;34m)\u001b[0m\u001b[0;34m\u001b[0m\u001b[0;34m\u001b[0m\u001b[0m\n\u001b[0m\u001b[1;32m    117\u001b[0m     \u001b[0;32melse\u001b[0m\u001b[0;34m:\u001b[0m\u001b[0;34m\u001b[0m\u001b[0;34m\u001b[0m\u001b[0m\n\u001b[1;32m    118\u001b[0m         \u001b[0mf\u001b[0m \u001b[0;34m=\u001b[0m \u001b[0mfilepath\u001b[0m\u001b[0;34m\u001b[0m\u001b[0;34m\u001b[0m\u001b[0m\n",
            "\u001b[0;32m/usr/local/lib/python3.12/dist-packages/h5py/_hl/files.py\u001b[0m in \u001b[0;36m__init__\u001b[0;34m(self, name, mode, driver, libver, userblock_size, swmr, rdcc_nslots, rdcc_nbytes, rdcc_w0, track_order, fs_strategy, fs_persist, fs_threshold, fs_page_size, page_buf_size, min_meta_keep, min_raw_keep, locking, alignment_threshold, alignment_interval, meta_block_size, **kwds)\u001b[0m\n\u001b[1;32m    562\u001b[0m                                  \u001b[0mfs_persist\u001b[0m\u001b[0;34m=\u001b[0m\u001b[0mfs_persist\u001b[0m\u001b[0;34m,\u001b[0m \u001b[0mfs_threshold\u001b[0m\u001b[0;34m=\u001b[0m\u001b[0mfs_threshold\u001b[0m\u001b[0;34m,\u001b[0m\u001b[0;34m\u001b[0m\u001b[0;34m\u001b[0m\u001b[0m\n\u001b[1;32m    563\u001b[0m                                  fs_page_size=fs_page_size)\n\u001b[0;32m--> 564\u001b[0;31m                 \u001b[0mfid\u001b[0m \u001b[0;34m=\u001b[0m \u001b[0mmake_fid\u001b[0m\u001b[0;34m(\u001b[0m\u001b[0mname\u001b[0m\u001b[0;34m,\u001b[0m \u001b[0mmode\u001b[0m\u001b[0;34m,\u001b[0m \u001b[0muserblock_size\u001b[0m\u001b[0;34m,\u001b[0m \u001b[0mfapl\u001b[0m\u001b[0;34m,\u001b[0m \u001b[0mfcpl\u001b[0m\u001b[0;34m,\u001b[0m \u001b[0mswmr\u001b[0m\u001b[0;34m=\u001b[0m\u001b[0mswmr\u001b[0m\u001b[0;34m)\u001b[0m\u001b[0;34m\u001b[0m\u001b[0;34m\u001b[0m\u001b[0m\n\u001b[0m\u001b[1;32m    565\u001b[0m \u001b[0;34m\u001b[0m\u001b[0m\n\u001b[1;32m    566\u001b[0m             \u001b[0;32mif\u001b[0m \u001b[0misinstance\u001b[0m\u001b[0;34m(\u001b[0m\u001b[0mlibver\u001b[0m\u001b[0;34m,\u001b[0m \u001b[0mtuple\u001b[0m\u001b[0;34m)\u001b[0m\u001b[0;34m:\u001b[0m\u001b[0;34m\u001b[0m\u001b[0;34m\u001b[0m\u001b[0m\n",
            "\u001b[0;32m/usr/local/lib/python3.12/dist-packages/h5py/_hl/files.py\u001b[0m in \u001b[0;36mmake_fid\u001b[0;34m(name, mode, userblock_size, fapl, fcpl, swmr)\u001b[0m\n\u001b[1;32m    236\u001b[0m         \u001b[0;32mif\u001b[0m \u001b[0mswmr\u001b[0m \u001b[0;32mand\u001b[0m \u001b[0mswmr_support\u001b[0m\u001b[0;34m:\u001b[0m\u001b[0;34m\u001b[0m\u001b[0;34m\u001b[0m\u001b[0m\n\u001b[1;32m    237\u001b[0m             \u001b[0mflags\u001b[0m \u001b[0;34m|=\u001b[0m \u001b[0mh5f\u001b[0m\u001b[0;34m.\u001b[0m\u001b[0mACC_SWMR_READ\u001b[0m\u001b[0;34m\u001b[0m\u001b[0;34m\u001b[0m\u001b[0m\n\u001b[0;32m--> 238\u001b[0;31m         \u001b[0mfid\u001b[0m \u001b[0;34m=\u001b[0m \u001b[0mh5f\u001b[0m\u001b[0;34m.\u001b[0m\u001b[0mopen\u001b[0m\u001b[0;34m(\u001b[0m\u001b[0mname\u001b[0m\u001b[0;34m,\u001b[0m \u001b[0mflags\u001b[0m\u001b[0;34m,\u001b[0m \u001b[0mfapl\u001b[0m\u001b[0;34m=\u001b[0m\u001b[0mfapl\u001b[0m\u001b[0;34m)\u001b[0m\u001b[0;34m\u001b[0m\u001b[0;34m\u001b[0m\u001b[0m\n\u001b[0m\u001b[1;32m    239\u001b[0m     \u001b[0;32melif\u001b[0m \u001b[0mmode\u001b[0m \u001b[0;34m==\u001b[0m \u001b[0;34m'r+'\u001b[0m\u001b[0;34m:\u001b[0m\u001b[0;34m\u001b[0m\u001b[0;34m\u001b[0m\u001b[0m\n\u001b[1;32m    240\u001b[0m         \u001b[0mfid\u001b[0m \u001b[0;34m=\u001b[0m \u001b[0mh5f\u001b[0m\u001b[0;34m.\u001b[0m\u001b[0mopen\u001b[0m\u001b[0;34m(\u001b[0m\u001b[0mname\u001b[0m\u001b[0;34m,\u001b[0m \u001b[0mh5f\u001b[0m\u001b[0;34m.\u001b[0m\u001b[0mACC_RDWR\u001b[0m\u001b[0;34m,\u001b[0m \u001b[0mfapl\u001b[0m\u001b[0;34m=\u001b[0m\u001b[0mfapl\u001b[0m\u001b[0;34m)\u001b[0m\u001b[0;34m\u001b[0m\u001b[0;34m\u001b[0m\u001b[0m\n",
            "\u001b[0;32mh5py/_objects.pyx\u001b[0m in \u001b[0;36mh5py._objects.with_phil.wrapper\u001b[0;34m()\u001b[0m\n",
            "\u001b[0;32mh5py/_objects.pyx\u001b[0m in \u001b[0;36mh5py._objects.with_phil.wrapper\u001b[0;34m()\u001b[0m\n",
            "\u001b[0;32mh5py/h5f.pyx\u001b[0m in \u001b[0;36mh5py.h5f.open\u001b[0;34m()\u001b[0m\n",
            "\u001b[0;31mFileNotFoundError\u001b[0m: [Errno 2] Unable to synchronously open file (unable to open file: name = 'my_model.h5', errno = 2, error message = 'No such file or directory', flags = 0, o_flags = 0)"
          ]
        }
      ]
    },
    {
      "cell_type": "code",
      "source": [
        "import os\n",
        "os.listdir()\n"
      ],
      "metadata": {
        "colab": {
          "base_uri": "https://localhost:8080/"
        },
        "id": "8jNnSaHJs_bO",
        "outputId": "d9fdd792-22f4-4118-cb64-9cadf265f6e5"
      },
      "execution_count": 43,
      "outputs": [
        {
          "output_type": "execute_result",
          "data": {
            "text/plain": [
              "['.config', 'sample_data', 'xgb_regressor_model.pkl', 'label_encoders.pkl']"
            ]
          },
          "metadata": {},
          "execution_count": 43
        }
      ]
    },
    {
      "cell_type": "code",
      "source": [
        "import joblib\n",
        "\n",
        "# Load the XGBoost model\n",
        "model = joblib.load(\"xgb_regressor_model.pkl\")\n",
        "\n",
        "# Optional: load label encoders if needed\n",
        "label_encoders = joblib.load(\"label_encoders.pkl\")\n"
      ],
      "metadata": {
        "id": "wzeAWJOztFap"
      },
      "execution_count": 50,
      "outputs": []
    },
    {
      "cell_type": "code",
      "source": [
        "# Example input (replace with your features)\n",
        "input_data = [[5.1, 3.5, 1.4, 0.2]]  # 2D array for XGBoost\n",
        "\n",
        "prediction = model.predict(input_data)\n",
        "print(prediction)\n"
      ],
      "metadata": {
        "colab": {
          "base_uri": "https://localhost:8080/",
          "height": 356
        },
        "id": "2o9uKt2qtIDS",
        "outputId": "1e360e4a-def3-490d-b927-16bbce2fe974"
      },
      "execution_count": 52,
      "outputs": [
        {
          "output_type": "error",
          "ename": "ValueError",
          "evalue": "Feature shape mismatch, expected: 5, got 4",
          "traceback": [
            "\u001b[0;31m---------------------------------------------------------------------------\u001b[0m",
            "\u001b[0;31mValueError\u001b[0m                                Traceback (most recent call last)",
            "\u001b[0;32m/tmp/ipython-input-2473774041.py\u001b[0m in \u001b[0;36m<cell line: 0>\u001b[0;34m()\u001b[0m\n\u001b[1;32m      2\u001b[0m \u001b[0minput_data\u001b[0m \u001b[0;34m=\u001b[0m \u001b[0;34m[\u001b[0m\u001b[0;34m[\u001b[0m\u001b[0;36m5.1\u001b[0m\u001b[0;34m,\u001b[0m \u001b[0;36m3.5\u001b[0m\u001b[0;34m,\u001b[0m \u001b[0;36m1.4\u001b[0m\u001b[0;34m,\u001b[0m \u001b[0;36m0.2\u001b[0m\u001b[0;34m]\u001b[0m\u001b[0;34m]\u001b[0m  \u001b[0;31m# 2D array for XGBoost\u001b[0m\u001b[0;34m\u001b[0m\u001b[0;34m\u001b[0m\u001b[0m\n\u001b[1;32m      3\u001b[0m \u001b[0;34m\u001b[0m\u001b[0m\n\u001b[0;32m----> 4\u001b[0;31m \u001b[0mprediction\u001b[0m \u001b[0;34m=\u001b[0m \u001b[0mmodel\u001b[0m\u001b[0;34m.\u001b[0m\u001b[0mpredict\u001b[0m\u001b[0;34m(\u001b[0m\u001b[0minput_data\u001b[0m\u001b[0;34m)\u001b[0m\u001b[0;34m\u001b[0m\u001b[0;34m\u001b[0m\u001b[0m\n\u001b[0m\u001b[1;32m      5\u001b[0m \u001b[0mprint\u001b[0m\u001b[0;34m(\u001b[0m\u001b[0mprediction\u001b[0m\u001b[0;34m)\u001b[0m\u001b[0;34m\u001b[0m\u001b[0;34m\u001b[0m\u001b[0m\n",
            "\u001b[0;32m/usr/local/lib/python3.12/dist-packages/xgboost/core.py\u001b[0m in \u001b[0;36minner_f\u001b[0;34m(*args, **kwargs)\u001b[0m\n\u001b[1;32m    727\u001b[0m             \u001b[0;32mfor\u001b[0m \u001b[0mk\u001b[0m\u001b[0;34m,\u001b[0m \u001b[0marg\u001b[0m \u001b[0;32min\u001b[0m \u001b[0mzip\u001b[0m\u001b[0;34m(\u001b[0m\u001b[0msig\u001b[0m\u001b[0;34m.\u001b[0m\u001b[0mparameters\u001b[0m\u001b[0;34m,\u001b[0m \u001b[0margs\u001b[0m\u001b[0;34m)\u001b[0m\u001b[0;34m:\u001b[0m\u001b[0;34m\u001b[0m\u001b[0;34m\u001b[0m\u001b[0m\n\u001b[1;32m    728\u001b[0m                 \u001b[0mkwargs\u001b[0m\u001b[0;34m[\u001b[0m\u001b[0mk\u001b[0m\u001b[0;34m]\u001b[0m \u001b[0;34m=\u001b[0m \u001b[0marg\u001b[0m\u001b[0;34m\u001b[0m\u001b[0;34m\u001b[0m\u001b[0m\n\u001b[0;32m--> 729\u001b[0;31m             \u001b[0;32mreturn\u001b[0m \u001b[0mfunc\u001b[0m\u001b[0;34m(\u001b[0m\u001b[0;34m**\u001b[0m\u001b[0mkwargs\u001b[0m\u001b[0;34m)\u001b[0m\u001b[0;34m\u001b[0m\u001b[0;34m\u001b[0m\u001b[0m\n\u001b[0m\u001b[1;32m    730\u001b[0m \u001b[0;34m\u001b[0m\u001b[0m\n\u001b[1;32m    731\u001b[0m         \u001b[0;32mreturn\u001b[0m \u001b[0minner_f\u001b[0m\u001b[0;34m\u001b[0m\u001b[0;34m\u001b[0m\u001b[0m\n",
            "\u001b[0;32m/usr/local/lib/python3.12/dist-packages/xgboost/sklearn.py\u001b[0m in \u001b[0;36mpredict\u001b[0;34m(self, X, output_margin, validate_features, base_margin, iteration_range)\u001b[0m\n\u001b[1;32m   1325\u001b[0m             \u001b[0;32mif\u001b[0m \u001b[0mself\u001b[0m\u001b[0;34m.\u001b[0m\u001b[0m_can_use_inplace_predict\u001b[0m\u001b[0;34m(\u001b[0m\u001b[0;34m)\u001b[0m\u001b[0;34m:\u001b[0m\u001b[0;34m\u001b[0m\u001b[0;34m\u001b[0m\u001b[0m\n\u001b[1;32m   1326\u001b[0m                 \u001b[0;32mtry\u001b[0m\u001b[0;34m:\u001b[0m\u001b[0;34m\u001b[0m\u001b[0;34m\u001b[0m\u001b[0m\n\u001b[0;32m-> 1327\u001b[0;31m                     predts = self.get_booster().inplace_predict(\n\u001b[0m\u001b[1;32m   1328\u001b[0m                         \u001b[0mdata\u001b[0m\u001b[0;34m=\u001b[0m\u001b[0mX\u001b[0m\u001b[0;34m,\u001b[0m\u001b[0;34m\u001b[0m\u001b[0;34m\u001b[0m\u001b[0m\n\u001b[1;32m   1329\u001b[0m                         \u001b[0miteration_range\u001b[0m\u001b[0;34m=\u001b[0m\u001b[0miteration_range\u001b[0m\u001b[0;34m,\u001b[0m\u001b[0;34m\u001b[0m\u001b[0;34m\u001b[0m\u001b[0m\n",
            "\u001b[0;32m/usr/local/lib/python3.12/dist-packages/xgboost/core.py\u001b[0m in \u001b[0;36minner_f\u001b[0;34m(*args, **kwargs)\u001b[0m\n\u001b[1;32m    727\u001b[0m             \u001b[0;32mfor\u001b[0m \u001b[0mk\u001b[0m\u001b[0;34m,\u001b[0m \u001b[0marg\u001b[0m \u001b[0;32min\u001b[0m \u001b[0mzip\u001b[0m\u001b[0;34m(\u001b[0m\u001b[0msig\u001b[0m\u001b[0;34m.\u001b[0m\u001b[0mparameters\u001b[0m\u001b[0;34m,\u001b[0m \u001b[0margs\u001b[0m\u001b[0;34m)\u001b[0m\u001b[0;34m:\u001b[0m\u001b[0;34m\u001b[0m\u001b[0;34m\u001b[0m\u001b[0m\n\u001b[1;32m    728\u001b[0m                 \u001b[0mkwargs\u001b[0m\u001b[0;34m[\u001b[0m\u001b[0mk\u001b[0m\u001b[0;34m]\u001b[0m \u001b[0;34m=\u001b[0m \u001b[0marg\u001b[0m\u001b[0;34m\u001b[0m\u001b[0;34m\u001b[0m\u001b[0m\n\u001b[0;32m--> 729\u001b[0;31m             \u001b[0;32mreturn\u001b[0m \u001b[0mfunc\u001b[0m\u001b[0;34m(\u001b[0m\u001b[0;34m**\u001b[0m\u001b[0mkwargs\u001b[0m\u001b[0;34m)\u001b[0m\u001b[0;34m\u001b[0m\u001b[0;34m\u001b[0m\u001b[0m\n\u001b[0m\u001b[1;32m    730\u001b[0m \u001b[0;34m\u001b[0m\u001b[0m\n\u001b[1;32m    731\u001b[0m         \u001b[0;32mreturn\u001b[0m \u001b[0minner_f\u001b[0m\u001b[0;34m\u001b[0m\u001b[0;34m\u001b[0m\u001b[0m\n",
            "\u001b[0;32m/usr/local/lib/python3.12/dist-packages/xgboost/core.py\u001b[0m in \u001b[0;36minplace_predict\u001b[0;34m(self, data, iteration_range, predict_type, missing, validate_features, base_margin, strict_shape)\u001b[0m\n\u001b[1;32m   2675\u001b[0m                 )\n\u001b[1;32m   2676\u001b[0m             \u001b[0;32mif\u001b[0m \u001b[0mlen\u001b[0m\u001b[0;34m(\u001b[0m\u001b[0mdata\u001b[0m\u001b[0;34m.\u001b[0m\u001b[0mshape\u001b[0m\u001b[0;34m)\u001b[0m \u001b[0;34m!=\u001b[0m \u001b[0;36m1\u001b[0m \u001b[0;32mand\u001b[0m \u001b[0mself\u001b[0m\u001b[0;34m.\u001b[0m\u001b[0mnum_features\u001b[0m\u001b[0;34m(\u001b[0m\u001b[0;34m)\u001b[0m \u001b[0;34m!=\u001b[0m \u001b[0mdata\u001b[0m\u001b[0;34m.\u001b[0m\u001b[0mshape\u001b[0m\u001b[0;34m[\u001b[0m\u001b[0;36m1\u001b[0m\u001b[0;34m]\u001b[0m\u001b[0;34m:\u001b[0m\u001b[0;34m\u001b[0m\u001b[0;34m\u001b[0m\u001b[0m\n\u001b[0;32m-> 2677\u001b[0;31m                 raise ValueError(\n\u001b[0m\u001b[1;32m   2678\u001b[0m                     \u001b[0;34mf\"Feature shape mismatch, expected: {self.num_features()}, \"\u001b[0m\u001b[0;34m\u001b[0m\u001b[0;34m\u001b[0m\u001b[0m\n\u001b[1;32m   2679\u001b[0m                     \u001b[0;34mf\"got {data.shape[1]}\"\u001b[0m\u001b[0;34m\u001b[0m\u001b[0;34m\u001b[0m\u001b[0m\n",
            "\u001b[0;31mValueError\u001b[0m: Feature shape mismatch, expected: 5, got 4"
          ]
        }
      ]
    },
    {
      "cell_type": "code",
      "source": [
        "import pandas as pd\n",
        "import numpy as np\n",
        "from sklearn.model_selection import train_test_split\n",
        "from sklearn.preprocessing import LabelEncoder\n",
        "from xgboost import XGBRegressor\n",
        "import joblib\n",
        "\n",
        "# ----------------------------\n",
        "# 1. Select features and target\n",
        "# ----------------------------\n",
        "features = [\"Area\", \"Crop\", \"Season\", \"Soil_Fertility\", \"State\"]\n",
        "target = \"Yield\"\n",
        "\n",
        "# Assume df is your DataFrame\n",
        "df_model = df[features + [target]].dropna().copy()  # copy() avoids Pandas warnings\n",
        "\n",
        "# ----------------------------\n",
        "# 2. Encode categorical features\n",
        "# ----------------------------\n",
        "categorical_cols = [\"Crop\", \"Season\", \"Soil_Fertility\", \"State\"]\n",
        "label_encoders = {}\n",
        "\n",
        "for col in categorical_cols:\n",
        "    le = LabelEncoder()\n",
        "    df_model[col] = le.fit_transform(df_model[col])\n",
        "    label_encoders[col] = le  # Save encoder for later use in predictions\n",
        "\n",
        "# ----------------------------\n",
        "# 3. Split data\n",
        "# ----------------------------\n",
        "X = df_model[features]\n",
        "y = df_model[target]\n",
        "\n",
        "X_train, X_test, y_train, y_test = train_test_split(\n",
        "    X, y, test_size=0.2, random_state=42\n",
        ")\n",
        "\n",
        "# ----------------------------\n",
        "# 4. Train XGBoost model\n",
        "# ----------------------------\n",
        "model = XGBRegressor(\n",
        "    objective='reg:squarederror',\n",
        "    n_estimators=300,\n",
        "    max_depth=5,\n",
        "    learning_rate=0.1,\n",
        "    random_state=42\n",
        ")\n",
        "model.fit(X_train, y_train)\n",
        "\n",
        "# ----------------------------\n",
        "# 5. Save model and encoders\n",
        "# ----------------------------\n",
        "joblib.dump(model, \"xgb_regressor_model.pkl\")\n",
        "joblib.dump(label_encoders, \"label_encoders.pkl\")\n",
        "\n",
        "# ----------------------------\n",
        "# 6. Function for prediction using raw input\n",
        "# ----------------------------\n",
        "def predict_yield(input_raw):\n",
        "    \"\"\"\n",
        "    input_raw: dict with keys [\"Area\", \"Crop\", \"Season\", \"Soil_Fertility\", \"State\"]\n",
        "    Example:\n",
        "    input_raw = {\n",
        "        \"Area\": 2.5,\n",
        "        \"Crop\": \"Sugarcane\",\n",
        "        \"Season\": \"Kharif\",\n",
        "        \"Soil_Fertility\": \"High\",\n",
        "        \"State\": \"Karnataka\"\n",
        "    }\n",
        "    \"\"\"\n",
        "    try:\n",
        "        # Encode categorical features\n",
        "        input_encoded = [\n",
        "            input_raw[\"Area\"],  # numeric\n",
        "            label_encoders[\"Crop\"].transform([input_raw[\"Crop\"]])[0],\n",
        "            label_encoders[\"Season\"].transform([input_raw[\"Season\"]])[0],\n",
        "            label_encoders[\"Soil_Fertility\"].transform([input_raw[\"Soil_Fertility\"]])[0],\n",
        "            label_encoders[\"State\"].transform([input_raw[\"State\"]])[0]\n",
        "        ]\n",
        "\n",
        "        # Predict\n",
        "        prediction = model.predict(np.array(input_encoded).reshape(1, -1))[0]\n",
        "        return prediction\n",
        "\n",
        "    except KeyError as e:\n",
        "        return f\"Error: Missing key {e}\"\n",
        "    except ValueError as e:\n",
        "        return f\"Error: {e}\"\n",
        "\n",
        "# ----------------------------\n",
        "# 7. Example usage\n",
        "# ----------------------------\n",
        "example_input = {\n",
        "    \"Area\": 5.1,\n",
        "    \"Crop\": \"Sugarcane\",\n",
        "    \"Season\": \"Kharif\",\n",
        "    \"Soil_Fertility\": \"High\",\n",
        "    \"State\": \"Karnataka\"\n",
        "}\n",
        "\n",
        "predicted_yield = predict_yield(example_input)\n",
        "print(\"Predicted Yield:\", predicted_yield)\n",
        "\n",
        "# ----------------------------\n",
        "# 8. Optional: see encoded input values\n",
        "# ----------------------------\n",
        "encoded_input = [\n",
        "    example_input[\"Area\"],\n",
        "    label_encoders[\"Crop\"].transform([example_input[\"Crop\"]])[0],\n",
        "    label_encoders[\"Season\"].transform([example_input[\"Season\"]])[0],\n",
        "    label_encoders[\"Soil_Fertility\"].transform([example_input[\"Soil_Fertility\"]])[0],\n",
        "    label_encoders[\"State\"].transform([example_input[\"State\"]])[0]\n",
        "]\n",
        "print(\"Encoded Input Values:\", encoded_input)\n"
      ],
      "metadata": {
        "colab": {
          "base_uri": "https://localhost:8080/"
        },
        "id": "NdX0G578vXMo",
        "outputId": "555df8a8-5f63-4009-c229-ed401797b60c"
      },
      "execution_count": 53,
      "outputs": [
        {
          "output_type": "stream",
          "name": "stdout",
          "text": [
            "Predicted Yield: 18.97408\n",
            "Encoded Input Values: [5.1, np.int64(47), np.int64(1), np.int64(0), np.int64(12)]\n"
          ]
        }
      ]
    },
    {
      "cell_type": "code",
      "source": [
        "# Example input (replace with your features)\n",
        "input_data = [[5.1, 3.5, 1.4, 0.2]]  # 2D array for XGBoost\n",
        "\n",
        "prediction = model.predict(input_data)\n",
        "print(prediction)\n"
      ],
      "metadata": {
        "colab": {
          "base_uri": "https://localhost:8080/",
          "height": 356
        },
        "id": "YKtXvXAQvaTs",
        "outputId": "0eac9883-80f1-4eb5-bd09-c3c2a664ef2c"
      },
      "execution_count": 54,
      "outputs": [
        {
          "output_type": "error",
          "ename": "ValueError",
          "evalue": "Feature shape mismatch, expected: 5, got 4",
          "traceback": [
            "\u001b[0;31m---------------------------------------------------------------------------\u001b[0m",
            "\u001b[0;31mValueError\u001b[0m                                Traceback (most recent call last)",
            "\u001b[0;32m/tmp/ipython-input-2473774041.py\u001b[0m in \u001b[0;36m<cell line: 0>\u001b[0;34m()\u001b[0m\n\u001b[1;32m      2\u001b[0m \u001b[0minput_data\u001b[0m \u001b[0;34m=\u001b[0m \u001b[0;34m[\u001b[0m\u001b[0;34m[\u001b[0m\u001b[0;36m5.1\u001b[0m\u001b[0;34m,\u001b[0m \u001b[0;36m3.5\u001b[0m\u001b[0;34m,\u001b[0m \u001b[0;36m1.4\u001b[0m\u001b[0;34m,\u001b[0m \u001b[0;36m0.2\u001b[0m\u001b[0;34m]\u001b[0m\u001b[0;34m]\u001b[0m  \u001b[0;31m# 2D array for XGBoost\u001b[0m\u001b[0;34m\u001b[0m\u001b[0;34m\u001b[0m\u001b[0m\n\u001b[1;32m      3\u001b[0m \u001b[0;34m\u001b[0m\u001b[0m\n\u001b[0;32m----> 4\u001b[0;31m \u001b[0mprediction\u001b[0m \u001b[0;34m=\u001b[0m \u001b[0mmodel\u001b[0m\u001b[0;34m.\u001b[0m\u001b[0mpredict\u001b[0m\u001b[0;34m(\u001b[0m\u001b[0minput_data\u001b[0m\u001b[0;34m)\u001b[0m\u001b[0;34m\u001b[0m\u001b[0;34m\u001b[0m\u001b[0m\n\u001b[0m\u001b[1;32m      5\u001b[0m \u001b[0mprint\u001b[0m\u001b[0;34m(\u001b[0m\u001b[0mprediction\u001b[0m\u001b[0;34m)\u001b[0m\u001b[0;34m\u001b[0m\u001b[0;34m\u001b[0m\u001b[0m\n",
            "\u001b[0;32m/usr/local/lib/python3.12/dist-packages/xgboost/core.py\u001b[0m in \u001b[0;36minner_f\u001b[0;34m(*args, **kwargs)\u001b[0m\n\u001b[1;32m    727\u001b[0m             \u001b[0;32mfor\u001b[0m \u001b[0mk\u001b[0m\u001b[0;34m,\u001b[0m \u001b[0marg\u001b[0m \u001b[0;32min\u001b[0m \u001b[0mzip\u001b[0m\u001b[0;34m(\u001b[0m\u001b[0msig\u001b[0m\u001b[0;34m.\u001b[0m\u001b[0mparameters\u001b[0m\u001b[0;34m,\u001b[0m \u001b[0margs\u001b[0m\u001b[0;34m)\u001b[0m\u001b[0;34m:\u001b[0m\u001b[0;34m\u001b[0m\u001b[0;34m\u001b[0m\u001b[0m\n\u001b[1;32m    728\u001b[0m                 \u001b[0mkwargs\u001b[0m\u001b[0;34m[\u001b[0m\u001b[0mk\u001b[0m\u001b[0;34m]\u001b[0m \u001b[0;34m=\u001b[0m \u001b[0marg\u001b[0m\u001b[0;34m\u001b[0m\u001b[0;34m\u001b[0m\u001b[0m\n\u001b[0;32m--> 729\u001b[0;31m             \u001b[0;32mreturn\u001b[0m \u001b[0mfunc\u001b[0m\u001b[0;34m(\u001b[0m\u001b[0;34m**\u001b[0m\u001b[0mkwargs\u001b[0m\u001b[0;34m)\u001b[0m\u001b[0;34m\u001b[0m\u001b[0;34m\u001b[0m\u001b[0m\n\u001b[0m\u001b[1;32m    730\u001b[0m \u001b[0;34m\u001b[0m\u001b[0m\n\u001b[1;32m    731\u001b[0m         \u001b[0;32mreturn\u001b[0m \u001b[0minner_f\u001b[0m\u001b[0;34m\u001b[0m\u001b[0;34m\u001b[0m\u001b[0m\n",
            "\u001b[0;32m/usr/local/lib/python3.12/dist-packages/xgboost/sklearn.py\u001b[0m in \u001b[0;36mpredict\u001b[0;34m(self, X, output_margin, validate_features, base_margin, iteration_range)\u001b[0m\n\u001b[1;32m   1325\u001b[0m             \u001b[0;32mif\u001b[0m \u001b[0mself\u001b[0m\u001b[0;34m.\u001b[0m\u001b[0m_can_use_inplace_predict\u001b[0m\u001b[0;34m(\u001b[0m\u001b[0;34m)\u001b[0m\u001b[0;34m:\u001b[0m\u001b[0;34m\u001b[0m\u001b[0;34m\u001b[0m\u001b[0m\n\u001b[1;32m   1326\u001b[0m                 \u001b[0;32mtry\u001b[0m\u001b[0;34m:\u001b[0m\u001b[0;34m\u001b[0m\u001b[0;34m\u001b[0m\u001b[0m\n\u001b[0;32m-> 1327\u001b[0;31m                     predts = self.get_booster().inplace_predict(\n\u001b[0m\u001b[1;32m   1328\u001b[0m                         \u001b[0mdata\u001b[0m\u001b[0;34m=\u001b[0m\u001b[0mX\u001b[0m\u001b[0;34m,\u001b[0m\u001b[0;34m\u001b[0m\u001b[0;34m\u001b[0m\u001b[0m\n\u001b[1;32m   1329\u001b[0m                         \u001b[0miteration_range\u001b[0m\u001b[0;34m=\u001b[0m\u001b[0miteration_range\u001b[0m\u001b[0;34m,\u001b[0m\u001b[0;34m\u001b[0m\u001b[0;34m\u001b[0m\u001b[0m\n",
            "\u001b[0;32m/usr/local/lib/python3.12/dist-packages/xgboost/core.py\u001b[0m in \u001b[0;36minner_f\u001b[0;34m(*args, **kwargs)\u001b[0m\n\u001b[1;32m    727\u001b[0m             \u001b[0;32mfor\u001b[0m \u001b[0mk\u001b[0m\u001b[0;34m,\u001b[0m \u001b[0marg\u001b[0m \u001b[0;32min\u001b[0m \u001b[0mzip\u001b[0m\u001b[0;34m(\u001b[0m\u001b[0msig\u001b[0m\u001b[0;34m.\u001b[0m\u001b[0mparameters\u001b[0m\u001b[0;34m,\u001b[0m \u001b[0margs\u001b[0m\u001b[0;34m)\u001b[0m\u001b[0;34m:\u001b[0m\u001b[0;34m\u001b[0m\u001b[0;34m\u001b[0m\u001b[0m\n\u001b[1;32m    728\u001b[0m                 \u001b[0mkwargs\u001b[0m\u001b[0;34m[\u001b[0m\u001b[0mk\u001b[0m\u001b[0;34m]\u001b[0m \u001b[0;34m=\u001b[0m \u001b[0marg\u001b[0m\u001b[0;34m\u001b[0m\u001b[0;34m\u001b[0m\u001b[0m\n\u001b[0;32m--> 729\u001b[0;31m             \u001b[0;32mreturn\u001b[0m \u001b[0mfunc\u001b[0m\u001b[0;34m(\u001b[0m\u001b[0;34m**\u001b[0m\u001b[0mkwargs\u001b[0m\u001b[0;34m)\u001b[0m\u001b[0;34m\u001b[0m\u001b[0;34m\u001b[0m\u001b[0m\n\u001b[0m\u001b[1;32m    730\u001b[0m \u001b[0;34m\u001b[0m\u001b[0m\n\u001b[1;32m    731\u001b[0m         \u001b[0;32mreturn\u001b[0m \u001b[0minner_f\u001b[0m\u001b[0;34m\u001b[0m\u001b[0;34m\u001b[0m\u001b[0m\n",
            "\u001b[0;32m/usr/local/lib/python3.12/dist-packages/xgboost/core.py\u001b[0m in \u001b[0;36minplace_predict\u001b[0;34m(self, data, iteration_range, predict_type, missing, validate_features, base_margin, strict_shape)\u001b[0m\n\u001b[1;32m   2675\u001b[0m                 )\n\u001b[1;32m   2676\u001b[0m             \u001b[0;32mif\u001b[0m \u001b[0mlen\u001b[0m\u001b[0;34m(\u001b[0m\u001b[0mdata\u001b[0m\u001b[0;34m.\u001b[0m\u001b[0mshape\u001b[0m\u001b[0;34m)\u001b[0m \u001b[0;34m!=\u001b[0m \u001b[0;36m1\u001b[0m \u001b[0;32mand\u001b[0m \u001b[0mself\u001b[0m\u001b[0;34m.\u001b[0m\u001b[0mnum_features\u001b[0m\u001b[0;34m(\u001b[0m\u001b[0;34m)\u001b[0m \u001b[0;34m!=\u001b[0m \u001b[0mdata\u001b[0m\u001b[0;34m.\u001b[0m\u001b[0mshape\u001b[0m\u001b[0;34m[\u001b[0m\u001b[0;36m1\u001b[0m\u001b[0;34m]\u001b[0m\u001b[0;34m:\u001b[0m\u001b[0;34m\u001b[0m\u001b[0;34m\u001b[0m\u001b[0m\n\u001b[0;32m-> 2677\u001b[0;31m                 raise ValueError(\n\u001b[0m\u001b[1;32m   2678\u001b[0m                     \u001b[0;34mf\"Feature shape mismatch, expected: {self.num_features()}, \"\u001b[0m\u001b[0;34m\u001b[0m\u001b[0;34m\u001b[0m\u001b[0m\n\u001b[1;32m   2679\u001b[0m                     \u001b[0;34mf\"got {data.shape[1]}\"\u001b[0m\u001b[0;34m\u001b[0m\u001b[0;34m\u001b[0m\u001b[0m\n",
            "\u001b[0;31mValueError\u001b[0m: Feature shape mismatch, expected: 5, got 4"
          ]
        }
      ]
    }
  ],
  "metadata": {
    "colab": {
      "provenance": [],
      "gpuType": "T4",
      "include_colab_link": true
    },
    "kernelspec": {
      "display_name": "Python 3",
      "name": "python3"
    },
    "language_info": {
      "name": "python"
    },
    "accelerator": "GPU"
  },
  "nbformat": 4,
  "nbformat_minor": 0
}
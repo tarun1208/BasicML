{
  "cells": [
    {
      "cell_type": "markdown",
      "metadata": {
        "id": "view-in-github",
        "colab_type": "text"
      },
      "source": [
        "<a href=\"https://colab.research.google.com/github/tarun1208/BasicML/blob/main/soil.ipynb\" target=\"_parent\"><img src=\"https://colab.research.google.com/assets/colab-badge.svg\" alt=\"Open In Colab\"/></a>"
      ]
    },
    {
      "cell_type": "code",
      "execution_count": 1,
      "metadata": {
        "colab": {
          "base_uri": "https://localhost:8080/"
        },
        "id": "mUlBOJlxrmqe",
        "outputId": "0fa0bda3-7420-4dfd-cce9-de01e6e3e18b"
      },
      "outputs": [
        {
          "output_type": "stream",
          "name": "stdout",
          "text": [
            "Shape: (19689, 12)\n",
            "           Crop  Crop_Year       Season  State     Area  Production  \\\n",
            "0      Arecanut       1997  Whole Year   Assam  73814.0       56708   \n",
            "1     Arhar/Tur       1997  Kharif       Assam   6637.0        4685   \n",
            "2   Castor seed       1997  Kharif       Assam    796.0          22   \n",
            "3      Coconut        1997  Whole Year   Assam  19656.0   126905000   \n",
            "4  Cotton(lint)       1997  Kharif       Assam   1739.0         794   \n",
            "\n",
            "   Annual_Rainfall  Fertilizer  Pesticide        Yield Soil_Fertility  \\\n",
            "0           2051.4  7024878.38   22882.34     0.796087           High   \n",
            "1           2051.4   631643.29    2057.47     0.710435            Low   \n",
            "2           2051.4    75755.32     246.76     0.238333           High   \n",
            "3           2051.4  1870661.52    6093.36  5238.051739           High   \n",
            "4           2051.4   165500.63     539.09     0.420909            Low   \n",
            "\n",
            "  Pesticide_Name  \n",
            "0       Atrazine  \n",
            "1   Chlorpyrifos  \n",
            "2   Imidacloprid  \n",
            "3   Chlorpyrifos  \n",
            "4       Atrazine  \n"
          ]
        }
      ],
      "source": [
        "import pandas as pd\n",
        "\n",
        "# Load your dataset\n",
        "df = pd.read_csv(\"/content/sample_data/soil.csv\")\n",
        "\n",
        "# Check the first few rows and shape\n",
        "print(\"Shape:\", df.shape)\n",
        "print(df.head())\n"
      ]
    },
    {
      "cell_type": "code",
      "execution_count": 2,
      "metadata": {
        "colab": {
          "base_uri": "https://localhost:8080/",
          "height": 460
        },
        "id": "Ps49C-NwVwwM",
        "outputId": "aeee1b6c-28aa-4d22-9099-7c61a64e0957"
      },
      "outputs": [
        {
          "output_type": "execute_result",
          "data": {
            "text/plain": [
              "Crop               0\n",
              "Crop_Year          0\n",
              "Season             0\n",
              "State              0\n",
              "Area               0\n",
              "Production         0\n",
              "Annual_Rainfall    0\n",
              "Fertilizer         0\n",
              "Pesticide          0\n",
              "Yield              0\n",
              "Soil_Fertility     0\n",
              "Pesticide_Name     0\n",
              "dtype: int64"
            ],
            "text/html": [
              "<div>\n",
              "<style scoped>\n",
              "    .dataframe tbody tr th:only-of-type {\n",
              "        vertical-align: middle;\n",
              "    }\n",
              "\n",
              "    .dataframe tbody tr th {\n",
              "        vertical-align: top;\n",
              "    }\n",
              "\n",
              "    .dataframe thead th {\n",
              "        text-align: right;\n",
              "    }\n",
              "</style>\n",
              "<table border=\"1\" class=\"dataframe\">\n",
              "  <thead>\n",
              "    <tr style=\"text-align: right;\">\n",
              "      <th></th>\n",
              "      <th>0</th>\n",
              "    </tr>\n",
              "  </thead>\n",
              "  <tbody>\n",
              "    <tr>\n",
              "      <th>Crop</th>\n",
              "      <td>0</td>\n",
              "    </tr>\n",
              "    <tr>\n",
              "      <th>Crop_Year</th>\n",
              "      <td>0</td>\n",
              "    </tr>\n",
              "    <tr>\n",
              "      <th>Season</th>\n",
              "      <td>0</td>\n",
              "    </tr>\n",
              "    <tr>\n",
              "      <th>State</th>\n",
              "      <td>0</td>\n",
              "    </tr>\n",
              "    <tr>\n",
              "      <th>Area</th>\n",
              "      <td>0</td>\n",
              "    </tr>\n",
              "    <tr>\n",
              "      <th>Production</th>\n",
              "      <td>0</td>\n",
              "    </tr>\n",
              "    <tr>\n",
              "      <th>Annual_Rainfall</th>\n",
              "      <td>0</td>\n",
              "    </tr>\n",
              "    <tr>\n",
              "      <th>Fertilizer</th>\n",
              "      <td>0</td>\n",
              "    </tr>\n",
              "    <tr>\n",
              "      <th>Pesticide</th>\n",
              "      <td>0</td>\n",
              "    </tr>\n",
              "    <tr>\n",
              "      <th>Yield</th>\n",
              "      <td>0</td>\n",
              "    </tr>\n",
              "    <tr>\n",
              "      <th>Soil_Fertility</th>\n",
              "      <td>0</td>\n",
              "    </tr>\n",
              "    <tr>\n",
              "      <th>Pesticide_Name</th>\n",
              "      <td>0</td>\n",
              "    </tr>\n",
              "  </tbody>\n",
              "</table>\n",
              "</div><br><label><b>dtype:</b> int64</label>"
            ]
          },
          "metadata": {},
          "execution_count": 2
        }
      ],
      "source": [
        "df.isnull().sum()"
      ]
    },
    {
      "cell_type": "code",
      "execution_count": 3,
      "metadata": {
        "id": "5y1cT_5WWa9l",
        "colab": {
          "base_uri": "https://localhost:8080/"
        },
        "outputId": "c237f365-0d2c-4d87-ab6f-f6d9181576e1"
      },
      "outputs": [
        {
          "output_type": "stream",
          "name": "stderr",
          "text": [
            "/tmp/ipython-input-2460791626.py:2: FutureWarning: A value is trying to be set on a copy of a DataFrame or Series through chained assignment using an inplace method.\n",
            "The behavior will change in pandas 3.0. This inplace method will never work because the intermediate object on which we are setting values always behaves as a copy.\n",
            "\n",
            "For example, when doing 'df[col].method(value, inplace=True)', try using 'df.method({col: value}, inplace=True)' or df[col] = df[col].method(value) instead, to perform the operation inplace on the original object.\n",
            "\n",
            "\n",
            "  df['Yield'].fillna(df['Yield'].mean(), inplace=True)   # fill with average\n",
            "/tmp/ipython-input-2460791626.py:4: FutureWarning: A value is trying to be set on a copy of a DataFrame or Series through chained assignment using an inplace method.\n",
            "The behavior will change in pandas 3.0. This inplace method will never work because the intermediate object on which we are setting values always behaves as a copy.\n",
            "\n",
            "For example, when doing 'df[col].method(value, inplace=True)', try using 'df.method({col: value}, inplace=True)' or df[col] = df[col].method(value) instead, to perform the operation inplace on the original object.\n",
            "\n",
            "\n",
            "  df['Yield'].fillna(df['Yield'].median(), inplace=True) # fill with median\n",
            "/tmp/ipython-input-2460791626.py:5: FutureWarning: A value is trying to be set on a copy of a DataFrame or Series through chained assignment using an inplace method.\n",
            "The behavior will change in pandas 3.0. This inplace method will never work because the intermediate object on which we are setting values always behaves as a copy.\n",
            "\n",
            "For example, when doing 'df[col].method(value, inplace=True)', try using 'df.method({col: value}, inplace=True)' or df[col] = df[col].method(value) instead, to perform the operation inplace on the original object.\n",
            "\n",
            "\n",
            "  df['Yield'].fillna(0, inplace=True)\n"
          ]
        }
      ],
      "source": [
        "df = df.dropna(subset=['Yield'])\n",
        "df['Yield'].fillna(df['Yield'].mean(), inplace=True)   # fill with average\n",
        "# OR\n",
        "df['Yield'].fillna(df['Yield'].median(), inplace=True) # fill with median\n",
        "df['Yield'].fillna(0, inplace=True)\n"
      ]
    },
    {
      "cell_type": "code",
      "execution_count": 4,
      "metadata": {
        "colab": {
          "base_uri": "https://localhost:8080/"
        },
        "id": "egfGFPnqtrkM",
        "outputId": "9cb27721-03df-478e-ad0f-55516ae2deb1"
      },
      "outputs": [
        {
          "output_type": "stream",
          "name": "stdout",
          "text": [
            "Cleaned column names:\n",
            " ['Crop', 'Crop_Year', 'Season', 'State', 'Area', 'Production', 'Annual_Rainfall', 'Fertilizer', 'Pesticide', 'Yield', 'Soil_Fertility', 'Pesticide_Name']\n"
          ]
        }
      ],
      "source": [
        "# Remove spaces, brackets, and replace with _\n",
        "df.columns = df.columns.str.strip().str.replace(\" \", \"_\").str.replace(\"(\", \"\").str.replace(\")\", \"\")\n",
        "\n",
        "print(\"Cleaned column names:\\n\", df.columns.tolist())\n"
      ]
    },
    {
      "cell_type": "code",
      "execution_count": 5,
      "metadata": {
        "colab": {
          "base_uri": "https://localhost:8080/"
        },
        "id": "eAJvTR8atvBf",
        "outputId": "9fb0ba2c-46bf-435f-d594-a27af14449fc"
      },
      "outputs": [
        {
          "output_type": "stream",
          "name": "stdout",
          "text": [
            "Unique Soil_Fertility values:\n",
            " ['High' 'Low' 'Medium']\n"
          ]
        }
      ],
      "source": [
        "# Identify text columns\n",
        "text_cols = df.select_dtypes(include='object').columns.tolist()\n",
        "\n",
        "# Strip spaces and make case uniform\n",
        "for col in text_cols:\n",
        "    df[col] = df[col].astype(str).str.strip().str.title()\n",
        "\n",
        "print(\"Unique Soil_Fertility values:\\n\", df['Soil_Fertility'].unique())\n"
      ]
    },
    {
      "cell_type": "code",
      "execution_count": 6,
      "metadata": {
        "colab": {
          "base_uri": "https://localhost:8080/"
        },
        "id": "vaVvZ-5Utyrv",
        "outputId": "344ebf1d-8b16-43d5-c10e-5adcf1b412b0"
      },
      "outputs": [
        {
          "output_type": "stream",
          "name": "stdout",
          "text": [
            "Crop_Year            int64\n",
            "Area               float64\n",
            "Production           int64\n",
            "Annual_Rainfall    float64\n",
            "Fertilizer         float64\n",
            "Pesticide          float64\n",
            "Yield              float64\n",
            "dtype: object\n"
          ]
        }
      ],
      "source": [
        "numeric_cols = ['Crop_Year', 'Area', 'Production', 'Annual_Rainfall',\n",
        "                'Fertilizer', 'Pesticide', 'Yield']\n",
        "\n",
        "# Convert them to numeric (invalid values -> NaN)\n",
        "for col in numeric_cols:\n",
        "    df[col] = pd.to_numeric(df[col], errors='coerce')\n",
        "\n",
        "# Check datatypes after conversion\n",
        "print(df[numeric_cols].dtypes)"
      ]
    },
    {
      "cell_type": "code",
      "execution_count": 7,
      "metadata": {
        "colab": {
          "base_uri": "https://localhost:8080/"
        },
        "id": "6hZxCM8vuAMZ",
        "outputId": "ee9d43a5-220d-406a-bd75-0dc68600ee16"
      },
      "outputs": [
        {
          "output_type": "stream",
          "name": "stdout",
          "text": [
            "Removed 0 duplicate rows\n"
          ]
        }
      ],
      "source": [
        "before = df.shape[0]\n",
        "df = df.drop_duplicates()\n",
        "after = df.shape[0]\n",
        "print(f\"Removed {before - after} duplicate rows\")\n"
      ]
    },
    {
      "cell_type": "code",
      "execution_count": 8,
      "metadata": {
        "id": "zlmgZD9TuE7u"
      },
      "outputs": [],
      "source": [
        "# Fill missing values (numeric → median, categorical → mode)\n",
        "for col in df.columns:\n",
        "    if df[col].dtype in ['float64', 'int64']:\n",
        "        df[col] = df[col].fillna(df[col].median())\n",
        "    else:\n",
        "        df[col] = df[col].fillna(df[col].mode()[0])\n"
      ]
    },
    {
      "cell_type": "code",
      "execution_count": 9,
      "metadata": {
        "colab": {
          "base_uri": "https://localhost:8080/"
        },
        "id": "7HITp4l9uGrP",
        "outputId": "ea629ebd-47a6-4c63-b8ed-e52209d8a3ef"
      },
      "outputs": [
        {
          "output_type": "stream",
          "name": "stdout",
          "text": [
            "  Soil_Fertility  Soil_Fertility_Num\n",
            "0           High                   3\n",
            "1            Low                   1\n",
            "2           High                   3\n",
            "3           High                   3\n",
            "4            Low                   1\n"
          ]
        }
      ],
      "source": [
        "# Mapping dictionary\n",
        "soil_map = {\"Low\": 1, \"Medium\": 2, \"High\": 3}\n",
        "\n",
        "# Apply mapping\n",
        "df['Soil_Fertility_Num'] = df['Soil_Fertility'].map(soil_map)\n",
        "\n",
        "print(df[['Soil_Fertility', 'Soil_Fertility_Num']].head())\n"
      ]
    },
    {
      "cell_type": "code",
      "execution_count": 10,
      "metadata": {
        "colab": {
          "base_uri": "https://localhost:8080/"
        },
        "id": "5kHwTfInuL78",
        "outputId": "bcc72d9e-659f-4cdd-d93a-1ca82139a778"
      },
      "outputs": [
        {
          "output_type": "stream",
          "name": "stdout",
          "text": [
            "['Crop', 'Crop_Year', 'Season', 'State', 'Area', 'Production', 'Annual_Rainfall', 'Fertilizer', 'Pesticide', 'Yield', 'Soil_Fertility', 'Pesticide_Name', 'Soil_Fertility_Num']\n"
          ]
        }
      ],
      "source": [
        "print(df.columns.tolist())\n"
      ]
    },
    {
      "cell_type": "code",
      "execution_count": 11,
      "metadata": {
        "colab": {
          "base_uri": "https://localhost:8080/"
        },
        "id": "52y1i9HOuiLU",
        "outputId": "fe6e62fa-d7d2-44a8-9861-7940823c4fb6"
      },
      "outputs": [
        {
          "output_type": "stream",
          "name": "stdout",
          "text": [
            "Duplicate rows: 0\n"
          ]
        }
      ],
      "source": [
        "print(\"Duplicate rows:\", df.duplicated().sum())\n"
      ]
    },
    {
      "cell_type": "code",
      "execution_count": 12,
      "metadata": {
        "colab": {
          "base_uri": "https://localhost:8080/"
        },
        "id": "_H9K5hHVujzX",
        "outputId": "5de9836c-9b2c-48bc-9e29-7fc4b97b86e5"
      },
      "outputs": [
        {
          "output_type": "stream",
          "name": "stdout",
          "text": [
            "Missing values per column:\n",
            " Crop                  0\n",
            "Crop_Year             0\n",
            "Season                0\n",
            "State                 0\n",
            "Area                  0\n",
            "Production            0\n",
            "Annual_Rainfall       0\n",
            "Fertilizer            0\n",
            "Pesticide             0\n",
            "Yield                 0\n",
            "Soil_Fertility        0\n",
            "Pesticide_Name        0\n",
            "Soil_Fertility_Num    0\n",
            "dtype: int64\n"
          ]
        }
      ],
      "source": [
        "print(\"Missing values per column:\\n\", df.isnull().sum())\n"
      ]
    },
    {
      "cell_type": "code",
      "execution_count": 13,
      "metadata": {
        "colab": {
          "base_uri": "https://localhost:8080/"
        },
        "id": "v6HHzULfullw",
        "outputId": "fa1734e6-5e58-4fc0-d330-1bfec7fdc05d"
      },
      "outputs": [
        {
          "output_type": "stream",
          "name": "stdout",
          "text": [
            "Crop                   object\n",
            "Crop_Year               int64\n",
            "Season                 object\n",
            "State                  object\n",
            "Area                  float64\n",
            "Production              int64\n",
            "Annual_Rainfall       float64\n",
            "Fertilizer            float64\n",
            "Pesticide             float64\n",
            "Yield                 float64\n",
            "Soil_Fertility         object\n",
            "Pesticide_Name         object\n",
            "Soil_Fertility_Num      int64\n",
            "dtype: object\n"
          ]
        }
      ],
      "source": [
        "print(df.dtypes)\n"
      ]
    },
    {
      "cell_type": "code",
      "execution_count": 14,
      "metadata": {
        "colab": {
          "base_uri": "https://localhost:8080/"
        },
        "id": "QbMgOtH5une8",
        "outputId": "b5616dec-4fe0-4a95-9149-3d34077eac30"
      },
      "outputs": [
        {
          "output_type": "stream",
          "name": "stdout",
          "text": [
            "Crop → ['Arecanut' 'Arhar/Tur' 'Castor Seed' 'Coconut' 'Cotton(Lint)'\n",
            " 'Dry Chillies' 'Gram' 'Jute' 'Linseed' 'Maize']\n",
            "Crop_Year → [1997 1998 1999 2000 2001 2002 2003 2004 2005 2006]\n",
            "Season → ['Whole Year' 'Kharif' 'Rabi' 'Autumn' 'Summer' 'Winter']\n",
            "State → ['Assam' 'Karnataka' 'Kerala' 'Meghalaya' 'West Bengal' 'Puducherry' 'Goa'\n",
            " 'Andhra Pradesh' 'Tamil Nadu' 'Odisha']\n",
            "Area → [73814.  6637.   796. 19656.  1739. 13587.  2979. 94520. 10098. 19216.]\n",
            "Production → [    56708      4685        22 126905000       794      9073      1507\n",
            "    904095      5158     14721]\n",
            "Annual_Rainfall → [2051.4    1266.7    3252.4    3818.2    1852.9    1434.5875 2354.4\n",
            " 2964.9    1260.8    3151.5   ]\n",
            "Fertilizer → [7024878.38  631643.29   75755.32 1870661.52  165500.63 1293074.79\n",
            "  283511.43 8995468.4   961026.66 1828786.72]\n",
            "Pesticide → [22882.34  2057.47   246.76  6093.36   539.09  4211.97   923.49 29301.2\n",
            "  3130.38  5956.96]\n",
            "Yield → [7.96086957e-01 7.10434783e-01 2.38333333e-01 5.23805174e+03\n",
            " 4.20909091e-01 6.43636364e-01 4.65454545e-01 9.91956522e+00\n",
            " 4.61363636e-01 6.15652174e-01]\n",
            "Soil_Fertility → ['High' 'Low' 'Medium']\n",
            "Pesticide_Name → ['Atrazine' 'Chlorpyrifos' 'Imidacloprid' 'Malathion' 'Mancozeb'\n",
            " 'Carbaryl' 'Glyphosate']\n",
            "Soil_Fertility_Num → [3 1 2]\n"
          ]
        }
      ],
      "source": [
        "cols_to_check = [\n",
        "    'Crop', 'Crop_Year', 'Season', 'State', 'Area', 'Production',\n",
        "    'Annual_Rainfall', 'Fertilizer', 'Pesticide', 'Yield',\n",
        "    'Soil_Fertility', 'Pesticide_Name', 'Soil_Fertility_Num'\n",
        "]\n",
        "\n",
        "for col in cols_to_check:\n",
        "    print(col, \"→\", df[col].unique()[:10])   # show only first 10 unique values\n"
      ]
    },
    {
      "cell_type": "code",
      "execution_count": 15,
      "metadata": {
        "colab": {
          "base_uri": "https://localhost:8080/"
        },
        "id": "rvQ1iLSbupcD",
        "outputId": "28fe429c-21f8-4965-c2d7-ebe203679dc7"
      },
      "outputs": [
        {
          "output_type": "stream",
          "name": "stdout",
          "text": [
            "          Crop_Year          Area    Production  Annual_Rainfall  \\\n",
            "count  19689.000000  1.968900e+04  1.968900e+04     19689.000000   \n",
            "mean    2009.127584  1.799266e+05  1.643594e+07      1437.755177   \n",
            "std        6.498099  7.328287e+05  2.630568e+08       816.909589   \n",
            "min     1997.000000  5.000000e-01  0.000000e+00       301.300000   \n",
            "25%     2004.000000  1.390000e+03  1.393000e+03       940.700000   \n",
            "50%     2010.000000  9.317000e+03  1.380400e+04      1247.600000   \n",
            "75%     2015.000000  7.511200e+04  1.227180e+05      1643.700000   \n",
            "max     2020.000000  5.080810e+07  6.326000e+09      6552.700000   \n",
            "\n",
            "         Fertilizer     Pesticide         Yield  Soil_Fertility_Num  \n",
            "count  1.968900e+04  1.968900e+04  19689.000000        19689.000000  \n",
            "mean   2.410331e+07  4.884835e+04     79.954009            1.993702  \n",
            "std    9.494600e+07  2.132874e+05    878.306193            0.816617  \n",
            "min    5.417000e+01  9.000000e-02      0.000000            1.000000  \n",
            "25%    1.880146e+05  3.567000e+02      0.600000            1.000000  \n",
            "50%    1.234957e+06  2.421900e+03      1.030000            2.000000  \n",
            "75%    1.000385e+07  2.004170e+04      2.388889            3.000000  \n",
            "max    4.835407e+09  1.575051e+07  21105.000000            3.000000  \n"
          ]
        }
      ],
      "source": [
        "print(df.describe())\n"
      ]
    },
    {
      "cell_type": "code",
      "execution_count": 17,
      "metadata": {
        "colab": {
          "base_uri": "https://localhost:8080/"
        },
        "id": "zDXuJZ6yvMUU",
        "outputId": "d859c7d5-3a0f-435d-aa86-552cc51707e8"
      },
      "outputs": [
        {
          "output_type": "stream",
          "name": "stdout",
          "text": [
            "           Crop  Crop_Year      Season  State     Area  Production  \\\n",
            "2   Castor Seed       1997      Kharif  Assam    796.0          22   \n",
            "3       Coconut       1997  Whole Year  Assam  19656.0   126905000   \n",
            "7          Jute       1997      Kharif  Assam  94520.0      904095   \n",
            "9         Maize       1997      Kharif  Assam  19216.0       14721   \n",
            "10        Mesta       1997      Kharif  Assam   5915.0       29003   \n",
            "\n",
            "    Annual_Rainfall  Fertilizer  Pesticide        Yield Soil_Fertility  \\\n",
            "2            2051.4    75755.32     246.76     0.238333           High   \n",
            "3            2051.4  1870661.52    6093.36  5238.051739           High   \n",
            "7            2051.4  8995468.40   29301.20     9.919565         Medium   \n",
            "9            2051.4  1828786.72    5956.96     0.615652           High   \n",
            "10           2051.4   562930.55    1833.65     4.568947           High   \n",
            "\n",
            "   Pesticide_Name  Soil_Fertility_Num  Computed_Yield   Yield_Diff  \n",
            "2    Imidacloprid                   3        0.027638     0.210695  \n",
            "3    Chlorpyrifos                   3     6456.298331  1218.246592  \n",
            "7       Malathion                   2        9.565118     0.354447  \n",
            "9        Atrazine                   3        0.766080     0.150428  \n",
            "10       Carbaryl                   3        4.903297     0.334349  \n"
          ]
        }
      ],
      "source": [
        "mismatch_rows = df[df['Yield_Diff'] > 0.1]\n",
        "print(mismatch_rows.head())\n"
      ]
    },
    {
      "cell_type": "code",
      "execution_count": 19,
      "metadata": {
        "id": "KVL2G8DYvUe9"
      },
      "outputs": [],
      "source": [
        "df = df.drop(columns=['Yield_Diff'])\n"
      ]
    },
    {
      "cell_type": "code",
      "execution_count": 20,
      "metadata": {
        "colab": {
          "base_uri": "https://localhost:8080/"
        },
        "id": "wa7vKjYcvzjK",
        "outputId": "4b94e3aa-d264-4383-e458-ebd59ded1218"
      },
      "outputs": [
        {
          "output_type": "stream",
          "name": "stdout",
          "text": [
            "['Crop', 'Crop_Year', 'Season', 'State', 'Area', 'Production', 'Annual_Rainfall', 'Fertilizer', 'Pesticide', 'Yield', 'Soil_Fertility', 'Pesticide_Name', 'Soil_Fertility_Num', 'Computed_Yield']\n"
          ]
        }
      ],
      "source": [
        "print(df.columns.tolist())\n"
      ]
    },
    {
      "cell_type": "code",
      "execution_count": 22,
      "metadata": {
        "id": "t5hejHqPwHpU"
      },
      "outputs": [],
      "source": [
        "X = pd.get_dummies(X, drop_first=True)\n"
      ]
    },
    {
      "cell_type": "code",
      "execution_count": 23,
      "metadata": {
        "id": "wB9mcMRXwJZw"
      },
      "outputs": [],
      "source": [
        "X_train, X_test, y_train, y_test = train_test_split(\n",
        "    X, y, test_size=0.2, random_state=42\n",
        ")\n"
      ]
    },
    {
      "cell_type": "code",
      "execution_count": 24,
      "metadata": {
        "colab": {
          "base_uri": "https://localhost:8080/"
        },
        "id": "JICAkosyy51J",
        "outputId": "6b26a796-b504-4f28-e0df-96a9ca1e223c"
      },
      "outputs": [
        {
          "output_type": "stream",
          "name": "stdout",
          "text": [
            "R2 Score: 0.9927783012390137\n",
            "MSE: 549024763478016.0\n"
          ]
        }
      ],
      "source": [
        "from sklearn.preprocessing import LabelEncoder\n",
        "from sklearn.model_selection import train_test_split\n",
        "from sklearn.metrics import r2_score, mean_squared_error\n",
        "from xgboost import XGBRegressor\n",
        "\n",
        "# Copy dataframe\n",
        "df_model = df.copy()\n",
        "\n",
        "# Columns to encode\n",
        "cat_cols = ['Crop', 'Season', 'State', 'Soil_Fertility', 'Pesticide_Name']\n",
        "\n",
        "# Encode categorical columns\n",
        "le = LabelEncoder()\n",
        "for col in cat_cols:\n",
        "    df_model[col] = le.fit_transform(df_model[col].astype(str))\n",
        "\n",
        "# Features and target\n",
        "X = df_model.drop(columns=['Production', 'Computed_Yield'])\n",
        "y = df_model['Production']\n",
        "\n",
        "# Train-test split\n",
        "X_train, X_test, y_train, y_test = train_test_split(\n",
        "    X, y, test_size=0.2, random_state=42\n",
        ")\n",
        "\n",
        "# XGBoost model\n",
        "xgb = XGBRegressor(n_estimators=500, learning_rate=0.05, max_depth=6, random_state=42)\n",
        "xgb.fit(X_train, y_train)\n",
        "\n",
        "# Predictions\n",
        "y_pred = xgb.predict(X_test)\n",
        "\n",
        "# Evaluation\n",
        "print(\"R2 Score:\", r2_score(y_test, y_pred))\n",
        "print(\"MSE:\", mean_squared_error(y_test, y_pred))\n"
      ]
    },
    {
      "cell_type": "code",
      "execution_count": 25,
      "metadata": {
        "colab": {
          "base_uri": "https://localhost:8080/",
          "height": 1000
        },
        "collapsed": true,
        "id": "Txl7MnG55LFs",
        "outputId": "b228b627-b3df-4c21-bff7-644d071cb7cb"
      },
      "outputs": [
        {
          "output_type": "display_data",
          "data": {
            "text/plain": [
              "<Figure size 800x400 with 1 Axes>"
            ],
            "image/png": "[encoded data removed]"
          },
          "metadata": {}
        },
        {
          "output_type": "display_data",
          "data": {
            "text/plain": [
              "<Figure size 800x400 with 1 Axes>"
            ],
            "image/png": "[encoded data removed]"
          },
          "metadata": {}
        },
        {
          "output_type": "display_data",
          "data": {
            "text/plain": [
              "<Figure size 800x400 with 1 Axes>"
            ],
            "image/png": "[encoded data removed]"
          },
          "metadata": {}
        },
        {
          "output_type": "display_data",
          "data": {
            "text/plain": [
              "<Figure size 800x400 with 1 Axes>"
            ],
            "image/png": "[encoded data removed]"
          },
          "metadata": {}
        },
        {
          "output_type": "display_data",
          "data": {
            "text/plain": [
              "<Figure size 800x400 with 1 Axes>"
            ],
            "image/png": "[encoded data removed]"
          },
          "metadata": {}
        },
        {
          "output_type": "display_data",
          "data": {
            "text/plain": [
              "<Figure size 800x400 with 1 Axes>"
            ],
            "image/png": "[encoded data removed]"
          },
          "metadata": {}
        },
        {
          "output_type": "display_data",
          "data": {
            "text/plain": [
              "<Figure size 800x400 with 1 Axes>"
            ],
            "image/png": "[encoded data removed]"
          },
          "metadata": {}
        },
        {
          "output_type": "display_data",
          "data": {
            "text/plain": [
              "<Figure size 800x400 with 1 Axes>"
            ],
            "image/png": "[encoded data removed]"
          },
          "metadata": {}
        }
      ],
      "source": [
        "import pandas as pd\n",
        "import matplotlib.pyplot as plt\n",
        "\n",
        "# Define numeric and categorical columns\n",
        "numeric_cols = ['Crop_Year', 'Area', 'Production', 'Annual_Rainfall',\n",
        "                'Fertilizer', 'Pesticide', 'Soil_Fertility_Num',\n",
        "                'Computed_Yield']\n",
        "\n",
        "categorical_cols = ['Crop', 'Season', 'State', 'Soil_Fertility', 'Pesticide_Name']\n",
        "\n",
        "# Plot boxplots for numeric columns\n",
        "for col in numeric_cols:\n",
        "    plt.figure(figsize=(8, 4))\n",
        "    plt.boxplot(df[col].dropna())  # drop NaN values\n",
        "    plt.title(f'Boxplot of {col}')\n",
        "    plt.ylabel(col)\n",
        "    plt.show()\n"
      ]
    },
    {
      "cell_type": "code",
      "source": [
        "import pandas as pd\n",
        "import numpy as np\n",
        "from sklearn.model_selection import train_test_split\n",
        "from sklearn.preprocessing import LabelEncoder\n",
        "from sklearn.metrics import r2_score, mean_squared_error, mean_absolute_error\n",
        "from xgboost import XGBRegressor\n",
        "\n",
        "# --- Step 1: Select relevant columns ---\n",
        "features = [\"Area\", \"Crop\", \"Season\", \"Soil_Fertility\", \"State\"]\n",
        "target = \"Yield\"\n",
        "\n",
        "df_model = df[features + [target]].dropna()\n",
        "\n",
        "# --- Step 2: Encode categorical columns ---\n",
        "encoder = LabelEncoder()\n",
        "for col in [\"Crop\", \"Season\", \"Soil_Fertility\", \"State\"]:\n",
        "    df_model[col] = encoder.fit_transform(df_model[col])\n",
        "\n",
        "# --- Step 3: Split data ---\n",
        "X = df_model[features]\n",
        "y = df_model[target]\n",
        "\n",
        "X_train, X_test, y_train, y_test = train_test_split(\n",
        "    X, y, test_size=0.2, random_state=42\n",
        ")\n",
        "\n",
        "# --- Step 4: Train XGBoost Regressor ---\n",
        "model = XGBRegressor(\n",
        "    objective='reg:squarederror',\n",
        "    n_estimators=300,\n",
        "    max_depth=5,\n",
        "    learning_rate=0.1,\n",
        "    random_state=42\n",
        ")\n",
        "model.fit(X_train, y_train)\n",
        "\n",
        "# --- Step 5: Predictions ---\n",
        "y_pred = model.predict(X_test)\n",
        "\n",
        "# --- Step 6: Evaluation ---\n",
        "r2 = r2_score(y_test, y_pred)\n",
        "rmse = np.sqrt(mean_squared_error(y_test, y_pred))\n",
        "mae = mean_absolute_error(y_test, y_pred)\n",
        "\n",
        "print(\"✅ Yield Prediction with XGBoost (using Area, Crop, Season, Soil Fertility, State)\")\n",
        "print(\"R² Score:\", r2)\n",
        "print(\"RMSE:\", rmse)\n",
        "print(\"MAE:\", mae)\n",
        "\n",
        "# --- Step 7: Show sample predictions from test dataset (at least 15 rows) ---\n",
        "sample_results = X_test.copy()\n",
        "sample_results[\"Actual_Yield\"] = y_test.values\n",
        "sample_results[\"Predicted_Yield\"] = y_pred\n",
        "\n",
        "num_samples = 15\n",
        "if len(sample_results) < num_samples:\n",
        "    # sample with replacement if test set is smaller than 15\n",
        "    results_sample = sample_results.sample(n=num_samples, replace=True, random_state=42)\n",
        "else:\n",
        "    results_sample = sample_results.sample(n=num_samples, random_state=42)\n",
        "\n",
        "print(\"\\n🔹 Sample predictions from test data (15 rows):\")\n",
        "print(results_sample.reset_index(drop=True))\n"
      ],
      "metadata": {
        "colab": {
          "base_uri": "https://localhost:8080/"
        },
        "id": "4yL3CkOVb5GY",
        "outputId": "fc5320e8-643f-4cc4-c895-333d689b1c73"
      },
      "execution_count": 26,
      "outputs": [
        {
          "output_type": "stream",
          "name": "stdout",
          "text": [
            "✅ Yield Prediction with XGBoost (using Area, Crop, Season, Soil Fertility, State)\n",
            "R² Score: 0.9488797998650561\n",
            "RMSE: 214.28049703487173\n",
            "MAE: 17.253730887981405\n",
            "\n",
            "🔹 Sample predictions from test data (15 rows):\n",
            "         Area  Crop  Season  Soil_Fertility  State  Actual_Yield  \\\n",
            "0    107731.0    24       3               0     29      7.470895   \n",
            "1   1375105.0     1       1               0     15      0.813226   \n",
            "2     54465.0     1       1               1      4      0.432778   \n",
            "3    157000.0    39       1               2     15      1.030000   \n",
            "4    327479.0    22       2               2      4      0.569333   \n",
            "5   1002932.0    16       2               1     12      0.590838   \n",
            "6      4608.0    21       1               0     14      1.976905   \n",
            "7    292610.0    41       3               1     20      3.188237   \n",
            "8    138730.0    38       4               1      3      7.661083   \n",
            "9      9830.0    31       2               2     27     18.399014   \n",
            "10    45487.0    53       3               1     27      0.788070   \n",
            "11      310.0    44       5               1     16      0.475000   \n",
            "12       93.0    23       2               1     17      0.605000   \n",
            "13      820.0    52       4               2      1      4.550000   \n",
            "14     1025.0     5       2               0     17      0.760000   \n",
            "\n",
            "    Predicted_Yield  \n",
            "0         -1.156274  \n",
            "1          1.245268  \n",
            "2          2.473394  \n",
            "3          0.844591  \n",
            "4          1.726346  \n",
            "5          0.928501  \n",
            "6          4.418735  \n",
            "7          1.959934  \n",
            "8         14.420838  \n",
            "9         11.388721  \n",
            "10         0.207592  \n",
            "11        -1.512574  \n",
            "12         0.481376  \n",
            "13         0.900281  \n",
            "14         0.908174  \n"
          ]
        }
      ]
    },
    {
      "cell_type": "code",
      "source": [
        "import pandas as pd\n",
        "import numpy as np\n",
        "from sklearn.model_selection import train_test_split, GridSearchCV\n",
        "from sklearn.preprocessing import LabelEncoder\n",
        "from sklearn.metrics import r2_score, mean_squared_error, mean_absolute_error\n",
        "from xgboost import XGBRegressor\n",
        "\n",
        "# --- Step 1: Select relevant columns ---\n",
        "features = [\"Area\", \"Crop\", \"Season\", \"Soil_Fertility\", \"State\"]\n",
        "target = \"Yield\"\n",
        "\n",
        "# Assuming df is your DataFrame\n",
        "df_model = df[features + [target]].dropna()\n",
        "\n",
        "# --- Step 2: Encode categorical columns ---\n",
        "encoder = LabelEncoder()\n",
        "for col in [\"Crop\", \"Season\", \"Soil_Fertility\", \"State\"]:\n",
        "    df_model[col] = encoder.fit_transform(df_model[col])\n",
        "\n",
        "# --- Step 3: Split data ---\n",
        "X = df_model[features]\n",
        "y = df_model[target]\n",
        "\n",
        "X_train, X_test, y_train, y_test = train_test_split(\n",
        "    X, y, test_size=0.2, random_state=42\n",
        ")\n",
        "\n",
        "# --- Step 4: Hyperparameter tuning with GridSearchCV ---\n",
        "param_grid = {\n",
        "    'n_estimators': [100, 200, 300],\n",
        "    'max_depth': [3, 5, 7],\n",
        "    'learning_rate': [0.01, 0.1, 0.2],\n",
        "    'subsample': [0.6, 0.8, 1.0],\n",
        "    'colsample_bytree': [0.6, 0.8, 1.0]\n",
        "}\n",
        "\n",
        "grid_search = GridSearchCV(\n",
        "    estimator=XGBRegressor(objective='reg:squarederror', random_state=42),\n",
        "    param_grid=param_grid,\n",
        "    cv=3,\n",
        "    n_jobs=-1,\n",
        "    scoring='r2',\n",
        "    verbose=2\n",
        ")\n",
        "\n",
        "grid_search.fit(X_train, y_train)\n",
        "\n",
        "# --- Step 5: Best parameters ---\n",
        "print(\"🔹 Best Parameters from GridSearchCV:\", grid_search.best_params_)\n",
        "\n",
        "# --- Step 6: Train model with best params ---\n",
        "best_model = grid_search.best_estimator_\n",
        "y_pred = best_model.predict(X_test)\n",
        "\n",
        "# --- Step 7: Evaluation ---\n",
        "r2 = r2_score(y_test, y_pred)\n",
        "rmse = np.sqrt(mean_squared_error(y_test, y_pred))\n",
        "mae = mean_absolute_error(y_test, y_pred)\n",
        "\n",
        "print(\"\\n✅ Yield Prediction with Tuned XGBoost\")\n",
        "print(\"R² Score:\", r2)\n",
        "print(\"RMSE:\", rmse)\n",
        "print(\"MAE:\", mae)\n",
        "\n",
        "# --- Step 8: Show sample predictions (at least 10 rows if possible) ---\n",
        "results = pd.DataFrame({\n",
        "    \"Actual_Yield\": y_test.values,\n",
        "    \"Predicted_Yield\": y_pred\n",
        "})\n",
        "\n",
        "num_samples = min(len(results), 10)  # ensures we don't exceed dataset size\n",
        "results_sample = results.sample(n=num_samples, random_state=42)\n",
        "print(\"\\n🔹 Sample predictions from test data:\")\n",
        "print(results_sample.reset_index(drop=True))\n"
      ],
      "metadata": {
        "colab": {
          "base_uri": "https://localhost:8080/"
        },
        "id": "GJjNFgutVp0L",
        "outputId": "c0f53942-c3d1-4b14-afbd-98b9974fe610"
      },
      "execution_count": 27,
      "outputs": [
        {
          "output_type": "stream",
          "name": "stdout",
          "text": [
            "Fitting 3 folds for each of 243 candidates, totalling 729 fits\n",
            "🔹 Best Parameters from GridSearchCV: {'colsample_bytree': 1.0, 'learning_rate': 0.2, 'max_depth': 5, 'n_estimators': 100, 'subsample': 0.6}\n",
            "\n",
            "✅ Yield Prediction with Tuned XGBoost\n",
            "R² Score: 0.9306063430467124\n",
            "RMSE: 249.65844419785196\n",
            "MAE: 18.48270977746866\n",
            "\n",
            "🔹 Sample predictions from test data:\n",
            "   Actual_Yield  Predicted_Yield\n",
            "0      7.470895         1.049100\n",
            "1      0.813226         5.194090\n",
            "2      0.432778         5.428788\n",
            "3      1.030000         1.644629\n",
            "4      0.569333         1.458834\n",
            "5      0.590838         0.612199\n",
            "6      1.976905         3.474020\n",
            "7      3.188237         1.017888\n",
            "8      7.661083        11.741813\n",
            "9     18.399014         8.981614\n"
          ]
        }
      ]
    },
    {
      "cell_type": "code",
      "source": [
        "import seaborn as sns\n",
        "import matplotlib.pyplot as plt\n",
        "\n",
        "# --- Step 1: Encode categorical columns for correlation (if not already done) ---\n",
        "# If using the df_model from earlier, it's already label encoded\n",
        "\n",
        "# --- Step 2: Compute correlation matrix ---\n",
        "corr_matrix = df_model.corr()\n",
        "\n",
        "# --- Step 3: Plot heatmap ---\n",
        "plt.figure(figsize=(10, 8))\n",
        "sns.heatmap(corr_matrix, annot=True, fmt=\".2f\", cmap=\"coolwarm\", linewidths=0.5)\n",
        "plt.title(\"Correlation Heatmap of Features with Yield\")\n",
        "plt.show()\n"
      ],
      "metadata": {
        "id": "jEFoDV4N46Q9",
        "outputId": "8e6574b5-35a2-4b30-a083-0f8a57755027",
        "colab": {
          "base_uri": "https://localhost:8080/",
          "height": 699
        }
      },
      "execution_count": 30,
      "outputs": [
        {
          "output_type": "display_data",
          "data": {
            "text/plain": [
              "<Figure size 1000x800 with 2 Axes>"
            ],
            "image/png": "[encoded data removed]"
          },
          "metadata": {}
        }
      ]
    },
    {
      "cell_type": "code",
      "source": [
        "import pandas as pd\n",
        "import seaborn as sns\n",
        "import matplotlib.pyplot as plt\n",
        "\n",
        "# Example ordinal mapping for Soil Fertility\n",
        "fertility_mapping = {\n",
        "    \"Low\": 1,\n",
        "    \"Medium\": 2,\n",
        "    \"High\": 3\n",
        "}\n",
        "\n",
        "# Replace Soil_Fertility column with mapped values\n",
        "df_model[\"Soil_Fertility\"] = df_model[\"Soil_Fertility\"].map(fertility_mapping)\n",
        "\n",
        "# Compute correlation matrix\n",
        "corr_matrix = df_model[[\"Area\", \"Crop\", \"Season\", \"Soil_Fertility\", \"Yield\"]].corr()\n",
        "\n",
        "# Plot heatmap\n",
        "plt.figure(figsize=(6,5))\n",
        "sns.heatmap(corr_matrix, annot=True, cmap=\"coolwarm\", center=0)\n",
        "plt.title(\"Correlation Heatmap (Fixed Soil Fertility Encoding)\")\n",
        "plt.show()\n"
      ],
      "metadata": {
        "colab": {
          "base_uri": "https://localhost:8080/",
          "height": 468
        },
        "id": "ECZSzJ7vumb0",
        "outputId": "cfd72d57-c8b9-4f70-b9a2-452131b852a0"
      },
      "execution_count": 31,
      "outputs": [
        {
          "output_type": "display_data",
          "data": {
            "text/plain": [
              "<Figure size 600x500 with 2 Axes>"
            ],
            "image/png": "[encoded data removed]"
          },
          "metadata": {}
        }
      ]
    },
    {
      "cell_type": "code",
      "execution_count": 35,
      "metadata": {
        "colab": {
          "base_uri": "https://localhost:8080/"
        },
        "id": "j8KxRkOTBHc3",
        "outputId": "c3d196e4-1fb7-47f7-e4bf-fcff4b30f1a9"
      },
      "outputs": [
        {
          "output_type": "stream",
          "name": "stdout",
          "text": [
            "['Crop', 'Crop_Year', 'Season', 'State', 'Area', 'Production', 'Annual_Rainfall', 'Fertilizer', 'Pesticide', 'Yield', 'Soil_Fertility', 'Pesticide_Name', 'Soil_Fertility_Num', 'Computed_Yield']\n"
          ]
        }
      ],
      "source": [
        "print(df.columns.tolist())\n"
      ]
    },
    {
      "cell_type": "markdown",
      "metadata": {
        "id": "9a367a23"
      },
      "source": [
        "# Task\n",
        "Predict yield based on other parameters using the dataset in \"/content/mmmmmm.png\"."
      ]
    },
    {
      "cell_type": "markdown",
      "metadata": {
        "id": "68798ecd"
      },
      "source": [
        "## Prepare data for modeling\n",
        "\n",
        "### Subtask:\n",
        "Select the features (input variables) and the target variable (yield) for the model.\n"
      ]
    },
    {
      "cell_type": "markdown",
      "metadata": {
        "id": "f340f7aa"
      },
      "source": [
        "**Reasoning**:\n",
        "Define the features X and the target variable y by dropping the specified columns from the dataframe.\n",
        "\n"
      ]
    },
    {
      "cell_type": "markdown",
      "metadata": {
        "id": "a6a66d9a"
      },
      "source": [
        "## Encode categorical features\n",
        "\n",
        "### Subtask:\n",
        "Convert categorical features into a numerical format using one-hot encoding."
      ]
    },
    {
      "cell_type": "markdown",
      "metadata": {
        "id": "e22bc5f9"
      },
      "source": [
        "**Reasoning**:\n",
        "Use `pd.get_dummies` to one-hot encode the categorical columns in both the training and testing datasets. This is necessary because most machine learning models, including XGBoost, require numerical input. `drop_first=True` is used to avoid multicollinearity."
      ]
    },
    {
      "cell_type": "code",
      "execution_count": 36,
      "metadata": {
        "colab": {
          "base_uri": "https://localhost:8080/"
        },
        "id": "4c013804",
        "outputId": "fd27d641-ed79-4340-d971-37be3ebb8ef4"
      },
      "outputs": [
        {
          "output_type": "stream",
          "name": "stdout",
          "text": [
            "Shape of X_train after encoding and alignment: (15751, 5)\n",
            "Shape of X_test after encoding and alignment: (3938, 5)\n"
          ]
        }
      ],
      "source": [
        "X_train = pd.get_dummies(X_train, drop_first=True)\n",
        "X_test = pd.get_dummies(X_test, drop_first=True)\n",
        "\n",
        "# Align columns - crucial for consistent feature sets\n",
        "train_cols = X_train.columns\n",
        "test_cols = X_test.columns\n",
        "\n",
        "missing_in_test = set(train_cols) - set(test_cols)\n",
        "for c in missing_in_test:\n",
        "    X_test[c] = 0\n",
        "\n",
        "missing_in_train = set(test_cols) - set(train_cols)\n",
        "for c in missing_in_train:\n",
        "    X_train[c] = 0\n",
        "\n",
        "X_test = X_test[train_cols] # Ensure the order is the same\n",
        "\n",
        "print(\"Shape of X_train after encoding and alignment:\", X_train.shape)\n",
        "print(\"Shape of X_test after encoding and alignment:\", X_test.shape)"
      ]
    },
    {
      "cell_type": "markdown",
      "metadata": {
        "id": "bb86cdd6"
      },
      "source": [
        "## Train a model\n",
        "\n",
        "### Subtask:\n",
        "Train a suitable regression model on the training data."
      ]
    },
    {
      "cell_type": "markdown",
      "metadata": {
        "id": "acc3fe45"
      },
      "source": [
        "**Reasoning**:\n",
        "Use `XGBRegressor` from `xgboost` to train a regression model on the training data (`X_train`, `y_train`). XGBoost is a powerful gradient boosting library known for its performance."
      ]
    },
    {
      "cell_type": "code",
      "execution_count": 37,
      "metadata": {
        "colab": {
          "base_uri": "https://localhost:8080/"
        },
        "id": "41add196",
        "outputId": "8afe82ef-9ec7-4a87-9a5f-e02765062be0"
      },
      "outputs": [
        {
          "output_type": "stream",
          "name": "stdout",
          "text": [
            "✅ Yield Prediction with XGBoost (using Area, Crop, Season, Soil Fertility, State)\n",
            "R² Score: 0.9488797998650561\n",
            "RMSE: 214.28049703487173\n",
            "MAE: 17.253730887981405\n"
          ]
        }
      ],
      "source": [
        "import pandas as pd\n",
        "import numpy as np\n",
        "from sklearn.model_selection import train_test_split\n",
        "from sklearn.preprocessing import LabelEncoder\n",
        "from sklearn.metrics import r2_score, mean_squared_error, mean_absolute_error\n",
        "from xgboost import XGBRegressor\n",
        "\n",
        "# --- Step 1: Select relevant columns ---\n",
        "features = [\"Area\", \"Crop\", \"Season\", \"Soil_Fertility\", \"State\"]\n",
        "target = \"Yield\"\n",
        "\n",
        "df_model = df[features + [target]].dropna()\n",
        "\n",
        "# --- Step 2: Encode categorical columns ---\n",
        "encoder = LabelEncoder()\n",
        "for col in [\"Crop\", \"Season\", \"Soil_Fertility\", \"State\"]:\n",
        "    df_model[col] = encoder.fit_transform(df_model[col])\n",
        "\n",
        "# --- Step 3: Split data ---\n",
        "X = df_model[features]\n",
        "y = df_model[target]\n",
        "\n",
        "X_train, X_test, y_train, y_test = train_test_split(\n",
        "    X, y, test_size=0.2, random_state=42\n",
        ")\n",
        "\n",
        "# --- Step 4: Train XGBoost Regressor ---\n",
        "model = XGBRegressor(\n",
        "    objective='reg:squarederror',\n",
        "    n_estimators=300,\n",
        "    max_depth=5,\n",
        "    learning_rate=0.1,\n",
        "    random_state=42\n",
        ")\n",
        "model.fit(X_train, y_train)\n",
        "\n",
        "# --- Step 5: Predictions ---\n",
        "y_pred = model.predict(X_test)\n",
        "\n",
        "# --- Step 6: Evaluation ---\n",
        "r2 = r2_score(y_test, y_pred)\n",
        "rmse = np.sqrt(mean_squared_error(y_test, y_pred))\n",
        "mae = mean_absolute_error(y_test, y_pred)\n",
        "\n",
        "print(\"✅ Yield Prediction with XGBoost (using Area, Crop, Season, Soil Fertility, State)\")\n",
        "print(\"R² Score:\", r2)\n",
        "print(\"RMSE:\", rmse)\n",
        "print(\"MAE:\", mae)\n"
      ]
    },
    {
      "cell_type": "markdown",
      "metadata": {
        "id": "603ba927"
      },
      "source": [
        "## Finish task\n",
        "\n",
        "### Subtask:\n",
        "Summarize the findings and the model's performance."
      ]
    },
    {
      "cell_type": "markdown",
      "metadata": {
        "id": "126839d0"
      },
      "source": [
        "**Summary**:\n",
        "We loaded the dataset, performed data cleaning and preprocessing, including handling missing values, removing duplicates, and encoding categorical features. We then split the data into training and testing sets and trained an XGBoost regression model to predict crop yield based on other parameters.\n",
        "\n",
        "The model achieved an R2 score of {{r2_score(y_test, y_pred)}} and a Mean Squared Error (MSE) of {{mean_squared_error(y_test, y_pred)}} on the test set. These metrics indicate how well the model performed in predicting yield.\n",
        "\n",
        "The sample predictions show that the model can provide estimates of yield based on the input features. Further analysis and potentially hyperparameter tuning could be performed to improve the model's performance."
      ]
    },
    {
      "cell_type": "markdown",
      "metadata": {
        "id": "ecdef7e6"
      },
      "source": [
        "## Predict yield\n",
        "\n",
        "### Subtask:\n",
        "Use the trained model to predict yield on new or unseen data."
      ]
    },
    {
      "cell_type": "markdown",
      "metadata": {
        "id": "660af7ca"
      },
      "source": [
        "**Reasoning**:\n",
        "Use the `predict` method of the trained XGBoost model to generate yield predictions for the test set (`X_test`)."
      ]
    },
    {
      "cell_type": "markdown",
      "metadata": {
        "id": "b48be198"
      },
      "source": [
        "## Split data\n",
        "\n",
        "### Subtask:\n",
        "Split the dataset into training and testing sets using `train_test_split`."
      ]
    },
    {
      "cell_type": "markdown",
      "metadata": {
        "id": "810c0d3d"
      },
      "source": [
        "**Reasoning**:\n",
        "Split the data into training (80%) and testing (20%) sets using `train_test_split` from `sklearn.model_selection`."
      ]
    },
    {
      "cell_type": "code",
      "execution_count": 38,
      "metadata": {
        "colab": {
          "base_uri": "https://localhost:8080/"
        },
        "id": "d376e70e",
        "outputId": "8012a08a-eb7b-4d9d-c9d0-1d1d64beb89a"
      },
      "outputs": [
        {
          "output_type": "stream",
          "name": "stdout",
          "text": [
            "Shape of X_train: (15751, 5)\n",
            "Shape of X_test: (3938, 5)\n",
            "Shape of y_train: (15751,)\n",
            "Shape of y_test: (3938,)\n"
          ]
        }
      ],
      "source": [
        "from sklearn.model_selection import train_test_split\n",
        "\n",
        "X_train, X_test, y_train, y_test = train_test_split(\n",
        "    X, y, test_size=0.2, random_state=42\n",
        ")\n",
        "\n",
        "print(\"Shape of X_train:\", X_train.shape)\n",
        "print(\"Shape of X_test:\", X_test.shape)\n",
        "print(\"Shape of y_train:\", y_train.shape)\n",
        "print(\"Shape of y_test:\", y_test.shape)"
      ]
    },
    {
      "cell_type": "markdown",
      "metadata": {
        "id": "89a1f23a"
      },
      "source": [
        "**Reasoning**:\n",
        "The previous command failed because the specified columns were not found in the DataFrame. This is likely due to loading the original dataset again in a previous step. The subtask requires selecting features and the target variable from the *cleaned* DataFrame `df` which was processed earlier. I will print the current columns to verify and then attempt to select the correct columns again.\n",
        "\n"
      ]
    },
    {
      "cell_type": "code",
      "source": [
        "import joblib\n",
        "\n",
        "joblib.dump(model, \"model.pkl\")"
      ],
      "metadata": {
        "id": "EOE1TxOircB4",
        "outputId": "51d1a657-f0fc-496e-f560-b7780a96f301",
        "colab": {
          "base_uri": "https://localhost:8080/"
        }
      },
      "execution_count": 39,
      "outputs": [
        {
          "output_type": "execute_result",
          "data": {
            "text/plain": [
              "['model.pkl']"
            ]
          },
          "metadata": {},
          "execution_count": 39
        }
      ]
    },
    {
      "cell_type": "code",
      "source": [
        "from flask import Flask, request, render_template, jsonify\n",
        "import joblib\n",
        "import numpy as np\n",
        "\n",
        "app = Flask(__name__)\n",
        "\n",
        "# Load model\n",
        "model = joblib.load(\"model.pkl\")\n",
        "\n",
        "@app.route(\"/\")\n",
        "def home():\n",
        "    return render_template(\"index.html\")\n",
        "\n",
        "@app.route(\"/predict\", methods=[\"POST\"])\n",
        "def predict():\n",
        "    try:\n",
        "        # Example: get features from form\n",
        "        f1 = float(request.form.get(\"feature1\"))\n",
        "        f2 = float(request.form.get(\"feature2\"))\n",
        "        f3 = float(request.form.get(\"feature3\"))\n",
        "\n",
        "        features = np.array([[f1, f2, f3]])\n",
        "        prediction = model.predict(features)\n",
        "\n",
        "        return jsonify({\"prediction\": float(prediction[0])})\n",
        "    except Exception as e:\n",
        "        return jsonify({\"error\": str(e)})\n",
        "\n",
        "if __name__ == \"__main__\":\n",
        "    app.run(debug=True)\n"
      ],
      "metadata": {
        "colab": {
          "base_uri": "https://localhost:8080/"
        },
        "id": "84qcEfcXLURm",
        "outputId": "4f8156e7-20c3-4849-c177-379c2f9b630a"
      },
      "execution_count": null,
      "outputs": [
        {
          "output_type": "stream",
          "name": "stdout",
          "text": [
            " * Serving Flask app '__main__'\n",
            " * Debug mode: on\n"
          ]
        },
        {
          "output_type": "stream",
          "name": "stderr",
          "text": [
            "INFO:werkzeug:\u001b[31m\u001b[1mWARNING: This is a development server. Do not use it in a production deployment. Use a production WSGI server instead.\u001b[0m\n",
            " * Running on http://127.0.0.1:5000\n",
            "INFO:werkzeug:\u001b[33mPress CTRL+C to quit\u001b[0m\n",
            "INFO:werkzeug: * Restarting with watchdog (inotify)\n"
          ]
        }
      ]
    }
  ],
  "metadata": {
    "colab": {
      "provenance": [],
      "include_colab_link": true
    },
    "kernelspec": {
      "display_name": "Python 3",
      "name": "python3"
    },
    "language_info": {
      "name": "python"
    }
  },
  "nbformat": 4,
  "nbformat_minor": 0
}
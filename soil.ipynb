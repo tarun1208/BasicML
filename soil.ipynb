{
  "cells": [
    {
      "cell_type": "markdown",
      "metadata": {
        "id": "view-in-github",
        "colab_type": "text"
      },
      "source": [
        "<a href=\"https://colab.research.google.com/github/tarun1208/BasicML/blob/main/soil.ipynb\" target=\"_parent\"><img src=\"https://colab.research.google.com/assets/colab-badge.svg\" alt=\"Open In Colab\"/></a>"
      ]
    },
    {
      "cell_type": "code",
      "execution_count": null,
      "metadata": {
        "colab": {
          "base_uri": "https://localhost:8080/"
        },
        "id": "mUlBOJlxrmqe",
        "outputId": "5d40ab8a-e585-4639-b35f-3981cea0dce2"
      },
      "outputs": [
        {
          "output_type": "stream",
          "name": "stdout",
          "text": [
            "Shape: (19689, 12)\n",
            "           Crop  Crop_Year       Season  State     Area  Production  \\\n",
            "0      Arecanut       1997  Whole Year   Assam  73814.0       56708   \n",
            "1     Arhar/Tur       1997  Kharif       Assam   6637.0        4685   \n",
            "2   Castor seed       1997  Kharif       Assam    796.0          22   \n",
            "3      Coconut        1997  Whole Year   Assam  19656.0   126905000   \n",
            "4  Cotton(lint)       1997  Kharif       Assam   1739.0         794   \n",
            "\n",
            "   Annual_Rainfall  Fertilizer  Pesticide        Yield Soil_Fertility  \\\n",
            "0           2051.4  7024878.38   22882.34     0.796087           High   \n",
            "1           2051.4   631643.29    2057.47     0.710435            Low   \n",
            "2           2051.4    75755.32     246.76     0.238333           High   \n",
            "3           2051.4  1870661.52    6093.36  5238.051739           High   \n",
            "4           2051.4   165500.63     539.09     0.420909            Low   \n",
            "\n",
            "  Pesticide_Name  \n",
            "0       Atrazine  \n",
            "1   Chlorpyrifos  \n",
            "2   Imidacloprid  \n",
            "3   Chlorpyrifos  \n",
            "4       Atrazine  \n"
          ]
        }
      ],
      "source": [
        "import pandas as pd\n",
        "\n",
        "# Load your dataset\n",
        "df = pd.read_csv(\"/content/soil.csv\")\n",
        "\n",
        "# Check the first few rows and shape\n",
        "print(\"Shape:\", df.shape)\n",
        "print(df.head())\n"
      ]
    },
    {
      "cell_type": "code",
      "execution_count": null,
      "metadata": {
        "colab": {
          "base_uri": "https://localhost:8080/",
          "height": 460
        },
        "id": "Ps49C-NwVwwM",
        "outputId": "91210841-ca73-4b54-b1c7-7ac1295301ff"
      },
      "outputs": [
        {
          "output_type": "execute_result",
          "data": {
            "text/plain": [
              "Crop               0\n",
              "Crop_Year          0\n",
              "Season             0\n",
              "State              0\n",
              "Area               0\n",
              "Production         0\n",
              "Annual_Rainfall    0\n",
              "Fertilizer         0\n",
              "Pesticide          0\n",
              "Yield              0\n",
              "Soil_Fertility     0\n",
              "Pesticide_Name     0\n",
              "dtype: int64"
            ],
            "text/html": [
              "<div>\n",
              "<style scoped>\n",
              "    .dataframe tbody tr th:only-of-type {\n",
              "        vertical-align: middle;\n",
              "    }\n",
              "\n",
              "    .dataframe tbody tr th {\n",
              "        vertical-align: top;\n",
              "    }\n",
              "\n",
              "    .dataframe thead th {\n",
              "        text-align: right;\n",
              "    }\n",
              "</style>\n",
              "<table border=\"1\" class=\"dataframe\">\n",
              "  <thead>\n",
              "    <tr style=\"text-align: right;\">\n",
              "      <th></th>\n",
              "      <th>0</th>\n",
              "    </tr>\n",
              "  </thead>\n",
              "  <tbody>\n",
              "    <tr>\n",
              "      <th>Crop</th>\n",
              "      <td>0</td>\n",
              "    </tr>\n",
              "    <tr>\n",
              "      <th>Crop_Year</th>\n",
              "      <td>0</td>\n",
              "    </tr>\n",
              "    <tr>\n",
              "      <th>Season</th>\n",
              "      <td>0</td>\n",
              "    </tr>\n",
              "    <tr>\n",
              "      <th>State</th>\n",
              "      <td>0</td>\n",
              "    </tr>\n",
              "    <tr>\n",
              "      <th>Area</th>\n",
              "      <td>0</td>\n",
              "    </tr>\n",
              "    <tr>\n",
              "      <th>Production</th>\n",
              "      <td>0</td>\n",
              "    </tr>\n",
              "    <tr>\n",
              "      <th>Annual_Rainfall</th>\n",
              "      <td>0</td>\n",
              "    </tr>\n",
              "    <tr>\n",
              "      <th>Fertilizer</th>\n",
              "      <td>0</td>\n",
              "    </tr>\n",
              "    <tr>\n",
              "      <th>Pesticide</th>\n",
              "      <td>0</td>\n",
              "    </tr>\n",
              "    <tr>\n",
              "      <th>Yield</th>\n",
              "      <td>0</td>\n",
              "    </tr>\n",
              "    <tr>\n",
              "      <th>Soil_Fertility</th>\n",
              "      <td>0</td>\n",
              "    </tr>\n",
              "    <tr>\n",
              "      <th>Pesticide_Name</th>\n",
              "      <td>0</td>\n",
              "    </tr>\n",
              "  </tbody>\n",
              "</table>\n",
              "</div><br><label><b>dtype:</b> int64</label>"
            ]
          },
          "metadata": {},
          "execution_count": 5
        }
      ],
      "source": [
        "df.isnull().sum()"
      ]
    },
    {
      "cell_type": "code",
      "execution_count": null,
      "metadata": {
        "id": "5y1cT_5WWa9l",
        "colab": {
          "base_uri": "https://localhost:8080/"
        },
        "outputId": "17dbf000-ab73-419e-b2a1-644ebe19953b"
      },
      "outputs": [
        {
          "output_type": "stream",
          "name": "stderr",
          "text": [
            "/tmp/ipython-input-2460791626.py:2: FutureWarning: A value is trying to be set on a copy of a DataFrame or Series through chained assignment using an inplace method.\n",
            "The behavior will change in pandas 3.0. This inplace method will never work because the intermediate object on which we are setting values always behaves as a copy.\n",
            "\n",
            "For example, when doing 'df[col].method(value, inplace=True)', try using 'df.method({col: value}, inplace=True)' or df[col] = df[col].method(value) instead, to perform the operation inplace on the original object.\n",
            "\n",
            "\n",
            "  df['Yield'].fillna(df['Yield'].mean(), inplace=True)   # fill with average\n",
            "/tmp/ipython-input-2460791626.py:4: FutureWarning: A value is trying to be set on a copy of a DataFrame or Series through chained assignment using an inplace method.\n",
            "The behavior will change in pandas 3.0. This inplace method will never work because the intermediate object on which we are setting values always behaves as a copy.\n",
            "\n",
            "For example, when doing 'df[col].method(value, inplace=True)', try using 'df.method({col: value}, inplace=True)' or df[col] = df[col].method(value) instead, to perform the operation inplace on the original object.\n",
            "\n",
            "\n",
            "  df['Yield'].fillna(df['Yield'].median(), inplace=True) # fill with median\n",
            "/tmp/ipython-input-2460791626.py:5: FutureWarning: A value is trying to be set on a copy of a DataFrame or Series through chained assignment using an inplace method.\n",
            "The behavior will change in pandas 3.0. This inplace method will never work because the intermediate object on which we are setting values always behaves as a copy.\n",
            "\n",
            "For example, when doing 'df[col].method(value, inplace=True)', try using 'df.method({col: value}, inplace=True)' or df[col] = df[col].method(value) instead, to perform the operation inplace on the original object.\n",
            "\n",
            "\n",
            "  df['Yield'].fillna(0, inplace=True)\n"
          ]
        }
      ],
      "source": [
        "df = df.dropna(subset=['Yield'])\n",
        "df['Yield'].fillna(df['Yield'].mean(), inplace=True)   # fill with average\n",
        "# OR\n",
        "df['Yield'].fillna(df['Yield'].median(), inplace=True) # fill with median\n",
        "df['Yield'].fillna(0, inplace=True)\n"
      ]
    },
    {
      "cell_type": "code",
      "execution_count": null,
      "metadata": {
        "colab": {
          "base_uri": "https://localhost:8080/"
        },
        "id": "egfGFPnqtrkM",
        "outputId": "5c0838d8-5038-4836-a08c-13ca6449ebbb"
      },
      "outputs": [
        {
          "output_type": "stream",
          "name": "stdout",
          "text": [
            "Cleaned column names:\n",
            " ['Crop', 'Crop_Year', 'Season', 'State', 'Area', 'Production', 'Annual_Rainfall', 'Fertilizer', 'Pesticide', 'Yield', 'Soil_Fertility', 'Pesticide_Name']\n"
          ]
        }
      ],
      "source": [
        "# Remove spaces, brackets, and replace with _\n",
        "df.columns = df.columns.str.strip().str.replace(\" \", \"_\").str.replace(\"(\", \"\").str.replace(\")\", \"\")\n",
        "\n",
        "print(\"Cleaned column names:\\n\", df.columns.tolist())\n"
      ]
    },
    {
      "cell_type": "code",
      "execution_count": null,
      "metadata": {
        "colab": {
          "base_uri": "https://localhost:8080/"
        },
        "id": "eAJvTR8atvBf",
        "outputId": "f8b4635c-2abc-40c7-9325-bb471fe60bb5"
      },
      "outputs": [
        {
          "output_type": "stream",
          "name": "stdout",
          "text": [
            "Unique Soil_Fertility values:\n",
            " ['High' 'Low' 'Medium']\n"
          ]
        }
      ],
      "source": [
        "# Identify text columns\n",
        "text_cols = df.select_dtypes(include='object').columns.tolist()\n",
        "\n",
        "# Strip spaces and make case uniform\n",
        "for col in text_cols:\n",
        "    df[col] = df[col].astype(str).str.strip().str.title()\n",
        "\n",
        "print(\"Unique Soil_Fertility values:\\n\", df['Soil_Fertility'].unique())\n"
      ]
    },
    {
      "cell_type": "code",
      "execution_count": null,
      "metadata": {
        "colab": {
          "base_uri": "https://localhost:8080/"
        },
        "id": "vaVvZ-5Utyrv",
        "outputId": "94a6a8f9-8689-41bf-ed1d-e62e2ce53152"
      },
      "outputs": [
        {
          "output_type": "stream",
          "name": "stdout",
          "text": [
            "Crop_Year            int64\n",
            "Area               float64\n",
            "Production           int64\n",
            "Annual_Rainfall    float64\n",
            "Fertilizer         float64\n",
            "Pesticide          float64\n",
            "Yield              float64\n",
            "dtype: object\n"
          ]
        }
      ],
      "source": [
        "numeric_cols = ['Crop_Year', 'Area', 'Production', 'Annual_Rainfall',\n",
        "                'Fertilizer', 'Pesticide', 'Yield']\n",
        "\n",
        "# Convert them to numeric (invalid values -> NaN)\n",
        "for col in numeric_cols:\n",
        "    df[col] = pd.to_numeric(df[col], errors='coerce')\n",
        "\n",
        "# Check datatypes after conversion\n",
        "print(df[numeric_cols].dtypes)"
      ]
    },
    {
      "cell_type": "code",
      "execution_count": null,
      "metadata": {
        "colab": {
          "base_uri": "https://localhost:8080/"
        },
        "id": "6hZxCM8vuAMZ",
        "outputId": "1ae335cd-42d1-4e65-9768-cc1103612b51"
      },
      "outputs": [
        {
          "output_type": "stream",
          "name": "stdout",
          "text": [
            "Removed 0 duplicate rows\n"
          ]
        }
      ],
      "source": [
        "before = df.shape[0]\n",
        "df = df.drop_duplicates()\n",
        "after = df.shape[0]\n",
        "print(f\"Removed {before - after} duplicate rows\")\n"
      ]
    },
    {
      "cell_type": "code",
      "execution_count": null,
      "metadata": {
        "id": "zlmgZD9TuE7u"
      },
      "outputs": [],
      "source": [
        "# Fill missing values (numeric → median, categorical → mode)\n",
        "for col in df.columns:\n",
        "    if df[col].dtype in ['float64', 'int64']:\n",
        "        df[col] = df[col].fillna(df[col].median())\n",
        "    else:\n",
        "        df[col] = df[col].fillna(df[col].mode()[0])\n"
      ]
    },
    {
      "cell_type": "code",
      "execution_count": null,
      "metadata": {
        "colab": {
          "base_uri": "https://localhost:8080/"
        },
        "id": "7HITp4l9uGrP",
        "outputId": "3a8b736f-1158-44ff-eee0-fc7e46457a47"
      },
      "outputs": [
        {
          "output_type": "stream",
          "name": "stdout",
          "text": [
            "  Soil_Fertility  Soil_Fertility_Num\n",
            "0           High                   3\n",
            "1            Low                   1\n",
            "2           High                   3\n",
            "3           High                   3\n",
            "4            Low                   1\n"
          ]
        }
      ],
      "source": [
        "# Mapping dictionary\n",
        "soil_map = {\"Low\": 1, \"Medium\": 2, \"High\": 3}\n",
        "\n",
        "# Apply mapping\n",
        "df['Soil_Fertility_Num'] = df['Soil_Fertility'].map(soil_map)\n",
        "\n",
        "print(df[['Soil_Fertility', 'Soil_Fertility_Num']].head())\n"
      ]
    },
    {
      "cell_type": "code",
      "execution_count": null,
      "metadata": {
        "colab": {
          "base_uri": "https://localhost:8080/"
        },
        "id": "5kHwTfInuL78",
        "outputId": "29010569-6fcb-4f0b-c859-74c968bf5529"
      },
      "outputs": [
        {
          "output_type": "stream",
          "name": "stdout",
          "text": [
            "['Crop', 'Crop_Year', 'Season', 'State', 'Area', 'Production', 'Annual_Rainfall', 'Fertilizer', 'Pesticide', 'Yield', 'Soil_Fertility', 'Pesticide_Name', 'Soil_Fertility_Num']\n"
          ]
        }
      ],
      "source": [
        "print(df.columns.tolist())\n"
      ]
    },
    {
      "cell_type": "code",
      "execution_count": null,
      "metadata": {
        "colab": {
          "base_uri": "https://localhost:8080/"
        },
        "id": "52y1i9HOuiLU",
        "outputId": "58730abd-af72-4b0b-d29f-72454da35e2c"
      },
      "outputs": [
        {
          "output_type": "stream",
          "name": "stdout",
          "text": [
            "Duplicate rows: 0\n"
          ]
        }
      ],
      "source": [
        "print(\"Duplicate rows:\", df.duplicated().sum())\n"
      ]
    },
    {
      "cell_type": "code",
      "execution_count": null,
      "metadata": {
        "colab": {
          "base_uri": "https://localhost:8080/"
        },
        "id": "_H9K5hHVujzX",
        "outputId": "0077180d-4c59-4858-c7eb-e5d1b8aa54d9"
      },
      "outputs": [
        {
          "output_type": "stream",
          "name": "stdout",
          "text": [
            "Missing values per column:\n",
            " Crop                  0\n",
            "Crop_Year             0\n",
            "Season                0\n",
            "State                 0\n",
            "Area                  0\n",
            "Production            0\n",
            "Annual_Rainfall       0\n",
            "Fertilizer            0\n",
            "Pesticide             0\n",
            "Yield                 0\n",
            "Soil_Fertility        0\n",
            "Pesticide_Name        0\n",
            "Soil_Fertility_Num    0\n",
            "dtype: int64\n"
          ]
        }
      ],
      "source": [
        "print(\"Missing values per column:\\n\", df.isnull().sum())\n"
      ]
    },
    {
      "cell_type": "code",
      "execution_count": null,
      "metadata": {
        "colab": {
          "base_uri": "https://localhost:8080/"
        },
        "id": "v6HHzULfullw",
        "outputId": "4cc38485-84ea-4fec-b876-8d6085582918"
      },
      "outputs": [
        {
          "output_type": "stream",
          "name": "stdout",
          "text": [
            "Crop                   object\n",
            "Crop_Year               int64\n",
            "Season                 object\n",
            "State                  object\n",
            "Area                  float64\n",
            "Production              int64\n",
            "Annual_Rainfall       float64\n",
            "Fertilizer            float64\n",
            "Pesticide             float64\n",
            "Yield                 float64\n",
            "Soil_Fertility         object\n",
            "Pesticide_Name         object\n",
            "Soil_Fertility_Num      int64\n",
            "dtype: object\n"
          ]
        }
      ],
      "source": [
        "print(df.dtypes)\n"
      ]
    },
    {
      "cell_type": "code",
      "execution_count": null,
      "metadata": {
        "colab": {
          "base_uri": "https://localhost:8080/"
        },
        "id": "QbMgOtH5une8",
        "outputId": "640d008e-4c0b-4255-ae40-ff20c25ae200"
      },
      "outputs": [
        {
          "output_type": "stream",
          "name": "stdout",
          "text": [
            "Crop → ['Arecanut' 'Arhar/Tur' 'Castor Seed' 'Coconut' 'Cotton(Lint)'\n",
            " 'Dry Chillies' 'Gram' 'Jute' 'Linseed' 'Maize']\n",
            "Crop_Year → [1997 1998 1999 2000 2001 2002 2003 2004 2005 2006]\n",
            "Season → ['Whole Year' 'Kharif' 'Rabi' 'Autumn' 'Summer' 'Winter']\n",
            "State → ['Assam' 'Karnataka' 'Kerala' 'Meghalaya' 'West Bengal' 'Puducherry' 'Goa'\n",
            " 'Andhra Pradesh' 'Tamil Nadu' 'Odisha']\n",
            "Area → [73814.  6637.   796. 19656.  1739. 13587.  2979. 94520. 10098. 19216.]\n",
            "Production → [    56708      4685        22 126905000       794      9073      1507\n",
            "    904095      5158     14721]\n",
            "Annual_Rainfall → [2051.4    1266.7    3252.4    3818.2    1852.9    1434.5875 2354.4\n",
            " 2964.9    1260.8    3151.5   ]\n",
            "Fertilizer → [7024878.38  631643.29   75755.32 1870661.52  165500.63 1293074.79\n",
            "  283511.43 8995468.4   961026.66 1828786.72]\n",
            "Pesticide → [22882.34  2057.47   246.76  6093.36   539.09  4211.97   923.49 29301.2\n",
            "  3130.38  5956.96]\n",
            "Yield → [7.96086957e-01 7.10434783e-01 2.38333333e-01 5.23805174e+03\n",
            " 4.20909091e-01 6.43636364e-01 4.65454545e-01 9.91956522e+00\n",
            " 4.61363636e-01 6.15652174e-01]\n",
            "Soil_Fertility → ['High' 'Low' 'Medium']\n",
            "Pesticide_Name → ['Atrazine' 'Chlorpyrifos' 'Imidacloprid' 'Malathion' 'Mancozeb'\n",
            " 'Carbaryl' 'Glyphosate']\n",
            "Soil_Fertility_Num → [3 1 2]\n"
          ]
        }
      ],
      "source": [
        "cols_to_check = [\n",
        "    'Crop', 'Crop_Year', 'Season', 'State', 'Area', 'Production',\n",
        "    'Annual_Rainfall', 'Fertilizer', 'Pesticide', 'Yield',\n",
        "    'Soil_Fertility', 'Pesticide_Name', 'Soil_Fertility_Num'\n",
        "]\n",
        "\n",
        "for col in cols_to_check:\n",
        "    print(col, \"→\", df[col].unique()[:10])   # show only first 10 unique values\n"
      ]
    },
    {
      "cell_type": "code",
      "execution_count": null,
      "metadata": {
        "colab": {
          "base_uri": "https://localhost:8080/"
        },
        "id": "rvQ1iLSbupcD",
        "outputId": "c59130c5-c0f7-4389-8249-a26ee5592cfa"
      },
      "outputs": [
        {
          "output_type": "stream",
          "name": "stdout",
          "text": [
            "          Crop_Year          Area    Production  Annual_Rainfall  \\\n",
            "count  19689.000000  1.968900e+04  1.968900e+04     19689.000000   \n",
            "mean    2009.127584  1.799266e+05  1.643594e+07      1437.755177   \n",
            "std        6.498099  7.328287e+05  2.630568e+08       816.909589   \n",
            "min     1997.000000  5.000000e-01  0.000000e+00       301.300000   \n",
            "25%     2004.000000  1.390000e+03  1.393000e+03       940.700000   \n",
            "50%     2010.000000  9.317000e+03  1.380400e+04      1247.600000   \n",
            "75%     2015.000000  7.511200e+04  1.227180e+05      1643.700000   \n",
            "max     2020.000000  5.080810e+07  6.326000e+09      6552.700000   \n",
            "\n",
            "         Fertilizer     Pesticide         Yield  Soil_Fertility_Num  \n",
            "count  1.968900e+04  1.968900e+04  19689.000000        19689.000000  \n",
            "mean   2.410331e+07  4.884835e+04     79.954009            1.993702  \n",
            "std    9.494600e+07  2.132874e+05    878.306193            0.816617  \n",
            "min    5.417000e+01  9.000000e-02      0.000000            1.000000  \n",
            "25%    1.880146e+05  3.567000e+02      0.600000            1.000000  \n",
            "50%    1.234957e+06  2.421900e+03      1.030000            2.000000  \n",
            "75%    1.000385e+07  2.004170e+04      2.388889            3.000000  \n",
            "max    4.835407e+09  1.575051e+07  21105.000000            3.000000  \n"
          ]
        }
      ],
      "source": [
        "print(df.describe())\n"
      ]
    },
    {
      "cell_type": "code",
      "execution_count": null,
      "metadata": {
        "colab": {
          "base_uri": "https://localhost:8080/"
        },
        "id": "IMA5gRa-uuV8",
        "outputId": "9302fb9a-f321-48ad-91d7-5e682a13355d"
      },
      "outputs": [
        {
          "output_type": "stream",
          "name": "stdout",
          "text": [
            "Rows with mismatch in Yield: 7250\n"
          ]
        }
      ],
      "source": [
        "# Compute yield from Production and Area\n",
        "df['Computed_Yield'] = df['Production'] / df['Area']\n",
        "\n",
        "# Calculate absolute difference between reported Yield and computed Yield\n",
        "df['Yield_Diff'] = (df['Yield'] - df['Computed_Yield']).abs()\n",
        "\n",
        "# Count mismatched rows (tolerance > 0.1)\n",
        "print(\"Rows with mismatch in Yield:\", (df['Yield_Diff'] > 0.1).sum())\n"
      ]
    },
    {
      "cell_type": "code",
      "execution_count": null,
      "metadata": {
        "colab": {
          "base_uri": "https://localhost:8080/"
        },
        "id": "zDXuJZ6yvMUU",
        "outputId": "a394d126-e695-4178-c9b0-1cdc24577436"
      },
      "outputs": [
        {
          "output_type": "stream",
          "name": "stdout",
          "text": [
            "           Crop  Crop_Year      Season  State     Area  Production  \\\n",
            "2   Castor Seed       1997      Kharif  Assam    796.0          22   \n",
            "3       Coconut       1997  Whole Year  Assam  19656.0   126905000   \n",
            "7          Jute       1997      Kharif  Assam  94520.0      904095   \n",
            "9         Maize       1997      Kharif  Assam  19216.0       14721   \n",
            "10        Mesta       1997      Kharif  Assam   5915.0       29003   \n",
            "\n",
            "    Annual_Rainfall  Fertilizer  Pesticide        Yield Soil_Fertility  \\\n",
            "2            2051.4    75755.32     246.76     0.238333           High   \n",
            "3            2051.4  1870661.52    6093.36  5238.051739           High   \n",
            "7            2051.4  8995468.40   29301.20     9.919565         Medium   \n",
            "9            2051.4  1828786.72    5956.96     0.615652           High   \n",
            "10           2051.4   562930.55    1833.65     4.568947           High   \n",
            "\n",
            "   Pesticide_Name  Soil_Fertility_Num  Computed_Yield   Yield_Diff  \n",
            "2    Imidacloprid                   3        0.027638     0.210695  \n",
            "3    Chlorpyrifos                   3     6456.298331  1218.246592  \n",
            "7       Malathion                   2        9.565118     0.354447  \n",
            "9        Atrazine                   3        0.766080     0.150428  \n",
            "10       Carbaryl                   3        4.903297     0.334349  \n"
          ]
        }
      ],
      "source": [
        "mismatch_rows = df[df['Yield_Diff'] > 0.1]\n",
        "print(mismatch_rows.head())\n"
      ]
    },
    {
      "cell_type": "code",
      "execution_count": null,
      "metadata": {
        "id": "gIkDUJ2gvO7Q"
      },
      "outputs": [],
      "source": [
        "# Replace mismatched Yield values with computed yield\n",
        "df.loc[df['Yield_Diff'] > 0.1, 'Yield'] = df['Production'] / df['Area']\n"
      ]
    },
    {
      "cell_type": "code",
      "execution_count": null,
      "metadata": {
        "id": "KVL2G8DYvUe9"
      },
      "outputs": [],
      "source": [
        "df = df.drop(columns=['Yield_Diff'])\n"
      ]
    },
    {
      "cell_type": "code",
      "execution_count": null,
      "metadata": {
        "colab": {
          "base_uri": "https://localhost:8080/"
        },
        "id": "wa7vKjYcvzjK",
        "outputId": "cf6119f6-5af3-41ee-c7dd-36dd275cfe1b"
      },
      "outputs": [
        {
          "output_type": "stream",
          "name": "stdout",
          "text": [
            "['Crop', 'Crop_Year', 'Season', 'State', 'Area', 'Production', 'Annual_Rainfall', 'Fertilizer', 'Pesticide', 'Yield', 'Soil_Fertility', 'Pesticide_Name', 'Soil_Fertility_Num', 'Computed_Yield']\n"
          ]
        }
      ],
      "source": [
        "print(df.columns.tolist())\n"
      ]
    },
    {
      "cell_type": "code",
      "execution_count": null,
      "metadata": {
        "id": "_p4mdHiTwFCV",
        "colab": {
          "base_uri": "https://localhost:8080/"
        },
        "outputId": "2d3efff3-5e98-43de-e8b5-fc01c3014608"
      },
      "outputs": [
        {
          "output_type": "stream",
          "name": "stdout",
          "text": [
            "X_train shape: (15751, 13)\n",
            "X_test shape: (3938, 13)\n",
            "y_train shape: (15751,)\n",
            "y_test shape: (3938,)\n"
          ]
        }
      ],
      "source": [
        "# Import necessary libraries\n",
        "import pandas as pd\n",
        "from sklearn.model_selection import train_test_split\n",
        "\n",
        "# Assuming your dataframe is named df and has the following columns:\n",
        "# ['Crop', 'Crop_Year', 'Season', 'State', 'Area', 'Production', 'Annual_Rainfall',\n",
        "#  'Fertilizer', 'Pesticide', 'Yield', 'Soil_Fertility', 'Pesticide_Name',\n",
        "#  'Soil_Fertility_Num', 'Computed_Yield']\n",
        "\n",
        "# Features (X) = all columns except 'Production' and 'Computed_Yield'\n",
        "X = df.drop(columns=['Production', 'Computed_Yield'])\n",
        "\n",
        "# Target (y) = 'Production'\n",
        "y = df['Production']\n",
        "\n",
        "# Split into training & test sets (80% train, 20% test)\n",
        "X_train, X_test, y_train, y_test = train_test_split(\n",
        "    X, y, test_size=0.2, random_state=42\n",
        ")\n",
        "\n",
        "# Optional: check shapes\n",
        "print(\"X_train shape:\", X_train.shape)\n",
        "print(\"X_test shape:\", X_test.shape)\n",
        "print(\"y_train shape:\", y_train.shape)\n",
        "print(\"y_test shape:\", y_test.shape)\n"
      ]
    },
    {
      "cell_type": "code",
      "execution_count": null,
      "metadata": {
        "id": "t5hejHqPwHpU"
      },
      "outputs": [],
      "source": [
        "X = pd.get_dummies(X, drop_first=True)\n"
      ]
    },
    {
      "cell_type": "code",
      "execution_count": null,
      "metadata": {
        "id": "wB9mcMRXwJZw"
      },
      "outputs": [],
      "source": [
        "X_train, X_test, y_train, y_test = train_test_split(\n",
        "    X, y, test_size=0.2, random_state=42\n",
        ")\n"
      ]
    },
    {
      "cell_type": "code",
      "execution_count": null,
      "metadata": {
        "colab": {
          "base_uri": "https://localhost:8080/"
        },
        "id": "JICAkosyy51J",
        "outputId": "7b357259-66f9-444d-9811-c1176f580f0a"
      },
      "outputs": [
        {
          "output_type": "stream",
          "name": "stdout",
          "text": [
            "R2 Score: 0.9924982786178589\n",
            "MSE: 570314681483264.0\n"
          ]
        }
      ],
      "source": [
        "from sklearn.preprocessing import LabelEncoder\n",
        "from sklearn.model_selection import train_test_split\n",
        "from sklearn.metrics import r2_score, mean_squared_error\n",
        "from xgboost import XGBRegressor\n",
        "\n",
        "# Copy dataframe\n",
        "df_model = df.copy()\n",
        "\n",
        "# Columns to encode\n",
        "cat_cols = ['Crop', 'Season', 'State', 'Soil_Fertility', 'Pesticide_Name']\n",
        "\n",
        "# Encode categorical columns\n",
        "le = LabelEncoder()\n",
        "for col in cat_cols:\n",
        "    df_model[col] = le.fit_transform(df_model[col].astype(str))\n",
        "\n",
        "# Features and target\n",
        "X = df_model.drop(columns=['Production', 'Computed_Yield'])\n",
        "y = df_model['Production']\n",
        "\n",
        "# Train-test split\n",
        "X_train, X_test, y_train, y_test = train_test_split(\n",
        "    X, y, test_size=0.2, random_state=42\n",
        ")\n",
        "\n",
        "# XGBoost model\n",
        "xgb = XGBRegressor(n_estimators=500, learning_rate=0.05, max_depth=6, random_state=42)\n",
        "xgb.fit(X_train, y_train)\n",
        "\n",
        "# Predictions\n",
        "y_pred = xgb.predict(X_test)\n",
        "\n",
        "# Evaluation\n",
        "print(\"R2 Score:\", r2_score(y_test, y_pred))\n",
        "print(\"MSE:\", mean_squared_error(y_test, y_pred))\n"
      ]
    },
    {
      "cell_type": "code",
      "execution_count": null,
      "metadata": {
        "colab": {
          "base_uri": "https://localhost:8080/",
          "height": 1000
        },
        "collapsed": true,
        "id": "Txl7MnG55LFs",
        "outputId": "74a634f7-90e9-4a1f-9060-a2bc7abdcb48"
      },
      "outputs": [
        {
          "output_type": "display_data",
          "data": {
            "text/plain": [
              "<Figure size 800x400 with 1 Axes>"
            ],
            "image/png": "[encoded data removed]"
          },
          "metadata": {}
        },
        {
          "output_type": "display_data",
          "data": {
            "text/plain": [
              "<Figure size 800x400 with 1 Axes>"
            ],
            "image/png": "[encoded data removed]"
          },
          "metadata": {}
        },
        {
          "output_type": "display_data",
          "data": {
            "text/plain": [
              "<Figure size 800x400 with 1 Axes>"
            ],
            "image/png": "[encoded data removed]"
          },
          "metadata": {}
        },
        {
          "output_type": "display_data",
          "data": {
            "text/plain": [
              "<Figure size 800x400 with 1 Axes>"
            ],
            "image/png": "[encoded data removed]"
          },
          "metadata": {}
        },
        {
          "output_type": "display_data",
          "data": {
            "text/plain": [
              "<Figure size 800x400 with 1 Axes>"
            ],
            "image/png": "[encoded data removed]"
          },
          "metadata": {}
        },
        {
          "output_type": "display_data",
          "data": {
            "text/plain": [
              "<Figure size 800x400 with 1 Axes>"
            ],
            "image/png": "[encoded data removed]"
          },
          "metadata": {}
        },
        {
          "output_type": "display_data",
          "data": {
            "text/plain": [
              "<Figure size 800x400 with 1 Axes>"
            ],
            "image/png": "[encoded data removed]"
          },
          "metadata": {}
        },
        {
          "output_type": "display_data",
          "data": {
            "text/plain": [
              "<Figure size 800x400 with 1 Axes>"
            ],
            "image/png": "[encoded data removed]"
          },
          "metadata": {}
        }
      ],
      "source": [
        "import pandas as pd\n",
        "import matplotlib.pyplot as plt\n",
        "\n",
        "# Define numeric and categorical columns\n",
        "numeric_cols = ['Crop_Year', 'Area', 'Production', 'Annual_Rainfall',\n",
        "                'Fertilizer', 'Pesticide', 'Soil_Fertility_Num',\n",
        "                'Computed_Yield']\n",
        "\n",
        "categorical_cols = ['Crop', 'Season', 'State', 'Soil_Fertility', 'Pesticide_Name']\n",
        "\n",
        "# Plot boxplots for numeric columns\n",
        "for col in numeric_cols:\n",
        "    plt.figure(figsize=(8, 4))\n",
        "    plt.boxplot(df[col].dropna())  # drop NaN values\n",
        "    plt.title(f'Boxplot of {col}')\n",
        "    plt.ylabel(col)\n",
        "    plt.show()\n"
      ]
    },
    {
      "cell_type": "code",
      "source": [
        "import pandas as pd\n",
        "import numpy as np\n",
        "from sklearn.model_selection import train_test_split\n",
        "from sklearn.preprocessing import LabelEncoder\n",
        "from sklearn.ensemble import RandomForestRegressor\n",
        "from sklearn.metrics import r2_score, mean_squared_error, mean_absolute_error\n",
        "\n",
        "# --- Step 1: Select relevant columns ---\n",
        "features = [\"Area\", \"Crop\", \"Season\", \"Soil_Fertility\"]\n",
        "target = \"Yield\"\n",
        "\n",
        "df_model = df[features + [target]].dropna()\n",
        "\n",
        "# --- Step 2: Encode categorical columns ---\n",
        "encoder = LabelEncoder()\n",
        "\n",
        "df_model[\"Crop\"] = encoder.fit_transform(df_model[\"Crop\"])\n",
        "df_model[\"Season\"] = encoder.fit_transform(df_model[\"Season\"])\n",
        "df_model[\"Soil_Fertility\"] = encoder.fit_transform(df_model[\"Soil_Fertility\"])\n",
        "\n",
        "# --- Step 3: Split data ---\n",
        "X = df_model[features]\n",
        "y = df_model[target]\n",
        "\n",
        "X_train, X_test, y_train, y_test = train_test_split(\n",
        "    X, y, test_size=0.2, random_state=42\n",
        ")\n",
        "\n",
        "# --- Step 4: Train Random Forest Regressor ---\n",
        "model = RandomForestRegressor(\n",
        "    n_estimators=300,\n",
        "    max_depth=15,\n",
        "    random_state=42\n",
        ")\n",
        "model.fit(X_train, y_train)\n",
        "\n",
        "# --- Step 5: Predictions ---\n",
        "y_pred = model.predict(X_test)\n",
        "\n",
        "# --- Step 6: Evaluation ---\n",
        "r2 = r2_score(y_test, y_pred)\n",
        "rmse = np.sqrt(mean_squared_error(y_test, y_pred))\n",
        "mae = mean_absolute_error(y_test, y_pred)\n",
        "\n",
        "print(\"✅ Yield Prediction (using Area, Crop, Season, Soil Fertility)\")\n",
        "print(\"R² Score:\", r2)\n",
        "print(\"RMSE:\", rmse)\n",
        "print(\"MAE:\", mae)\n",
        "\n",
        "# --- Step 7: Show some predictions from test dataset ---\n",
        "sample_results = X_test.copy()\n",
        "sample_results[\"Actual_Yield\"] = y_test.values\n",
        "sample_results[\"Predicted_Yield\"] = y_pred\n",
        "\n",
        "print(\"\\n🔹 Sample predictions from test data (first 15 rows):\")\n",
        "print(sample_results.head(15))\n"
      ],
      "metadata": {
        "colab": {
          "base_uri": "https://localhost:8080/"
        },
        "id": "4yL3CkOVb5GY",
        "outputId": "6a9da987-4f96-47dc-f574-515b867862a4"
      },
      "execution_count": 91,
      "outputs": [
        {
          "output_type": "stream",
          "name": "stdout",
          "text": [
            "✅ Yield Prediction (using Area, Crop, Season, Soil Fertility)\n",
            "R² Score: 0.9454978628595013\n",
            "RMSE: 221.25502273987775\n",
            "MAE: 15.486722193169895\n",
            "\n",
            "🔹 Sample predictions from test data (first 15 rows):\n",
            "            Area  Crop  Season  Soil_Fertility  Actual_Yield  Predicted_Yield\n",
            "18238     210.00    37       1               2      4.809524         1.529097\n",
            "6918     8270.00    24       2               0      1.243047         2.357363\n",
            "4894     6341.00    38       5               1      6.943069         8.567313\n",
            "10960   29768.73    39       0               2      0.913341         0.854687\n",
            "15615    8950.00     8       1               0      0.508000         0.407592\n",
            "17454     361.00    23       2               0      0.358000         0.503125\n",
            "10480    9001.00    19       1               0      0.749091         0.591369\n",
            "16231    5944.00    24       2               1      1.835789         2.358807\n",
            "326     26949.00    47       4               1     74.284760        38.324558\n",
            "2498       21.00    39       1               0      2.476190         2.339121\n",
            "16272   64696.00    37       2               1      0.770800         1.220421\n",
            "19308    2874.00    24       3               1      2.259916         2.384103\n",
            "19219    5987.00    17       5               0      0.940000         1.109221\n",
            "1052   712766.00    41       2               2      3.188666         4.281221\n",
            "11750     730.00    17       1               1      1.008000         1.148178\n"
          ]
        }
      ]
    },
    {
      "cell_type": "code",
      "source": [
        "import pandas as pd\n",
        "\n",
        "# Example input for a crop in Assam\n",
        "# You need to fill realistic values for numeric features\n",
        "new_data = {\n",
        "    'Crop_Year': [2025],\n",
        "    'Area': [200],                # in hectares\n",
        "    'Annual_Rainfall': [2000],   # mm\n",
        "    'Fertilizer': [900],         # kg/ha or your unit\n",
        "    'Pesticide': [10],           # kg/ha or your unit\n",
        "    'Soil_Fertility_Num': [80],  # numerical fertility score\n",
        "    'Crop': ['Rice'],\n",
        "    'Season': ['Kharif'],\n",
        "    'State': ['Assam'],\n",
        "    'Soil_Fertility': ['High'],\n",
        "    'Pesticide_Name': ['None']   # or actual pesticide name\n",
        "}\n",
        "\n",
        "# Convert to DataFrame\n",
        "df_new = pd.DataFrame(new_data)\n",
        "\n",
        "# One-hot encode categorical columns (must match training)\n",
        "categorical_cols = ['Crop', 'Season', 'State', 'Soil_Fertility', 'Pesticide_Name']\n",
        "df_new_encoded = pd.get_dummies(df_new, columns=categorical_cols, drop_first=True)\n",
        "\n",
        "# Align new data with training features\n",
        "df_new_encoded = df_new_encoded.reindex(columns=X.columns, fill_value=0)\n",
        "\n",
        "# Predict Yield\n",
        "predicted_yield = xgb.predict(df_new_encoded)\n",
        "print(f\"Predicted Yield for {new_data['Crop'][0]} in Assam: {predicted_yield[0]:.2f} tonnes/ha\")\n"
      ],
      "metadata": {
        "colab": {
          "base_uri": "https://localhost:8080/"
        },
        "id": "VTsPpD-_KiNL",
        "outputId": "209da98e-2990-4882-ebd0-fe37968d3234"
      },
      "execution_count": null,
      "outputs": [
        {
          "output_type": "stream",
          "name": "stdout",
          "text": [
            "Predicted Yield for Rice in Assam: 370.51 tonnes/ha\n"
          ]
        }
      ]
    },
    {
      "cell_type": "code",
      "execution_count": null,
      "metadata": {
        "colab": {
          "base_uri": "https://localhost:8080/"
        },
        "id": "j8KxRkOTBHc3",
        "outputId": "890b89ec-7ee8-4aa8-aa19-2cb86326b55d"
      },
      "outputs": [
        {
          "output_type": "stream",
          "name": "stdout",
          "text": [
            "['Crop', 'Crop_Year', 'Season', 'State', 'Area', 'Production', 'Annual_Rainfall', 'Fertilizer', 'Pesticide', 'Yield', 'Soil_Fertility', 'Pesticide_Name', 'Soil_Fertility_Num', 'Computed_Yield', 'Predicted_Yield']\n"
          ]
        }
      ],
      "source": [
        "print(df.columns.tolist())\n"
      ]
    },
    {
      "cell_type": "markdown",
      "metadata": {
        "id": "9a367a23"
      },
      "source": [
        "# Task\n",
        "Predict yield based on other parameters using the dataset in \"/content/mmmmmm.png\"."
      ]
    },
    {
      "cell_type": "markdown",
      "metadata": {
        "id": "68798ecd"
      },
      "source": [
        "## Prepare data for modeling\n",
        "\n",
        "### Subtask:\n",
        "Select the features (input variables) and the target variable (yield) for the model.\n"
      ]
    },
    {
      "cell_type": "markdown",
      "metadata": {
        "id": "f340f7aa"
      },
      "source": [
        "**Reasoning**:\n",
        "Define the features X and the target variable y by dropping the specified columns from the dataframe.\n",
        "\n"
      ]
    },
    {
      "cell_type": "code",
      "execution_count": null,
      "metadata": {
        "id": "00062da9"
      },
      "outputs": [],
      "source": [
        "X = df.drop(columns=['Production', 'Yield'])\n",
        "\n",
        "# Target = Yield\n",
        "y = df['Yield']"
      ]
    },
    {
      "cell_type": "markdown",
      "metadata": {
        "id": "a6a66d9a"
      },
      "source": [
        "## Encode categorical features\n",
        "\n",
        "### Subtask:\n",
        "Convert categorical features into a numerical format using one-hot encoding."
      ]
    },
    {
      "cell_type": "markdown",
      "metadata": {
        "id": "e22bc5f9"
      },
      "source": [
        "**Reasoning**:\n",
        "Use `pd.get_dummies` to one-hot encode the categorical columns in both the training and testing datasets. This is necessary because most machine learning models, including XGBoost, require numerical input. `drop_first=True` is used to avoid multicollinearity."
      ]
    },
    {
      "cell_type": "code",
      "execution_count": null,
      "metadata": {
        "colab": {
          "base_uri": "https://localhost:8080/"
        },
        "id": "4c013804",
        "outputId": "4d69aebe-db84-4669-ebeb-a2cc185d9b8e"
      },
      "outputs": [
        {
          "output_type": "stream",
          "name": "stdout",
          "text": [
            "Shape of X_train after encoding and alignment: (15751, 4)\n",
            "Shape of X_test after encoding and alignment: (3938, 4)\n"
          ]
        }
      ],
      "source": [
        "X_train = pd.get_dummies(X_train, drop_first=True)\n",
        "X_test = pd.get_dummies(X_test, drop_first=True)\n",
        "\n",
        "# Align columns - crucial for consistent feature sets\n",
        "train_cols = X_train.columns\n",
        "test_cols = X_test.columns\n",
        "\n",
        "missing_in_test = set(train_cols) - set(test_cols)\n",
        "for c in missing_in_test:\n",
        "    X_test[c] = 0\n",
        "\n",
        "missing_in_train = set(test_cols) - set(train_cols)\n",
        "for c in missing_in_train:\n",
        "    X_train[c] = 0\n",
        "\n",
        "X_test = X_test[train_cols] # Ensure the order is the same\n",
        "\n",
        "print(\"Shape of X_train after encoding and alignment:\", X_train.shape)\n",
        "print(\"Shape of X_test after encoding and alignment:\", X_test.shape)"
      ]
    },
    {
      "cell_type": "markdown",
      "metadata": {
        "id": "bb86cdd6"
      },
      "source": [
        "## Train a model\n",
        "\n",
        "### Subtask:\n",
        "Train a suitable regression model on the training data."
      ]
    },
    {
      "cell_type": "markdown",
      "metadata": {
        "id": "acc3fe45"
      },
      "source": [
        "**Reasoning**:\n",
        "Use `XGBRegressor` from `xgboost` to train a regression model on the training data (`X_train`, `y_train`). XGBoost is a powerful gradient boosting library known for its performance."
      ]
    },
    {
      "cell_type": "code",
      "execution_count": null,
      "metadata": {
        "colab": {
          "base_uri": "https://localhost:8080/"
        },
        "id": "41add196",
        "outputId": "a913a0cf-e291-46f7-807e-199d8774d32f"
      },
      "outputs": [
        {
          "output_type": "stream",
          "name": "stdout",
          "text": [
            "R2 Score: 0.8399159584853886\n",
            "MSE: 143787.38477837303\n"
          ]
        }
      ],
      "source": [
        "from xgboost import XGBRegressor\n",
        "from sklearn.metrics import r2_score, mean_squared_error\n",
        "from sklearn.model_selection import train_test_split\n",
        "from sklearn.preprocessing import LabelEncoder\n",
        "\n",
        "# Prepare data\n",
        "features, target = [\"Area\", \"Production\", \"Season\", \"Soil_Fertility\"], \"Yield\"\n",
        "df_model = df[features + [target]].dropna()\n",
        "le = LabelEncoder()\n",
        "df_model[\"Season\"] = le.fit_transform(df_model[\"Season\"])\n",
        "df_model[\"Soil_Fertility\"] = le.fit_transform(df_model[\"Soil_Fertility\"])\n",
        "\n",
        "X, y = df_model[features], df_model[target]\n",
        "X_train, X_test, y_train, y_test = train_test_split(X, y, test_size=0.2, random_state=42)\n",
        "\n",
        "# Train & predict\n",
        "model = XGBRegressor(n_estimators=500, learning_rate=0.05, max_depth=6, random_state=42)\n",
        "model.fit(X_train, y_train)\n",
        "y_pred = model.predict(X_test)\n",
        "\n",
        "# Evaluate\n",
        "print(\"R2 Score:\", r2_score(y_test, y_pred))\n",
        "print(\"MSE:\", mean_squared_error(y_test, y_pred))\n"
      ]
    },
    {
      "cell_type": "markdown",
      "metadata": {
        "id": "603ba927"
      },
      "source": [
        "## Finish task\n",
        "\n",
        "### Subtask:\n",
        "Summarize the findings and the model's performance."
      ]
    },
    {
      "cell_type": "markdown",
      "metadata": {
        "id": "126839d0"
      },
      "source": [
        "**Summary**:\n",
        "We loaded the dataset, performed data cleaning and preprocessing, including handling missing values, removing duplicates, and encoding categorical features. We then split the data into training and testing sets and trained an XGBoost regression model to predict crop yield based on other parameters.\n",
        "\n",
        "The model achieved an R2 score of {{r2_score(y_test, y_pred)}} and a Mean Squared Error (MSE) of {{mean_squared_error(y_test, y_pred)}} on the test set. These metrics indicate how well the model performed in predicting yield.\n",
        "\n",
        "The sample predictions show that the model can provide estimates of yield based on the input features. Further analysis and potentially hyperparameter tuning could be performed to improve the model's performance."
      ]
    },
    {
      "cell_type": "markdown",
      "metadata": {
        "id": "ecdef7e6"
      },
      "source": [
        "## Predict yield\n",
        "\n",
        "### Subtask:\n",
        "Use the trained model to predict yield on new or unseen data."
      ]
    },
    {
      "cell_type": "markdown",
      "metadata": {
        "id": "660af7ca"
      },
      "source": [
        "**Reasoning**:\n",
        "Use the `predict` method of the trained XGBoost model to generate yield predictions for the test set (`X_test`)."
      ]
    },
    {
      "cell_type": "markdown",
      "metadata": {
        "id": "b48be198"
      },
      "source": [
        "## Split data\n",
        "\n",
        "### Subtask:\n",
        "Split the dataset into training and testing sets using `train_test_split`."
      ]
    },
    {
      "cell_type": "markdown",
      "metadata": {
        "id": "810c0d3d"
      },
      "source": [
        "**Reasoning**:\n",
        "Split the data into training (80%) and testing (20%) sets using `train_test_split` from `sklearn.model_selection`."
      ]
    },
    {
      "cell_type": "code",
      "execution_count": null,
      "metadata": {
        "colab": {
          "base_uri": "https://localhost:8080/"
        },
        "id": "d376e70e",
        "outputId": "8b3ebf53-9dbd-4143-e376-205ea2753cdc"
      },
      "outputs": [
        {
          "output_type": "stream",
          "name": "stdout",
          "text": [
            "Shape of X_train: (15751, 4)\n",
            "Shape of X_test: (3938, 4)\n",
            "Shape of y_train: (15751,)\n",
            "Shape of y_test: (3938,)\n"
          ]
        }
      ],
      "source": [
        "from sklearn.model_selection import train_test_split\n",
        "\n",
        "X_train, X_test, y_train, y_test = train_test_split(\n",
        "    X, y, test_size=0.2, random_state=42\n",
        ")\n",
        "\n",
        "print(\"Shape of X_train:\", X_train.shape)\n",
        "print(\"Shape of X_test:\", X_test.shape)\n",
        "print(\"Shape of y_train:\", y_train.shape)\n",
        "print(\"Shape of y_test:\", y_test.shape)"
      ]
    },
    {
      "cell_type": "markdown",
      "metadata": {
        "id": "89a1f23a"
      },
      "source": [
        "**Reasoning**:\n",
        "The previous command failed because the specified columns were not found in the DataFrame. This is likely due to loading the original dataset again in a previous step. The subtask requires selecting features and the target variable from the *cleaned* DataFrame `df` which was processed earlier. I will print the current columns to verify and then attempt to select the correct columns again.\n",
        "\n"
      ]
    }
  ],
  "metadata": {
    "colab": {
      "provenance": [],
      "authorship_tag": "ABX9TyMm3NQpj9NfXcKOXExXMuTV",
      "include_colab_link": true
    },
    "kernelspec": {
      "display_name": "Python 3",
      "name": "python3"
    },
    "language_info": {
      "name": "python"
    }
  },
  "nbformat": 4,
  "nbformat_minor": 0
}
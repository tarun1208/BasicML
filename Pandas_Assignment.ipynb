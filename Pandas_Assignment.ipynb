{
  "nbformat": 4,
  "nbformat_minor": 0,
  "metadata": {
    "colab": {
      "provenance": [],
      "authorship_tag": "ABX9TyPPJpavwFeaw6wyogI7PYP0",
      "include_colab_link": true
    },
    "kernelspec": {
      "name": "python3",
      "display_name": "Python 3"
    },
    "language_info": {
      "name": "python"
    }
  },
  "cells": [
    {
      "cell_type": "markdown",
      "metadata": {
        "id": "view-in-github",
        "colab_type": "text"
      },
      "source": [
        "<a href=\"https://colab.research.google.com/github/tarun1208/BasicML/blob/main/Pandas_Assignment.ipynb\" target=\"_parent\"><img src=\"https://colab.research.google.com/assets/colab-badge.svg\" alt=\"Open In Colab\"/></a>"
      ]
    },
    {
      "cell_type": "code",
      "source": [
        "import numpy as np\n",
        "import pandas as pd"
      ],
      "metadata": {
        "id": "pRFUL-MZRF59"
      },
      "execution_count": 2,
      "outputs": []
    },
    {
      "cell_type": "markdown",
      "source": [
        "Q1. Create a Pandas DataFrame from the following dictionary:\n",
        "\n",
        "data = {\n",
        "\n",
        "'Name': ['Alice', 'Bob', 'Carol'],\n",
        "\n",
        "'Age': [24, 27, 22],\n",
        "\n",
        "'Salary': [50000, 55000, 48000]\n",
        "\n",
        "}\n",
        "\n",
        "• Add a new column called Bonus which is 10% of the salary."
      ],
      "metadata": {
        "id": "D4zt4RZ7QLKZ"
      }
    },
    {
      "cell_type": "code",
      "execution_count": 4,
      "metadata": {
        "colab": {
          "base_uri": "https://localhost:8080/"
        },
        "id": "EYrOkhMxPsBZ",
        "outputId": "2eff3574-a385-46e9-fe98-3972c94d4cde"
      },
      "outputs": [
        {
          "output_type": "stream",
          "name": "stdout",
          "text": [
            "    Name  Age  Salary   Bonus\n",
            "0  Alice   24   50000  5000.0\n",
            "1    Bob   27   55000  5500.0\n",
            "2  Carol   22   48000  4800.0\n"
          ]
        }
      ],
      "source": [
        "data = {\n",
        "\n",
        "'Name': ['Alice', 'Bob', 'Carol'],\n",
        "\n",
        "'Age': [24, 27, 22],\n",
        "\n",
        "'Salary': [50000, 55000, 48000]\n",
        "\n",
        "}\n",
        "\n",
        "a=pd.DataFrame(data)\n",
        "a['Bonus']=a['Salary']*0.1\n",
        "print(a)"
      ]
    },
    {
      "cell_type": "markdown",
      "source": [
        "Q2. Given the DataFrame created in the above question:\n",
        "\n",
        "• Display the first two rows.\n",
        "\n",
        "• Compute the mean salary."
      ],
      "metadata": {
        "id": "b5NCSX4RRhHb"
      }
    },
    {
      "cell_type": "code",
      "source": [
        "# Display the first two rows.\n",
        "df=a.iloc[:2,:]\n",
        "print(df)\n",
        "\n",
        "print('--------------------------------------')\n",
        "\n",
        "#Compute the mean salary\n",
        "df1=a['Salary'].mean()\n",
        "print(df1)"
      ],
      "metadata": {
        "colab": {
          "base_uri": "https://localhost:8080/"
        },
        "id": "g7FbDh6lRq9W",
        "outputId": "20f3b009-8c7b-4155-9f8e-7d7fe648c7f7"
      },
      "execution_count": 9,
      "outputs": [
        {
          "output_type": "stream",
          "name": "stdout",
          "text": [
            "    Name  Age  Salary   Bonus\n",
            "0  Alice   24   50000  5000.0\n",
            "1    Bob   27   55000  5500.0\n",
            "--------------------------------------\n",
            "51000.0\n"
          ]
        }
      ]
    },
    {
      "cell_type": "markdown",
      "source": [
        "Q3. Using the same DataFrame:\n",
        "\n",
        "• Extract all rows where the Age is greater than 25.\n",
        "\n",
        "• Filter out rows where the Salary is less than 50000."
      ],
      "metadata": {
        "id": "5OkNAHmXS8iX"
      }
    },
    {
      "cell_type": "code",
      "source": [
        "# Extract all rows where the Age is greater than 25.\n",
        "b=a[a['Age']>25]\n",
        "print(b)\n",
        "\n",
        "print('--------------------------------------')\n",
        "\n",
        "#Filter out rows where the Salary is less than 50000.\n",
        "c=a[a['Salary']<50000]\n",
        "print(c)"
      ],
      "metadata": {
        "colab": {
          "base_uri": "https://localhost:8080/"
        },
        "id": "NO7ggDtXTC3I",
        "outputId": "de012e7c-07e1-463c-e871-0fd6473a9c62"
      },
      "execution_count": 11,
      "outputs": [
        {
          "output_type": "stream",
          "name": "stdout",
          "text": [
            "  Name  Age  Salary   Bonus\n",
            "1  Bob   27   55000  5500.0\n",
            "--------------------------------------\n",
            "    Name  Age  Salary   Bonus\n",
            "2  Carol   22   48000  4800.0\n"
          ]
        }
      ]
    },
    {
      "cell_type": "markdown",
      "source": [
        "Q4. Create the following DataFrame:\n",
        "\n",
        "data = {\n",
        "\n",
        "'A': [1, 2, None, 4],\n",
        "\n",
        "'B': [None, 2, 3, None],\n",
        "\n",
        "'C': [1, 2, 3, 4]\n",
        "\n",
        "}\n",
        "\n",
        "df = pd.DataFrame(data)\n",
        "\n",
        "• Fill missing values in column A with the mean of the column.\n",
        "\n",
        "• Drop rows where all values are None."
      ],
      "metadata": {
        "id": "UTR_5asbUFoZ"
      }
    },
    {
      "cell_type": "code",
      "source": [
        "data = {\n",
        "    'A': [1, 2, None, 4],\n",
        "    'B': [None, 2, 3, None],\n",
        "    'C': [1, 2, 3, 4]\n",
        "}\n",
        "\n",
        "df=pd.DataFrame(data)\n",
        "print(df)\n",
        "\n",
        "print('--------------------------------------')\n",
        "\n",
        " #Fill missing values in column A with the mean of the column.\n",
        "b=df['A'].mean()\n",
        "print(b)\n",
        "df['A'].fillna(b,inplace=True)\n",
        "print(df)\n",
        "\n",
        "print('--------------------------------------')\n",
        "\n",
        "#Drop rows where all values are None.\n",
        "df.dropna(how='all',inplace=True)\n",
        "print(df)"
      ],
      "metadata": {
        "colab": {
          "base_uri": "https://localhost:8080/"
        },
        "id": "mr19rQL-UFU_",
        "outputId": "90d7357c-1040-4fd7-9471-c91f34fd322d"
      },
      "execution_count": 16,
      "outputs": [
        {
          "output_type": "stream",
          "name": "stdout",
          "text": [
            "     A    B  C\n",
            "0  1.0  NaN  1\n",
            "1  2.0  2.0  2\n",
            "2  NaN  3.0  3\n",
            "3  4.0  NaN  4\n",
            "--------------------------------------\n",
            "2.3333333333333335\n",
            "          A    B  C\n",
            "0  1.000000  NaN  1\n",
            "1  2.000000  2.0  2\n",
            "2  2.333333  3.0  3\n",
            "3  4.000000  NaN  4\n",
            "--------------------------------------\n",
            "          A    B  C\n",
            "0  1.000000  NaN  1\n",
            "1  2.000000  2.0  2\n",
            "2  2.333333  3.0  3\n",
            "3  4.000000  NaN  4\n"
          ]
        },
        {
          "output_type": "stream",
          "name": "stderr",
          "text": [
            "<ipython-input-16-563f5347f2b9>:15: FutureWarning: A value is trying to be set on a copy of a DataFrame or Series through chained assignment using an inplace method.\n",
            "The behavior will change in pandas 3.0. This inplace method will never work because the intermediate object on which we are setting values always behaves as a copy.\n",
            "\n",
            "For example, when doing 'df[col].method(value, inplace=True)', try using 'df.method({col: value}, inplace=True)' or df[col] = df[col].method(value) instead, to perform the operation inplace on the original object.\n",
            "\n",
            "\n",
            "  df['A'].fillna(b,inplace=True)\n"
          ]
        }
      ]
    },
    {
      "cell_type": "markdown",
      "source": [
        "5. Create a DataFrame for employees:\n",
        "\n",
        "data = {\n",
        "\n",
        "'Department': ['HR', 'HR', 'IT', 'IT', 'Finance'],\n",
        "\n",
        "'Employee': ['Alice', 'Bob', 'Carol', 'David', 'Eve'],\n",
        "\n",
        "'Salary': [50000, 45000, 60000, 65000, 70000]\n",
        "\n",
        "}\n",
        "\n",
        "• Group the data by Department and compute the total and mean salary for each\n",
        "department."
      ],
      "metadata": {
        "id": "be_GpHIpYNNx"
      }
    },
    {
      "cell_type": "code",
      "source": [
        "data = {\n",
        "    'Department': ['HR', 'HR', 'IT', 'IT', 'Finance'],\n",
        "    'Employee': ['Alice', 'Bob', 'Carol', 'David', 'Eve'],\n",
        "    'Salary': [50000, 45000, 60000, 65000, 70000]\n",
        "}\n",
        "\n",
        "a=pd.DataFrame(data)\n",
        "\n",
        "b=a.groupby('Department')\n",
        "print(b['Salary'].sum())\n",
        "\n",
        "print('--------------------------------------')\n",
        "\n",
        "print(b['Salary'].mean())"
      ],
      "metadata": {
        "colab": {
          "base_uri": "https://localhost:8080/"
        },
        "id": "iAVufHQEYWUs",
        "outputId": "0f558b05-93ab-4b0e-9061-7178476a1bd2"
      },
      "execution_count": 20,
      "outputs": [
        {
          "output_type": "stream",
          "name": "stdout",
          "text": [
            "Department\n",
            "Finance     70000\n",
            "HR          95000\n",
            "IT         125000\n",
            "Name: Salary, dtype: int64\n",
            "--------------------------------------\n",
            "Department\n",
            "Finance    70000.0\n",
            "HR         47500.0\n",
            "IT         62500.0\n",
            "Name: Salary, dtype: float64\n"
          ]
        }
      ]
    },
    {
      "cell_type": "markdown",
      "source": [
        "6. Given two DataFrames:\n",
        "\n",
        "df1 = pd.DataFrame({'ID': [1, 2, 3], 'Name': ['Alice', 'Bob', 'Carol']})\n",
        "\n",
        "df2 = pd.DataFrame({'ID': [2, 3, 4], 'Age': [25, 30, 22]})\n",
        "\n",
        "• Perform an inner join on the ID column."
      ],
      "metadata": {
        "id": "SpLuE-zIZ9_w"
      }
    },
    {
      "cell_type": "code",
      "source": [
        "df1 = pd.DataFrame({'ID': [1, 2, 3], 'Name': ['Alice', 'Bob', 'Carol']})\n",
        "\n",
        "df2 = pd.DataFrame({'ID': [2, 3, 4], 'Age': [25, 30, 22]})\n",
        "\n",
        "a=pd.merge(df1,df2,on='ID',how='inner')\n",
        "print(a)"
      ],
      "metadata": {
        "colab": {
          "base_uri": "https://localhost:8080/"
        },
        "id": "mgKdytEYaFGD",
        "outputId": "241e833c-83c0-4b0d-924f-f01064f53990"
      },
      "execution_count": 21,
      "outputs": [
        {
          "output_type": "stream",
          "name": "stdout",
          "text": [
            "   ID   Name  Age\n",
            "0   2    Bob   25\n",
            "1   3  Carol   30\n"
          ]
        }
      ]
    },
    {
      "cell_type": "markdown",
      "source": [
        "Q7. Given a small dataset, clean and display basic statistics using Pandas."
      ],
      "metadata": {
        "id": "akmStlSxajh_"
      }
    },
    {
      "cell_type": "code",
      "source": [],
      "metadata": {
        "id": "9OwRvogMan7U"
      },
      "execution_count": null,
      "outputs": []
    }
  ]
}
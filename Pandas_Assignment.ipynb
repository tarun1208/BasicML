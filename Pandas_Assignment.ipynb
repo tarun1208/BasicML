{
  "nbformat": 4,
  "nbformat_minor": 0,
  "metadata": {
    "colab": {
      "provenance": [],
      "mount_file_id": "14OZRhQCoqyWYUwIZQsAhpDUz2zsF2_YO",
      "authorship_tag": "ABX9TyPaNHYaAdR8VhHf/tVHMQV+",
      "include_colab_link": true
    },
    "kernelspec": {
      "name": "python3",
      "display_name": "Python 3"
    },
    "language_info": {
      "name": "python"
    }
  },
  "cells": [
    {
      "cell_type": "markdown",
      "metadata": {
        "id": "view-in-github",
        "colab_type": "text"
      },
      "source": [
        "<a href=\"https://colab.research.google.com/github/tarun1208/BasicML/blob/main/Pandas_Assignment.ipynb\" target=\"_parent\"><img src=\"https://colab.research.google.com/assets/colab-badge.svg\" alt=\"Open In Colab\"/></a>"
      ]
    },
    {
      "cell_type": "code",
      "source": [
        "import numpy as np\n",
        "import pandas as pd"
      ],
      "metadata": {
        "id": "pRFUL-MZRF59"
      },
      "execution_count": null,
      "outputs": []
    },
    {
      "cell_type": "code",
      "source": [
        "from google.colab import drive\n",
        "drive.mount('/content/drive')"
      ],
      "metadata": {
        "colab": {
          "base_uri": "https://localhost:8080/"
        },
        "id": "IqSgewznwCQ2",
        "outputId": "44a00179-53a4-4f95-a476-9ee6f3600d16"
      },
      "execution_count": null,
      "outputs": [
        {
          "output_type": "stream",
          "name": "stdout",
          "text": [
            "Mounted at /content/drive\n"
          ]
        }
      ]
    },
    {
      "cell_type": "markdown",
      "source": [
        "Q1. Create a Pandas DataFrame from the following dictionary:\n",
        "\n",
        "data = {\n",
        "\n",
        "'Name': ['Alice', 'Bob', 'Carol'],\n",
        "\n",
        "'Age': [24, 27, 22],\n",
        "\n",
        "'Salary': [50000, 55000, 48000]\n",
        "\n",
        "}\n",
        "\n",
        "• Add a new column called Bonus which is 10% of the salary."
      ],
      "metadata": {
        "id": "D4zt4RZ7QLKZ"
      }
    },
    {
      "cell_type": "code",
      "execution_count": null,
      "metadata": {
        "colab": {
          "base_uri": "https://localhost:8080/"
        },
        "id": "EYrOkhMxPsBZ",
        "outputId": "2eff3574-a385-46e9-fe98-3972c94d4cde"
      },
      "outputs": [
        {
          "output_type": "stream",
          "name": "stdout",
          "text": [
            "    Name  Age  Salary   Bonus\n",
            "0  Alice   24   50000  5000.0\n",
            "1    Bob   27   55000  5500.0\n",
            "2  Carol   22   48000  4800.0\n"
          ]
        }
      ],
      "source": [
        "data = {\n",
        "\n",
        "'Name': ['Alice', 'Bob', 'Carol'],\n",
        "\n",
        "'Age': [24, 27, 22],\n",
        "\n",
        "'Salary': [50000, 55000, 48000]\n",
        "\n",
        "}\n",
        "\n",
        "a=pd.DataFrame(data)\n",
        "a['Bonus']=a['Salary']*0.1\n",
        "print(a)"
      ]
    },
    {
      "cell_type": "markdown",
      "source": [
        "Q2. Given the DataFrame created in the above question:\n",
        "\n",
        "• Display the first two rows.\n",
        "\n",
        "• Compute the mean salary."
      ],
      "metadata": {
        "id": "b5NCSX4RRhHb"
      }
    },
    {
      "cell_type": "code",
      "source": [
        "# Display the first two rows.\n",
        "df=a.iloc[:2,:]\n",
        "print(df)\n",
        "\n",
        "print('--------------------------------------')\n",
        "\n",
        "#Compute the mean salary\n",
        "df1=a['Salary'].mean()\n",
        "print(df1)"
      ],
      "metadata": {
        "colab": {
          "base_uri": "https://localhost:8080/"
        },
        "id": "g7FbDh6lRq9W",
        "outputId": "20f3b009-8c7b-4155-9f8e-7d7fe648c7f7"
      },
      "execution_count": null,
      "outputs": [
        {
          "output_type": "stream",
          "name": "stdout",
          "text": [
            "    Name  Age  Salary   Bonus\n",
            "0  Alice   24   50000  5000.0\n",
            "1    Bob   27   55000  5500.0\n",
            "--------------------------------------\n",
            "51000.0\n"
          ]
        }
      ]
    },
    {
      "cell_type": "markdown",
      "source": [
        "Q3. Using the same DataFrame:\n",
        "\n",
        "• Extract all rows where the Age is greater than 25.\n",
        "\n",
        "• Filter out rows where the Salary is less than 50000."
      ],
      "metadata": {
        "id": "5OkNAHmXS8iX"
      }
    },
    {
      "cell_type": "code",
      "source": [
        "# Extract all rows where the Age is greater than 25.\n",
        "b=a[a['Age']>25]\n",
        "print(b)\n",
        "\n",
        "print('--------------------------------------')\n",
        "\n",
        "#Filter out rows where the Salary is less than 50000.\n",
        "c=a[a['Salary']<50000]\n",
        "print(c)"
      ],
      "metadata": {
        "colab": {
          "base_uri": "https://localhost:8080/"
        },
        "id": "NO7ggDtXTC3I",
        "outputId": "de012e7c-07e1-463c-e871-0fd6473a9c62"
      },
      "execution_count": null,
      "outputs": [
        {
          "output_type": "stream",
          "name": "stdout",
          "text": [
            "  Name  Age  Salary   Bonus\n",
            "1  Bob   27   55000  5500.0\n",
            "--------------------------------------\n",
            "    Name  Age  Salary   Bonus\n",
            "2  Carol   22   48000  4800.0\n"
          ]
        }
      ]
    },
    {
      "cell_type": "markdown",
      "source": [
        "Q4. Create the following DataFrame:\n",
        "\n",
        "data = {\n",
        "\n",
        "'A': [1, 2, None, 4],\n",
        "\n",
        "'B': [None, 2, 3, None],\n",
        "\n",
        "'C': [1, 2, 3, 4]\n",
        "\n",
        "}\n",
        "\n",
        "df = pd.DataFrame(data)\n",
        "\n",
        "• Fill missing values in column A with the mean of the column.\n",
        "\n",
        "• Drop rows where all values are None."
      ],
      "metadata": {
        "id": "UTR_5asbUFoZ"
      }
    },
    {
      "cell_type": "code",
      "source": [
        "data = {\n",
        "    'A': [1, 2, None, 4],\n",
        "    'B': [None, 2, 3, None],\n",
        "    'C': [1, 2, 3, 4]\n",
        "}\n",
        "\n",
        "df=pd.DataFrame(data)\n",
        "print(df)\n",
        "\n",
        "print('--------------------------------------')\n",
        "\n",
        " #Fill missing values in column A with the mean of the column.\n",
        "b=df['A'].mean()\n",
        "print(b)\n",
        "df['A'].fillna(b,inplace=True)\n",
        "print(df)\n",
        "\n",
        "print('--------------------------------------')\n",
        "\n",
        "#Drop rows where all values are None.\n",
        "df.dropna(how='all',inplace=True)\n",
        "print(df)"
      ],
      "metadata": {
        "colab": {
          "base_uri": "https://localhost:8080/"
        },
        "id": "mr19rQL-UFU_",
        "outputId": "90d7357c-1040-4fd7-9471-c91f34fd322d"
      },
      "execution_count": null,
      "outputs": [
        {
          "output_type": "stream",
          "name": "stdout",
          "text": [
            "     A    B  C\n",
            "0  1.0  NaN  1\n",
            "1  2.0  2.0  2\n",
            "2  NaN  3.0  3\n",
            "3  4.0  NaN  4\n",
            "--------------------------------------\n",
            "2.3333333333333335\n",
            "          A    B  C\n",
            "0  1.000000  NaN  1\n",
            "1  2.000000  2.0  2\n",
            "2  2.333333  3.0  3\n",
            "3  4.000000  NaN  4\n",
            "--------------------------------------\n",
            "          A    B  C\n",
            "0  1.000000  NaN  1\n",
            "1  2.000000  2.0  2\n",
            "2  2.333333  3.0  3\n",
            "3  4.000000  NaN  4\n"
          ]
        },
        {
          "output_type": "stream",
          "name": "stderr",
          "text": [
            "<ipython-input-16-563f5347f2b9>:15: FutureWarning: A value is trying to be set on a copy of a DataFrame or Series through chained assignment using an inplace method.\n",
            "The behavior will change in pandas 3.0. This inplace method will never work because the intermediate object on which we are setting values always behaves as a copy.\n",
            "\n",
            "For example, when doing 'df[col].method(value, inplace=True)', try using 'df.method({col: value}, inplace=True)' or df[col] = df[col].method(value) instead, to perform the operation inplace on the original object.\n",
            "\n",
            "\n",
            "  df['A'].fillna(b,inplace=True)\n"
          ]
        }
      ]
    },
    {
      "cell_type": "markdown",
      "source": [
        "5. Create a DataFrame for employees:\n",
        "\n",
        "data = {\n",
        "\n",
        "'Department': ['HR', 'HR', 'IT', 'IT', 'Finance'],\n",
        "\n",
        "'Employee': ['Alice', 'Bob', 'Carol', 'David', 'Eve'],\n",
        "\n",
        "'Salary': [50000, 45000, 60000, 65000, 70000]\n",
        "\n",
        "}\n",
        "\n",
        "• Group the data by Department and compute the total and mean salary for each\n",
        "department."
      ],
      "metadata": {
        "id": "be_GpHIpYNNx"
      }
    },
    {
      "cell_type": "code",
      "source": [
        "data = {\n",
        "    'Department': ['HR', 'HR', 'IT', 'IT', 'Finance'],\n",
        "    'Employee': ['Alice', 'Bob', 'Carol', 'David', 'Eve'],\n",
        "    'Salary': [50000, 45000, 60000, 65000, 70000]\n",
        "}\n",
        "\n",
        "a=pd.DataFrame(data)\n",
        "\n",
        "b=a.groupby('Department')\n",
        "print(b['Salary'].sum())\n",
        "\n",
        "print('--------------------------------------')\n",
        "\n",
        "print(b['Salary'].mean())"
      ],
      "metadata": {
        "colab": {
          "base_uri": "https://localhost:8080/"
        },
        "id": "iAVufHQEYWUs",
        "outputId": "0f558b05-93ab-4b0e-9061-7178476a1bd2"
      },
      "execution_count": null,
      "outputs": [
        {
          "output_type": "stream",
          "name": "stdout",
          "text": [
            "Department\n",
            "Finance     70000\n",
            "HR          95000\n",
            "IT         125000\n",
            "Name: Salary, dtype: int64\n",
            "--------------------------------------\n",
            "Department\n",
            "Finance    70000.0\n",
            "HR         47500.0\n",
            "IT         62500.0\n",
            "Name: Salary, dtype: float64\n"
          ]
        }
      ]
    },
    {
      "cell_type": "markdown",
      "source": [
        "6. Given two DataFrames:\n",
        "\n",
        "df1 = pd.DataFrame({'ID': [1, 2, 3], 'Name': ['Alice', 'Bob', 'Carol']})\n",
        "\n",
        "df2 = pd.DataFrame({'ID': [2, 3, 4], 'Age': [25, 30, 22]})\n",
        "\n",
        "• Perform an inner join on the ID column."
      ],
      "metadata": {
        "id": "SpLuE-zIZ9_w"
      }
    },
    {
      "cell_type": "code",
      "source": [
        "df1 = pd.DataFrame({'ID': [1, 2, 3], 'Name': ['Alice', 'Bob', 'Carol']})\n",
        "\n",
        "df2 = pd.DataFrame({'ID': [2, 3, 4], 'Age': [25, 30, 22]})\n",
        "\n",
        "a=pd.merge(df1,df2,on='ID',how='inner')\n",
        "print(a)"
      ],
      "metadata": {
        "colab": {
          "base_uri": "https://localhost:8080/"
        },
        "id": "mgKdytEYaFGD",
        "outputId": "241e833c-83c0-4b0d-924f-f01064f53990"
      },
      "execution_count": null,
      "outputs": [
        {
          "output_type": "stream",
          "name": "stdout",
          "text": [
            "   ID   Name  Age\n",
            "0   2    Bob   25\n",
            "1   3  Carol   30\n"
          ]
        }
      ]
    },
    {
      "cell_type": "markdown",
      "source": [
        "Q7. Given a small dataset, clean and display basic statistics using Pandas."
      ],
      "metadata": {
        "id": "akmStlSxajh_"
      }
    },
    {
      "cell_type": "code",
      "source": [
        "import pandas as pd\n",
        "data = {\n",
        "    'A': [1, 2, None, 4],\n",
        "    'B': [None, 2, 3, None],\n",
        "    'C': [1, 2, 3, 4]\n",
        "}\n",
        "\n",
        "df=pd.DataFrame(data)\n",
        "print(df)\n",
        "\n",
        "\n",
        "\n",
        "b=df['A'].mean()\n",
        "print(b)\n",
        "df['A'].fillna(b,inplace=True)\n",
        "print(df)\n",
        "df1=df.describe()\n",
        "print(df1)"
      ],
      "metadata": {
        "colab": {
          "base_uri": "https://localhost:8080/"
        },
        "id": "xZ_YQfuUE1ld",
        "outputId": "95ab1d2f-049f-4fb9-8c0a-9267e22e72b7"
      },
      "execution_count": null,
      "outputs": [
        {
          "output_type": "stream",
          "name": "stdout",
          "text": [
            "     A    B  C\n",
            "0  1.0  NaN  1\n",
            "1  2.0  2.0  2\n",
            "2  NaN  3.0  3\n",
            "3  4.0  NaN  4\n",
            "2.3333333333333335\n",
            "          A    B  C\n",
            "0  1.000000  NaN  1\n",
            "1  2.000000  2.0  2\n",
            "2  2.333333  3.0  3\n",
            "3  4.000000  NaN  4\n",
            "              A         B         C\n",
            "count  4.000000  2.000000  4.000000\n",
            "mean   2.333333  2.500000  2.500000\n",
            "std    1.247219  0.707107  1.290994\n",
            "min    1.000000  2.000000  1.000000\n",
            "25%    1.750000  2.250000  1.750000\n",
            "50%    2.166667  2.500000  2.500000\n",
            "75%    2.750000  2.750000  3.250000\n",
            "max    4.000000  3.000000  4.000000\n"
          ]
        },
        {
          "output_type": "stream",
          "name": "stderr",
          "text": [
            "<ipython-input-13-c7c74f9d6ef2>:15: FutureWarning: A value is trying to be set on a copy of a DataFrame or Series through chained assignment using an inplace method.\n",
            "The behavior will change in pandas 3.0. This inplace method will never work because the intermediate object on which we are setting values always behaves as a copy.\n",
            "\n",
            "For example, when doing 'df[col].method(value, inplace=True)', try using 'df.method({col: value}, inplace=True)' or df[col] = df[col].method(value) instead, to perform the operation inplace on the original object.\n",
            "\n",
            "\n",
            "  df['A'].fillna(b,inplace=True)\n"
          ]
        }
      ]
    },
    {
      "cell_type": "markdown",
      "source": [
        "8. small EDA task\n",
        "\n",
        "• Load the Titanic dataset (titanic.csv) into a Pandas DataFrame.\n",
        "\n",
        "• Perform the following tasks:\n",
        "\n",
        "o Display the number of missing values in each column.\n",
        "\n",
        "o Find the average age of passengers.\n",
        "\n",
        "o Create a bar plot to show the survival rate based on gender."
      ],
      "metadata": {
        "id": "ZfKl4_jjFxK8"
      }
    },
    {
      "cell_type": "code",
      "source": [
        "import pandas as pd\n",
        "titanic=pd.read_csv('/content/drive/MyDrive/Titanic-Dataset.csv')\n",
        "titanic\n",
        "\n",
        "print('--------------------------------------')\n",
        "\n",
        "#Display the number of missing values in each column.\n",
        "titanic.isnull().sum()\n"
      ],
      "metadata": {
        "colab": {
          "base_uri": "https://localhost:8080/",
          "height": 477
        },
        "id": "qJ4rY7sfHfTF",
        "outputId": "f957367c-2551-46f1-dd68-be5fb51746b9"
      },
      "execution_count": null,
      "outputs": [
        {
          "output_type": "stream",
          "name": "stdout",
          "text": [
            "--------------------------------------\n"
          ]
        },
        {
          "output_type": "execute_result",
          "data": {
            "text/plain": [
              "PassengerId      0\n",
              "Survived         0\n",
              "Pclass           0\n",
              "Name             0\n",
              "Sex              0\n",
              "Age            177\n",
              "SibSp            0\n",
              "Parch            0\n",
              "Ticket           0\n",
              "Fare             0\n",
              "Cabin          687\n",
              "Embarked         2\n",
              "dtype: int64"
            ],
            "text/html": [
              "<div>\n",
              "<style scoped>\n",
              "    .dataframe tbody tr th:only-of-type {\n",
              "        vertical-align: middle;\n",
              "    }\n",
              "\n",
              "    .dataframe tbody tr th {\n",
              "        vertical-align: top;\n",
              "    }\n",
              "\n",
              "    .dataframe thead th {\n",
              "        text-align: right;\n",
              "    }\n",
              "</style>\n",
              "<table border=\"1\" class=\"dataframe\">\n",
              "  <thead>\n",
              "    <tr style=\"text-align: right;\">\n",
              "      <th></th>\n",
              "      <th>0</th>\n",
              "    </tr>\n",
              "  </thead>\n",
              "  <tbody>\n",
              "    <tr>\n",
              "      <th>PassengerId</th>\n",
              "      <td>0</td>\n",
              "    </tr>\n",
              "    <tr>\n",
              "      <th>Survived</th>\n",
              "      <td>0</td>\n",
              "    </tr>\n",
              "    <tr>\n",
              "      <th>Pclass</th>\n",
              "      <td>0</td>\n",
              "    </tr>\n",
              "    <tr>\n",
              "      <th>Name</th>\n",
              "      <td>0</td>\n",
              "    </tr>\n",
              "    <tr>\n",
              "      <th>Sex</th>\n",
              "      <td>0</td>\n",
              "    </tr>\n",
              "    <tr>\n",
              "      <th>Age</th>\n",
              "      <td>177</td>\n",
              "    </tr>\n",
              "    <tr>\n",
              "      <th>SibSp</th>\n",
              "      <td>0</td>\n",
              "    </tr>\n",
              "    <tr>\n",
              "      <th>Parch</th>\n",
              "      <td>0</td>\n",
              "    </tr>\n",
              "    <tr>\n",
              "      <th>Ticket</th>\n",
              "      <td>0</td>\n",
              "    </tr>\n",
              "    <tr>\n",
              "      <th>Fare</th>\n",
              "      <td>0</td>\n",
              "    </tr>\n",
              "    <tr>\n",
              "      <th>Cabin</th>\n",
              "      <td>687</td>\n",
              "    </tr>\n",
              "    <tr>\n",
              "      <th>Embarked</th>\n",
              "      <td>2</td>\n",
              "    </tr>\n",
              "  </tbody>\n",
              "</table>\n",
              "</div><br><label><b>dtype:</b> int64</label>"
            ]
          },
          "metadata": {},
          "execution_count": 10
        }
      ]
    },
    {
      "cell_type": "code",
      "source": [
        "#Find the average age of passengers.\n",
        "titanic['Age'].mean()"
      ],
      "metadata": {
        "colab": {
          "base_uri": "https://localhost:8080/"
        },
        "id": "uDsBNsVHKBau",
        "outputId": "24bdf8ff-8053-4179-8704-9f91b983d5bf"
      },
      "execution_count": null,
      "outputs": [
        {
          "output_type": "execute_result",
          "data": {
            "text/plain": [
              "29.69911764705882"
            ]
          },
          "metadata": {},
          "execution_count": 8
        }
      ]
    },
    {
      "cell_type": "code",
      "source": [
        "#Create a bar plot to show the survival rate based on gender.\n",
        "titanic.groupby('Sex')['Survived'].mean().plot(kind='bar')"
      ],
      "metadata": {
        "colab": {
          "base_uri": "https://localhost:8080/",
          "height": 500
        },
        "id": "uMLUO9i2KItS",
        "outputId": "b657226d-fb53-4e1a-96c6-6087969eb4b6"
      },
      "execution_count": null,
      "outputs": [
        {
          "output_type": "execute_result",
          "data": {
            "text/plain": [
              "<Axes: xlabel='Sex'>"
            ]
          },
          "metadata": {},
          "execution_count": 11
        },
        {
          "output_type": "display_data",
          "data": {
            "text/plain": [
              "<Figure size 640x480 with 1 Axes>"
            ],
            "image/png": "[encoded data removed]"
          },
          "metadata": {}
        }
      ]
    },
    {
      "cell_type": "markdown",
      "source": [
        "Q9. Data Transformation\n",
        "\n",
        "• Load a dataset containing daily temperatures and dates. Perform the following:\n",
        "\n",
        "o Convert the date column into a DateTime object.\n",
        "\n",
        "o Create a new column that categorizes temperatures into High, Medium, or Low."
      ],
      "metadata": {
        "id": "vNIdshCAKQWE"
      }
    },
    {
      "cell_type": "code",
      "source": [
        "import pandas as pd\n",
        "data=pd.read_csv('/content/drive/MyDrive/temperature.csv')\n",
        "data"
      ],
      "metadata": {
        "colab": {
          "base_uri": "https://localhost:8080/",
          "height": 530
        },
        "id": "oiOOQVa90koq",
        "outputId": "dc2d3eb0-11b2-4220-e169-849ec11d0d83"
      },
      "execution_count": 1,
      "outputs": [
        {
          "output_type": "execute_result",
          "data": {
            "text/plain": [
              "       record_id  month  day  year  AverageTemperatureFahr  \\\n",
              "0         474376      1    1  1853                     NaN   \n",
              "1         474377      2    1  1853                     NaN   \n",
              "2         474378      3    1  1853                     NaN   \n",
              "3         474379      4    1  1853                     NaN   \n",
              "4         474380      5    1  1853                     NaN   \n",
              "...          ...    ...  ...   ...                     ...   \n",
              "48465    8258726      5    1  2013                 55.0544   \n",
              "48466    8258727      6    1  2013                 61.1672   \n",
              "48467    8258728      7    1  2013                 66.7706   \n",
              "48468    8258729      8    1  2013                 64.5656   \n",
              "48469    8258730      9    1  2013                     NaN   \n",
              "\n",
              "       AverageTemperatureUncertaintyFahr      City country_id      Country  \\\n",
              "0                                    NaN  Auckland        NEW  New Zealand   \n",
              "1                                    NaN  Auckland        NEW  New Zealand   \n",
              "2                                    NaN  Auckland        NEW  New Zealand   \n",
              "3                                    NaN  Auckland        NEW  New Zealand   \n",
              "4                                    NaN  Auckland        NEW  New Zealand   \n",
              "...                                  ...       ...        ...          ...   \n",
              "48465                            32.4896   Wroclaw        POL       Poland   \n",
              "48466                            32.3330   Wroclaw        POL       Poland   \n",
              "48467                            32.5706   Wroclaw        POL       Poland   \n",
              "48468                            32.4842   Wroclaw        POL       Poland   \n",
              "48469                                NaN   Wroclaw        POL       Poland   \n",
              "\n",
              "      Latitude Longitude  \n",
              "0       36.17S   175.03E  \n",
              "1       36.17S   175.03E  \n",
              "2       36.17S   175.03E  \n",
              "3       36.17S   175.03E  \n",
              "4       36.17S   175.03E  \n",
              "...        ...       ...  \n",
              "48465   50.63N    16.48E  \n",
              "48466   50.63N    16.48E  \n",
              "48467   50.63N    16.48E  \n",
              "48468   50.63N    16.48E  \n",
              "48469   50.63N    16.48E  \n",
              "\n",
              "[48470 rows x 11 columns]"
            ],
            "text/html": [
              "\n",
              "  <div id=\"df-7c9532c6-ccff-4de4-ae28-f7a19b05a5e8\" class=\"colab-df-container\">\n",
              "    <div>\n",
              "<style scoped>\n",
              "    .dataframe tbody tr th:only-of-type {\n",
              "        vertical-align: middle;\n",
              "    }\n",
              "\n",
              "    .dataframe tbody tr th {\n",
              "        vertical-align: top;\n",
              "    }\n",
              "\n",
              "    .dataframe thead th {\n",
              "        text-align: right;\n",
              "    }\n",
              "</style>\n",
              "<table border=\"1\" class=\"dataframe\">\n",
              "  <thead>\n",
              "    <tr style=\"text-align: right;\">\n",
              "      <th></th>\n",
              "      <th>record_id</th>\n",
              "      <th>month</th>\n",
              "      <th>day</th>\n",
              "      <th>year</th>\n",
              "      <th>AverageTemperatureFahr</th>\n",
              "      <th>AverageTemperatureUncertaintyFahr</th>\n",
              "      <th>City</th>\n",
              "      <th>country_id</th>\n",
              "      <th>Country</th>\n",
              "      <th>Latitude</th>\n",
              "      <th>Longitude</th>\n",
              "    </tr>\n",
              "  </thead>\n",
              "  <tbody>\n",
              "    <tr>\n",
              "      <th>0</th>\n",
              "      <td>474376</td>\n",
              "      <td>1</td>\n",
              "      <td>1</td>\n",
              "      <td>1853</td>\n",
              "      <td>NaN</td>\n",
              "      <td>NaN</td>\n",
              "      <td>Auckland</td>\n",
              "      <td>NEW</td>\n",
              "      <td>New Zealand</td>\n",
              "      <td>36.17S</td>\n",
              "      <td>175.03E</td>\n",
              "    </tr>\n",
              "    <tr>\n",
              "      <th>1</th>\n",
              "      <td>474377</td>\n",
              "      <td>2</td>\n",
              "      <td>1</td>\n",
              "      <td>1853</td>\n",
              "      <td>NaN</td>\n",
              "      <td>NaN</td>\n",
              "      <td>Auckland</td>\n",
              "      <td>NEW</td>\n",
              "      <td>New Zealand</td>\n",
              "      <td>36.17S</td>\n",
              "      <td>175.03E</td>\n",
              "    </tr>\n",
              "    <tr>\n",
              "      <th>2</th>\n",
              "      <td>474378</td>\n",
              "      <td>3</td>\n",
              "      <td>1</td>\n",
              "      <td>1853</td>\n",
              "      <td>NaN</td>\n",
              "      <td>NaN</td>\n",
              "      <td>Auckland</td>\n",
              "      <td>NEW</td>\n",
              "      <td>New Zealand</td>\n",
              "      <td>36.17S</td>\n",
              "      <td>175.03E</td>\n",
              "    </tr>\n",
              "    <tr>\n",
              "      <th>3</th>\n",
              "      <td>474379</td>\n",
              "      <td>4</td>\n",
              "      <td>1</td>\n",
              "      <td>1853</td>\n",
              "      <td>NaN</td>\n",
              "      <td>NaN</td>\n",
              "      <td>Auckland</td>\n",
              "      <td>NEW</td>\n",
              "      <td>New Zealand</td>\n",
              "      <td>36.17S</td>\n",
              "      <td>175.03E</td>\n",
              "    </tr>\n",
              "    <tr>\n",
              "      <th>4</th>\n",
              "      <td>474380</td>\n",
              "      <td>5</td>\n",
              "      <td>1</td>\n",
              "      <td>1853</td>\n",
              "      <td>NaN</td>\n",
              "      <td>NaN</td>\n",
              "      <td>Auckland</td>\n",
              "      <td>NEW</td>\n",
              "      <td>New Zealand</td>\n",
              "      <td>36.17S</td>\n",
              "      <td>175.03E</td>\n",
              "    </tr>\n",
              "    <tr>\n",
              "      <th>...</th>\n",
              "      <td>...</td>\n",
              "      <td>...</td>\n",
              "      <td>...</td>\n",
              "      <td>...</td>\n",
              "      <td>...</td>\n",
              "      <td>...</td>\n",
              "      <td>...</td>\n",
              "      <td>...</td>\n",
              "      <td>...</td>\n",
              "      <td>...</td>\n",
              "      <td>...</td>\n",
              "    </tr>\n",
              "    <tr>\n",
              "      <th>48465</th>\n",
              "      <td>8258726</td>\n",
              "      <td>5</td>\n",
              "      <td>1</td>\n",
              "      <td>2013</td>\n",
              "      <td>55.0544</td>\n",
              "      <td>32.4896</td>\n",
              "      <td>Wroclaw</td>\n",
              "      <td>POL</td>\n",
              "      <td>Poland</td>\n",
              "      <td>50.63N</td>\n",
              "      <td>16.48E</td>\n",
              "    </tr>\n",
              "    <tr>\n",
              "      <th>48466</th>\n",
              "      <td>8258727</td>\n",
              "      <td>6</td>\n",
              "      <td>1</td>\n",
              "      <td>2013</td>\n",
              "      <td>61.1672</td>\n",
              "      <td>32.3330</td>\n",
              "      <td>Wroclaw</td>\n",
              "      <td>POL</td>\n",
              "      <td>Poland</td>\n",
              "      <td>50.63N</td>\n",
              "      <td>16.48E</td>\n",
              "    </tr>\n",
              "    <tr>\n",
              "      <th>48467</th>\n",
              "      <td>8258728</td>\n",
              "      <td>7</td>\n",
              "      <td>1</td>\n",
              "      <td>2013</td>\n",
              "      <td>66.7706</td>\n",
              "      <td>32.5706</td>\n",
              "      <td>Wroclaw</td>\n",
              "      <td>POL</td>\n",
              "      <td>Poland</td>\n",
              "      <td>50.63N</td>\n",
              "      <td>16.48E</td>\n",
              "    </tr>\n",
              "    <tr>\n",
              "      <th>48468</th>\n",
              "      <td>8258729</td>\n",
              "      <td>8</td>\n",
              "      <td>1</td>\n",
              "      <td>2013</td>\n",
              "      <td>64.5656</td>\n",
              "      <td>32.4842</td>\n",
              "      <td>Wroclaw</td>\n",
              "      <td>POL</td>\n",
              "      <td>Poland</td>\n",
              "      <td>50.63N</td>\n",
              "      <td>16.48E</td>\n",
              "    </tr>\n",
              "    <tr>\n",
              "      <th>48469</th>\n",
              "      <td>8258730</td>\n",
              "      <td>9</td>\n",
              "      <td>1</td>\n",
              "      <td>2013</td>\n",
              "      <td>NaN</td>\n",
              "      <td>NaN</td>\n",
              "      <td>Wroclaw</td>\n",
              "      <td>POL</td>\n",
              "      <td>Poland</td>\n",
              "      <td>50.63N</td>\n",
              "      <td>16.48E</td>\n",
              "    </tr>\n",
              "  </tbody>\n",
              "</table>\n",
              "<p>48470 rows × 11 columns</p>\n",
              "</div>\n",
              "    <div class=\"colab-df-buttons\">\n",
              "\n",
              "  <div class=\"colab-df-container\">\n",
              "    <button class=\"colab-df-convert\" onclick=\"convertToInteractive('df-7c9532c6-ccff-4de4-ae28-f7a19b05a5e8')\"\n",
              "            title=\"Convert this dataframe to an interactive table.\"\n",
              "            style=\"display:none;\">\n",
              "\n",
              "  <svg xmlns=\"http://www.w3.org/2000/svg\" height=\"24px\" viewBox=\"0 -960 960 960\">\n",
              "    <path d=\"M120-120v-720h720v720H120Zm60-500h600v-160H180v160Zm220 220h160v-160H400v160Zm0 220h160v-160H400v160ZM180-400h160v-160H180v160Zm440 0h160v-160H620v160ZM180-180h160v-160H180v160Zm440 0h160v-160H620v160Z\"/>\n",
              "  </svg>\n",
              "    </button>\n",
              "\n",
              "  <style>\n",
              "    .colab-df-container {\n",
              "      display:flex;\n",
              "      gap: 12px;\n",
              "    }\n",
              "\n",
              "    .colab-df-convert {\n",
              "      background-color: #E8F0FE;\n",
              "      border: none;\n",
              "      border-radius: 50%;\n",
              "      cursor: pointer;\n",
              "      display: none;\n",
              "      fill: #1967D2;\n",
              "      height: 32px;\n",
              "      padding: 0 0 0 0;\n",
              "      width: 32px;\n",
              "    }\n",
              "\n",
              "    .colab-df-convert:hover {\n",
              "      background-color: #E2EBFA;\n",
              "      box-shadow: 0px 1px 2px rgba(60, 64, 67, 0.3), 0px 1px 3px 1px rgba(60, 64, 67, 0.15);\n",
              "      fill: #174EA6;\n",
              "    }\n",
              "\n",
              "    .colab-df-buttons div {\n",
              "      margin-bottom: 4px;\n",
              "    }\n",
              "\n",
              "    [theme=dark] .colab-df-convert {\n",
              "      background-color: #3B4455;\n",
              "      fill: #D2E3FC;\n",
              "    }\n",
              "\n",
              "    [theme=dark] .colab-df-convert:hover {\n",
              "      background-color: #434B5C;\n",
              "      box-shadow: 0px 1px 3px 1px rgba(0, 0, 0, 0.15);\n",
              "      filter: drop-shadow(0px 1px 2px rgba(0, 0, 0, 0.3));\n",
              "      fill: #FFFFFF;\n",
              "    }\n",
              "  </style>\n",
              "\n",
              "    <script>\n",
              "      const buttonEl =\n",
              "        document.querySelector('#df-7c9532c6-ccff-4de4-ae28-f7a19b05a5e8 button.colab-df-convert');\n",
              "      buttonEl.style.display =\n",
              "        google.colab.kernel.accessAllowed ? 'block' : 'none';\n",
              "\n",
              "      async function convertToInteractive(key) {\n",
              "        const element = document.querySelector('#df-7c9532c6-ccff-4de4-ae28-f7a19b05a5e8');\n",
              "        const dataTable =\n",
              "          await google.colab.kernel.invokeFunction('convertToInteractive',\n",
              "                                                    [key], {});\n",
              "        if (!dataTable) return;\n",
              "\n",
              "        const docLinkHtml = 'Like what you see? Visit the ' +\n",
              "          '<a target=\"_blank\" href=https://colab.research.google.com/notebooks/data_table.ipynb>data table notebook</a>'\n",
              "          + ' to learn more about interactive tables.';\n",
              "        element.innerHTML = '';\n",
              "        dataTable['output_type'] = 'display_data';\n",
              "        await google.colab.output.renderOutput(dataTable, element);\n",
              "        const docLink = document.createElement('div');\n",
              "        docLink.innerHTML = docLinkHtml;\n",
              "        element.appendChild(docLink);\n",
              "      }\n",
              "    </script>\n",
              "  </div>\n",
              "\n",
              "\n",
              "<div id=\"df-dcfe001c-23ed-4dcb-8657-3a957cf79288\">\n",
              "  <button class=\"colab-df-quickchart\" onclick=\"quickchart('df-dcfe001c-23ed-4dcb-8657-3a957cf79288')\"\n",
              "            title=\"Suggest charts\"\n",
              "            style=\"display:none;\">\n",
              "\n",
              "<svg xmlns=\"http://www.w3.org/2000/svg\" height=\"24px\"viewBox=\"0 0 24 24\"\n",
              "     width=\"24px\">\n",
              "    <g>\n",
              "        <path d=\"M19 3H5c-1.1 0-2 .9-2 2v14c0 1.1.9 2 2 2h14c1.1 0 2-.9 2-2V5c0-1.1-.9-2-2-2zM9 17H7v-7h2v7zm4 0h-2V7h2v10zm4 0h-2v-4h2v4z\"/>\n",
              "    </g>\n",
              "</svg>\n",
              "  </button>\n",
              "\n",
              "<style>\n",
              "  .colab-df-quickchart {\n",
              "      --bg-color: #E8F0FE;\n",
              "      --fill-color: #1967D2;\n",
              "      --hover-bg-color: #E2EBFA;\n",
              "      --hover-fill-color: #174EA6;\n",
              "      --disabled-fill-color: #AAA;\n",
              "      --disabled-bg-color: #DDD;\n",
              "  }\n",
              "\n",
              "  [theme=dark] .colab-df-quickchart {\n",
              "      --bg-color: #3B4455;\n",
              "      --fill-color: #D2E3FC;\n",
              "      --hover-bg-color: #434B5C;\n",
              "      --hover-fill-color: #FFFFFF;\n",
              "      --disabled-bg-color: #3B4455;\n",
              "      --disabled-fill-color: #666;\n",
              "  }\n",
              "\n",
              "  .colab-df-quickchart {\n",
              "    background-color: var(--bg-color);\n",
              "    border: none;\n",
              "    border-radius: 50%;\n",
              "    cursor: pointer;\n",
              "    display: none;\n",
              "    fill: var(--fill-color);\n",
              "    height: 32px;\n",
              "    padding: 0;\n",
              "    width: 32px;\n",
              "  }\n",
              "\n",
              "  .colab-df-quickchart:hover {\n",
              "    background-color: var(--hover-bg-color);\n",
              "    box-shadow: 0 1px 2px rgba(60, 64, 67, 0.3), 0 1px 3px 1px rgba(60, 64, 67, 0.15);\n",
              "    fill: var(--button-hover-fill-color);\n",
              "  }\n",
              "\n",
              "  .colab-df-quickchart-complete:disabled,\n",
              "  .colab-df-quickchart-complete:disabled:hover {\n",
              "    background-color: var(--disabled-bg-color);\n",
              "    fill: var(--disabled-fill-color);\n",
              "    box-shadow: none;\n",
              "  }\n",
              "\n",
              "  .colab-df-spinner {\n",
              "    border: 2px solid var(--fill-color);\n",
              "    border-color: transparent;\n",
              "    border-bottom-color: var(--fill-color);\n",
              "    animation:\n",
              "      spin 1s steps(1) infinite;\n",
              "  }\n",
              "\n",
              "  @keyframes spin {\n",
              "    0% {\n",
              "      border-color: transparent;\n",
              "      border-bottom-color: var(--fill-color);\n",
              "      border-left-color: var(--fill-color);\n",
              "    }\n",
              "    20% {\n",
              "      border-color: transparent;\n",
              "      border-left-color: var(--fill-color);\n",
              "      border-top-color: var(--fill-color);\n",
              "    }\n",
              "    30% {\n",
              "      border-color: transparent;\n",
              "      border-left-color: var(--fill-color);\n",
              "      border-top-color: var(--fill-color);\n",
              "      border-right-color: var(--fill-color);\n",
              "    }\n",
              "    40% {\n",
              "      border-color: transparent;\n",
              "      border-right-color: var(--fill-color);\n",
              "      border-top-color: var(--fill-color);\n",
              "    }\n",
              "    60% {\n",
              "      border-color: transparent;\n",
              "      border-right-color: var(--fill-color);\n",
              "    }\n",
              "    80% {\n",
              "      border-color: transparent;\n",
              "      border-right-color: var(--fill-color);\n",
              "      border-bottom-color: var(--fill-color);\n",
              "    }\n",
              "    90% {\n",
              "      border-color: transparent;\n",
              "      border-bottom-color: var(--fill-color);\n",
              "    }\n",
              "  }\n",
              "</style>\n",
              "\n",
              "  <script>\n",
              "    async function quickchart(key) {\n",
              "      const quickchartButtonEl =\n",
              "        document.querySelector('#' + key + ' button');\n",
              "      quickchartButtonEl.disabled = true;  // To prevent multiple clicks.\n",
              "      quickchartButtonEl.classList.add('colab-df-spinner');\n",
              "      try {\n",
              "        const charts = await google.colab.kernel.invokeFunction(\n",
              "            'suggestCharts', [key], {});\n",
              "      } catch (error) {\n",
              "        console.error('Error during call to suggestCharts:', error);\n",
              "      }\n",
              "      quickchartButtonEl.classList.remove('colab-df-spinner');\n",
              "      quickchartButtonEl.classList.add('colab-df-quickchart-complete');\n",
              "    }\n",
              "    (() => {\n",
              "      let quickchartButtonEl =\n",
              "        document.querySelector('#df-dcfe001c-23ed-4dcb-8657-3a957cf79288 button');\n",
              "      quickchartButtonEl.style.display =\n",
              "        google.colab.kernel.accessAllowed ? 'block' : 'none';\n",
              "    })();\n",
              "  </script>\n",
              "</div>\n",
              "\n",
              "  <div id=\"id_c86e4605-06a7-41ca-b5a3-43747b594133\">\n",
              "    <style>\n",
              "      .colab-df-generate {\n",
              "        background-color: #E8F0FE;\n",
              "        border: none;\n",
              "        border-radius: 50%;\n",
              "        cursor: pointer;\n",
              "        display: none;\n",
              "        fill: #1967D2;\n",
              "        height: 32px;\n",
              "        padding: 0 0 0 0;\n",
              "        width: 32px;\n",
              "      }\n",
              "\n",
              "      .colab-df-generate:hover {\n",
              "        background-color: #E2EBFA;\n",
              "        box-shadow: 0px 1px 2px rgba(60, 64, 67, 0.3), 0px 1px 3px 1px rgba(60, 64, 67, 0.15);\n",
              "        fill: #174EA6;\n",
              "      }\n",
              "\n",
              "      [theme=dark] .colab-df-generate {\n",
              "        background-color: #3B4455;\n",
              "        fill: #D2E3FC;\n",
              "      }\n",
              "\n",
              "      [theme=dark] .colab-df-generate:hover {\n",
              "        background-color: #434B5C;\n",
              "        box-shadow: 0px 1px 3px 1px rgba(0, 0, 0, 0.15);\n",
              "        filter: drop-shadow(0px 1px 2px rgba(0, 0, 0, 0.3));\n",
              "        fill: #FFFFFF;\n",
              "      }\n",
              "    </style>\n",
              "    <button class=\"colab-df-generate\" onclick=\"generateWithVariable('data')\"\n",
              "            title=\"Generate code using this dataframe.\"\n",
              "            style=\"display:none;\">\n",
              "\n",
              "  <svg xmlns=\"http://www.w3.org/2000/svg\" height=\"24px\"viewBox=\"0 0 24 24\"\n",
              "       width=\"24px\">\n",
              "    <path d=\"M7,19H8.4L18.45,9,17,7.55,7,17.6ZM5,21V16.75L18.45,3.32a2,2,0,0,1,2.83,0l1.4,1.43a1.91,1.91,0,0,1,.58,1.4,1.91,1.91,0,0,1-.58,1.4L9.25,21ZM18.45,9,17,7.55Zm-12,3A5.31,5.31,0,0,0,4.9,8.1,5.31,5.31,0,0,0,1,6.5,5.31,5.31,0,0,0,4.9,4.9,5.31,5.31,0,0,0,6.5,1,5.31,5.31,0,0,0,8.1,4.9,5.31,5.31,0,0,0,12,6.5,5.46,5.46,0,0,0,6.5,12Z\"/>\n",
              "  </svg>\n",
              "    </button>\n",
              "    <script>\n",
              "      (() => {\n",
              "      const buttonEl =\n",
              "        document.querySelector('#id_c86e4605-06a7-41ca-b5a3-43747b594133 button.colab-df-generate');\n",
              "      buttonEl.style.display =\n",
              "        google.colab.kernel.accessAllowed ? 'block' : 'none';\n",
              "\n",
              "      buttonEl.onclick = () => {\n",
              "        google.colab.notebook.generateWithVariable('data');\n",
              "      }\n",
              "      })();\n",
              "    </script>\n",
              "  </div>\n",
              "\n",
              "    </div>\n",
              "  </div>\n"
            ],
            "application/vnd.google.colaboratory.intrinsic+json": {
              "type": "dataframe",
              "variable_name": "data",
              "summary": "{\n  \"name\": \"data\",\n  \"rows\": 48470,\n  \"fields\": [\n    {\n      \"column\": \"record_id\",\n      \"properties\": {\n        \"dtype\": \"number\",\n        \"std\": 2452494,\n        \"min\": 474376,\n        \"max\": 8258730,\n        \"num_unique_values\": 48470,\n        \"samples\": [\n          476276,\n          7661109,\n          8159257\n        ],\n        \"semantic_type\": \"\",\n        \"description\": \"\"\n      }\n    },\n    {\n      \"column\": \"month\",\n      \"properties\": {\n        \"dtype\": \"number\",\n        \"std\": 3,\n        \"min\": 1,\n        \"max\": 12,\n        \"num_unique_values\": 12,\n        \"samples\": [\n          11,\n          10,\n          1\n        ],\n        \"semantic_type\": \"\",\n        \"description\": \"\"\n      }\n    },\n    {\n      \"column\": \"day\",\n      \"properties\": {\n        \"dtype\": \"number\",\n        \"std\": 0,\n        \"min\": 1,\n        \"max\": 1,\n        \"num_unique_values\": 1,\n        \"samples\": [\n          1\n        ],\n        \"semantic_type\": \"\",\n        \"description\": \"\"\n      }\n    },\n    {\n      \"column\": \"year\",\n      \"properties\": {\n        \"dtype\": \"number\",\n        \"std\": 73,\n        \"min\": 1743,\n        \"max\": 2013,\n        \"num_unique_values\": 271,\n        \"samples\": [\n          1883\n        ],\n        \"semantic_type\": \"\",\n        \"description\": \"\"\n      }\n    },\n    {\n      \"column\": \"AverageTemperatureFahr\",\n      \"properties\": {\n        \"dtype\": \"number\",\n        \"std\": 15.064099904723406,\n        \"min\": 2.85619999999999,\n        \"max\": 84.6554,\n        \"num_unique_values\": 24122,\n        \"samples\": [\n          58.874\n        ],\n        \"semantic_type\": \"\",\n        \"description\": \"\"\n      }\n    },\n    {\n      \"column\": \"AverageTemperatureUncertaintyFahr\",\n      \"properties\": {\n        \"dtype\": \"number\",\n        \"std\": 2.7962253453651913,\n        \"min\": 32.0882,\n        \"max\": 56.6798,\n        \"num_unique_values\": 5997,\n        \"samples\": [\n          34.844\n        ],\n        \"semantic_type\": \"\",\n        \"description\": \"\"\n      }\n    },\n    {\n      \"column\": \"City\",\n      \"properties\": {\n        \"dtype\": \"category\",\n        \"num_unique_values\": 18,\n        \"samples\": [\n          \"Auckland\"\n        ],\n        \"semantic_type\": \"\",\n        \"description\": \"\"\n      }\n    },\n    {\n      \"column\": \"country_id\",\n      \"properties\": {\n        \"dtype\": \"category\",\n        \"num_unique_values\": 8,\n        \"samples\": [\n          \"BRA\"\n        ],\n        \"semantic_type\": \"\",\n        \"description\": \"\"\n      }\n    },\n    {\n      \"column\": \"Country\",\n      \"properties\": {\n        \"dtype\": \"category\",\n        \"num_unique_values\": 8,\n        \"samples\": [\n          \"Brazil\"\n        ],\n        \"semantic_type\": \"\",\n        \"description\": \"\"\n      }\n    },\n    {\n      \"column\": \"Latitude\",\n      \"properties\": {\n        \"dtype\": \"category\",\n        \"num_unique_values\": 16,\n        \"samples\": [\n          \"36.17S\"\n        ],\n        \"semantic_type\": \"\",\n        \"description\": \"\"\n      }\n    },\n    {\n      \"column\": \"Longitude\",\n      \"properties\": {\n        \"dtype\": \"category\",\n        \"num_unique_values\": 18,\n        \"samples\": [\n          \"175.03E\"\n        ],\n        \"semantic_type\": \"\",\n        \"description\": \"\"\n      }\n    }\n  ]\n}"
            }
          },
          "metadata": {},
          "execution_count": 1
        }
      ]
    }
  ]
}